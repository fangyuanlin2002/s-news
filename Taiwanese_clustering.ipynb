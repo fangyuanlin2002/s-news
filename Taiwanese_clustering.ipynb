{
 "cells": [
  {
   "cell_type": "code",
   "execution_count": 6,
   "metadata": {},
   "outputs": [],
   "source": [
    "# manage data\n",
    "import pandas as pd\n",
    "from urllib.parse import quote_plus\n",
    "from sqlalchemy import create_engine\n",
    "from tqdm.auto import tqdm  # Updated import\n",
    "\n",
    "# embeddings\n",
    "from sentence_transformers import SentenceTransformer\n",
    "\n",
    "# translation\n",
    "from transformers import pipeline\n",
    "\n",
    "# dimensionality reduction\n",
    "import umap\n",
    "\n",
    "# clustering\n",
    "import hdbscan\n",
    "\n",
    "# extract keywords from texts\n",
    "from keybert import KeyBERT\n",
    "\n",
    "# visualization\n",
    "import plotly.express as px"
   ]
  },
  {
   "cell_type": "code",
   "execution_count": 7,
   "metadata": {},
   "outputs": [],
   "source": [
    "# —— CONFIG —— \n",
    "SAMPLE_SIZE = 100  # Only process 100 articles for now\n",
    "BATCH_SIZE = 32\n",
    "EMBED_MODEL = \"all-mpnet-base-v2\"\n",
    "TRANSLATE_MODEL = \"Helsinki-NLP/opus-mt-zh-en\"\n",
    "UMAP_KWARGS = dict(n_components=2, n_neighbors=50, min_dist=0.1)\n",
    "HDBSCAN_KWARGS = dict(min_cluster_size=10)"
   ]
  },
  {
   "cell_type": "code",
   "execution_count": 8,
   "metadata": {},
   "outputs": [
    {
     "name": "stdout",
     "output_type": "stream",
     "text": [
      "Loaded 100 articles\n",
      "   id                                title  \\\n",
      "0   1       \\n  谷歌在美砸250億美元 建資料中心和AI基礎設施\\n   \n",
      "1   2                  \\n  川普再度施壓Fed調降利率\\n   \n",
      "2   3            \\n  台電員工遭高壓線路電擊　卓榮泰關注不捨\\n   \n",
      "3   4   \\n  輝達飆4％、台積電ADR漲3％ 台指期夜盤劍指23K關卡\\n   \n",
      "4   5           \\n  大樂透頭獎連13摃  下期上看4.4億元\\n   \n",
      "\n",
      "                                             content  \n",
      "0  \\n科技巨頭谷歌15日宣布，未來兩年將砸下250億美元，在美國最大電網區建造資料中心與AI基...  \n",
      "1  \\n美國總統川普15日在自家社群平台Truth Social連發數文，再度施壓美國聯準會（F...  \n",
      "2  \\n丹娜絲颱風造成嘉義縣逾26萬戶停電，台電人員不分晝夜全力搶修，但在15日傳出一起高壓線路...  \n",
      "3  \\n市場傳出美國政府同意解除中國科技禁令，放行輝達H20銷往中國，資金受激勵追捧輝達概念股，...  \n",
      "4  \\n大樂透本期(7/15)頭獎未開出，目前連13摃，台灣彩券表示，下期(7/18)預估銷售1...  \n"
     ]
    }
   ],
   "source": [
    "# Postgres creds (URL-encode the password)\n",
    "USER = \"postgres\"\n",
    "PASSWORD = quote_plus(\"4b.3O_XD?C9\")\n",
    "HOST = \"54.46.7.169\"\n",
    "PORT = 5432\n",
    "DBNAME = \"mydb\"\n",
    "\n",
    "DB_URL = f\"postgresql+psycopg2://{USER}:{PASSWORD}@{HOST}:{PORT}/{DBNAME}\"\n",
    "engine = create_engine(DB_URL)\n",
    "query = f\"\"\"\n",
    "    SELECT id, title, content \n",
    "    FROM news \n",
    "    WHERE content IS NOT NULL AND LENGTH(content) > 50\n",
    "    LIMIT {SAMPLE_SIZE}\n",
    "\"\"\"\n",
    "df = pd.read_sql(query, engine)\n",
    "print(f\"Loaded {len(df)} articles\")\n",
    "print(df.head())"
   ]
  },
  {
   "cell_type": "code",
   "execution_count": 10,
   "metadata": {},
   "outputs": [
    {
     "name": "stdout",
     "output_type": "stream",
     "text": [
      "🔄 Initializing translator...\n"
     ]
    },
    {
     "name": "stderr",
     "output_type": "stream",
     "text": [
      "/Users/fangyuanlin/mambaforge3/lib/python3.10/site-packages/transformers/models/marian/tokenization_marian.py:175: UserWarning: Recommended: pip install sacremoses.\n",
      "  warnings.warn(\"Recommended: pip install sacremoses.\")\n",
      "Device set to use mps:0\n"
     ]
    }
   ],
   "source": [
    "# 2. Translation with Immediate Output\n",
    "print(\"🔄 Initializing translator...\")\n",
    "translator = pipeline(\"translation\", model=TRANSLATE_MODEL)\n",
    "\n",
    "def translate_and_print(idx, text):\n",
    "    if pd.isna(text) or len(text) < 20:\n",
    "        print(f\"\\n📄 Article {idx}: [SKIPPED - Too short]\")\n",
    "        return \"\"\n",
    "    \n",
    "    try:\n",
    "        print(f\"\\n📄 Original (Article {idx}):\")\n",
    "        print(text[:200] + (\"...\" if len(text) > 200 else \"\"))\n",
    "        \n",
    "        translated = translator(text[:200], max_length=250)[0]['translation_text']\n",
    "        \n",
    "        print(f\"\\n🌍 Translation:\")\n",
    "        print(translated)\n",
    "        print(\"-\"*50)\n",
    "        return translated\n",
    "    except Exception as e:\n",
    "        print(f\"\\n⚠️ Translation error in article {idx}: {e}\")\n",
    "        return \"\""
   ]
  },
  {
   "cell_type": "code",
   "execution_count": 12,
   "metadata": {},
   "outputs": [
    {
     "name": "stdout",
     "output_type": "stream",
     "text": [
      "🔄 Initializing translator...\n"
     ]
    },
    {
     "name": "stderr",
     "output_type": "stream",
     "text": [
      "Device set to use mps:0\n"
     ]
    },
    {
     "name": "stdout",
     "output_type": "stream",
     "text": [
      "🚀 Starting translation process...\n"
     ]
    },
    {
     "data": {
      "application/vnd.jupyter.widget-view+json": {
       "model_id": "11e17e341292447ab3969c129784cb33",
       "version_major": 2,
       "version_minor": 0
      },
      "text/plain": [
       "  0%|          | 0/100 [00:00<?, ?it/s]"
      ]
     },
     "metadata": {},
     "output_type": "display_data"
    },
    {
     "name": "stdout",
     "output_type": "stream",
     "text": [
      "\n",
      "📄 Original (Article 1):\n",
      "\n",
      "科技巨頭谷歌15日宣布，未來兩年將砸下250億美元，在美國最大電網區建造資料中心與AI基礎設施。\n",
      "\n",
      "谷歌投資鎖定的地點，橫跨中大西洋區及中西部、南部共13州，這些地區由全美最大電網營運機構「PJM電網聯營系統」（PJM Interconnection）負責供電。PJM供電區域，也涵蓋在北維吉尼亞州的全球最大資料中心聚落。\n",
      "\n",
      "谷歌透露將花費30億美元，用於賓州兩座水力發電廠的現代化工程，以迎合資料...\n",
      "\n",
      "🌍 Translation:\n",
      "Google, the tech giant Google, announced that it would cost $25 billion over the next two years to build a data center in the largest electricity grid in the United States and an AI infrastructure. Google investment in a targeted location across the Mid-Atlantic region and the Mid-West, and 13 states in the South, where the PJM Networking System, the country’s largest power network, is responsible for power supply.\n",
      "--------------------------------------------------\n",
      "\n",
      "📄 Original (Article 2):\n",
      "\n",
      "美國總統川普15日在自家社群平台Truth Social連發數文，再度施壓美國聯準會（Fed）調降利率。\n",
      "川普表示：「美國消費者物價指數很低。Fed現在就該降息！Fed應該將利率大幅下調3個百分點。目前通貨膨脹非常低，如果降息的話，一年能為美國節省1兆美元！」\n",
      "\n",
      "🌍 Translation:\n",
      "US President Truth Social 15 posted a series of tweets on his own social platform, “Truth Social, again pressurizes the US Associated Council (Fed) to lower interest rates.” Trump says, “The US consumer price index is low. Fed should have cut interest rates now. Fed should have raised interest rates by three points. The current inflation rate is very low, and if it does, it will save the US $1 trillion a year.”\n",
      "--------------------------------------------------\n",
      "\n",
      "📄 Original (Article 3):\n",
      "\n",
      "丹娜絲颱風造成嘉義縣逾26萬戶停電，台電人員不分晝夜全力搶修，但在15日傳出一起高壓線路電擊事故，行政院發言人李慧芝轉述，行政院長卓榮泰相當不捨，第一時間即請經濟部及台電公司提供受傷同仁及家屬最即時的協助。\n",
      "\n",
      "李慧芝說明，台電公司董事長曾文生已趕到醫院慰問傷者家屬，卓揆也請經濟部及台電瞭解事故發生原因，並請還在第一線持續搶修、恢復電力的台電公司主管及員工務必注意安全。\n",
      "\n",
      "🌍 Translation:\n",
      "Hurricane Danas caused more than 260,000 power outages in Jiaji County, and electricians did everything in their power to repair it day and night, but on 15 a high-pressure circuit electric shock incident was reported, as reported by the administration's spokesman, Lee Hyegi, and the Executive Director, Cheol Yong-tae, asked the Ministry of the Economy and the power company to provide the most immediate assistance to his injured colleagues and family. Lee Hye Chi said that the director of the company had arrived at the hospital to reassure the families of the injured, and Dro had asked the Ministry and the radio to understand the cause of the accident, and that the director and staff of the company, which was still in the first line of repair and rehabilitation, should be alert to the need for safety.\n",
      "--------------------------------------------------\n",
      "\n",
      "📄 Original (Article 4):\n",
      "\n",
      "市場傳出美國政府同意解除中國科技禁令，放行輝達H20銷往中國，資金受激勵追捧輝達概念股，台指期夜盤15日延續漲勢，最高衝上22,942點，爾後漲點小幅收斂至55點、暫報22,859點，劍指23K大關近在咫尺，台積電ADR也大漲2.7％、輝達更暴衝約4％。\n",
      "\n",
      "美國6月消費者物價指數（CPI）升幅溫和擴大，比5月上升0.3％符合預期，高於5月時的0.1％升幅；比去年同期上升2.7％，高於預估的2.6...\n",
      "\n",
      "🌍 Translation:\n",
      "The market has revealed that the US government has agreed to lift China’s technology ban and release H20 to China, and that the capital has been motivated to pursue the H20 concept of China, and that the rise in China’s consumer price index (CPI) in June has continued on a 15-day period, reaching a maximum of 22,942 points, followed by a small upturn to 55 points, a temporary report of 22,859, the sword being close to 23K, and the ADR rising by 2.7%, with a sharper than anticipated 4%. The US consumer price index (CPI) has increased in June, by 0.3% compared with May and by 0.1% higher than it was expected in May; it has risen by 2.7% compared to the same period last year, and is higher than the forecast of 2.6%.\n",
      "--------------------------------------------------\n",
      "\n",
      "📄 Original (Article 5):\n",
      "\n",
      "大樂透本期(7/15)頭獎未開出，目前連13摃，台灣彩券表示，下期(7/18)預估銷售1.7~1.9億元，頭獎累積金額預估上看4.4億元，為第五屆以來第二高頭獎總獎金。\n",
      "\n",
      "🌍 Translation:\n",
      "In the current period (7/15) of the lottery, which has not yet been awarded, the Taiwan lottery is now 13 tons, with an estimated sales of $17 to $190 million estimated for the next period (7/18), and an estimated $440 million in the top prize, representing the second-highest prize in the fifth term.\n",
      "--------------------------------------------------\n",
      "\n",
      "📄 Original (Article 6):\n",
      "\n",
      "美國總統川普15日在其社群平台Truth Social發文表示，美國已經與印尼達成關稅協議。川普說：「對大家來說這都是一筆很棒的交易。是我直接與印尼總統進行洽談的。」\n",
      "\n",
      "但川普未進一步說明該協議細節以及美國對印尼的最新關稅稅率。僅表示「請大家繼續關注」。\n",
      "\n",
      "🌍 Translation:\n",
      "President Truth Social wrote on his social platform on 15 September that the United States has entered into a tax agreement with Indonesia. “This is a great deal of business for everyone, and I have been talking directly to the Indonesian president.” But Trunchup has not further clarified the details of the agreement and the latest US tax rate on Indonesia. Just say, “Please keep your eyes open.”\n",
      "--------------------------------------------------\n",
      "\n",
      "📄 Original (Article 7):\n",
      "\n",
      "雖然我說「從公司離職或許會比較好」，不過多數讀者目前應該都還是上班族吧，就算說「請在明天遞辭呈」，也不可能輕易做到，即便有照做卻失敗的人質問我要怎麼負責，我也無法保證些什麼。\n",
      "因此，不需要著急，我只是希望身為上班族的你能先有這樣的心理準備。\n",
      "在當今社會中，像過去那樣把公司當成「疑似家族」*或「長久持續的群體」般依賴，其實是相當危險的一件事。就算你向做為上班族的主管學習、在公司裡做出成績，你還是無...\n",
      "\n",
      "🌍 Translation:\n",
      "Although I say that it may be better to leave the company, most readers should still be at work. Even if they say \"resign tomorrow,\" they can't do it easily, and I can't guarantee anything, even if someone who does but fails to do so asks me what to do.\n",
      "--------------------------------------------------\n",
      "\n",
      "📄 Original (Article 8):\n",
      "雙北市有不少菜市場，實施時段性禁止車輛通行，例如樹林的保安市場，平日從早上8點半到11點，管制車輛進入，提高行人安全性、減少擁擠，但也有攤商持不同看法，認為有些民眾認為停車麻煩，可能會減少採買意願，進而影響生意。\n",
      "保安市場總幹事詹勳坤表示，平日從早上8點半到11點是管制時間，假日則從早上8點就開始管制到11點。他指出，部分採買民眾支持禁止車輛通行，認為這樣不僅沒有油煙干擾，行走也更加自由。保安市場...\n",
      "\n",
      "🌍 Translation:\n",
      "In the two northern cities, there are a number of vegetable markets, such as the security market in the woods, where cars are banned for periods ranging from 8:30 a.m. to 11 a.m., which controls the entry of vehicles from 8:30 a.m. to 11 a.m. to improve pedestrian safety and reduce crowding, but there are different views among traders that some people believe that parking is a problem that may reduce their purchasing wishes and enter and disrupt their business. The Security Market Chief Inspector, Jangun, said that regular days are from 8:30 a.m. to 11 a.m., and holidays from 8 a.m. to 11. He noted that some buyers supported banning cars, arguing that it was not only free of oil and smoke, but also freer to walk.\n",
      "--------------------------------------------------\n",
      "\n",
      "📄 Original (Article 9):\n",
      "\n",
      "研究機構Edgewater Research看壞今年下半年記憶體晶片的需求和價格前景，拖累記憶體晶片大廠美光（Micron）14日股價收盤大跌4.75％，淪為費城半導體指數成分股最大輸家。\n",
      "\n",
      "Edgewater Research在報告中指出，今年上半年電腦記憶體晶片的需求和定價較佳，下半年的需求和定價前景，可能不如美光下半年的歷史平均水準，且偏向下行趨勢。意味著下本年市況可能轉壞，或許會比投資人...\n",
      "\n",
      "🌍 Translation:\n",
      "The research institute Edgewater Research sees the demand for and price prospects for the memory chip in the second half of the year, dragging the price of the memory chip, which fell by 4.75% on the 14th day, to be the largest consumer of the Philly semi-guided index. Edgewater Research reports that the demand and price of the memory chip in the first half of the year may not be as good as the historical average for the second half of the year, but rather the downward trend.\n",
      "--------------------------------------------------\n",
      "\n",
      "📄 Original (Article 10):\n",
      "\n",
      "Meta重金延攬AI人才後，持續擴大AI布局。Meta執行長祖克伯14日表示，Meta將斥資數千億美元打造巨型AI資料中心，推動超級智慧（Superintelligence）發展，Meta強勁的核心廣告事業是這些投資計畫的有力後盾。\n",
      "\n",
      "祖克伯在自家社群平台Threads表示，Meta第一座規模百萬瓩（GW）的資料中心名為「普羅米修斯」（Prometheus），預計2026年上線。另一座名為「亥伯...\n",
      "\n",
      "🌍 Translation:\n",
      "According to Meta's own social platform Threads, Meta's first-size million-dollar data center is called Prometheus, which is expected to be online in 2026.\n",
      "--------------------------------------------------\n",
      "\n",
      "📄 Original (Article 11):\n",
      "\n",
      "AI入侵華爾街搶飯碗！高盛集團計畫引進倫敦新創公司Cognition開發的AI軟體工程師Devin，不僅能將工作效力提高4倍，還可省下支付人類員工的六位數薪水。儘管高盛強調採取的是「混合勞動力」模式，但隨著Devin擴大部署，華爾街恐掀失業潮。\n",
      "高盛資訊長阿根提（Marco Argenti）告訴美媒CNBC，高盛將率華爾街之先，引進Cognition開發的Devin，加入高盛1.2萬人軟體開發團...\n",
      "\n",
      "🌍 Translation:\n",
      "AI invaded Wall Street for a job! The Goldman Sachs group plans to bring into Devin, the AI software engineer who developed Cognition in London, not only to increase its effectiveness fourfold, but also to save six-digit salaries for human workers. Although it's the \"mixed labour force\" model, it's highly popular, but with Devin's expanded deployment, Wall Street is in danger of losing jobs.\n",
      "--------------------------------------------------\n",
      "\n",
      "📄 Original (Article 12):\n",
      "\n",
      "美國企業第二季財報季本周登場，打頭陣的摩根大通、富國銀行、花旗集團等銀行股15日發布業績，在全球貿易戰威脅下營收獲利仍優於預期。但摩根與富國對今年的展望多空分呈，摩根上調今年淨利息收入預期，富國卻是下修。\n",
      "摩根大通Q2整體營收年減11％至449.1億美元，優於分析師預期。獲利年跌17％，來到149.9億美元或每股5.24美元，擊敗分析師預估的每股4.48美元。\n",
      "摩根Q2利息收入年增2％至233億...\n",
      "\n",
      "🌍 Translation:\n",
      "This week, the second season of US corporate finance began, leading banks like Morgan Chase, the rich bank, Citigroup, and so on, with 15 days of sales performance, earning more than expected in the face of the threat of global trade. But Morgan and the rich countries are showing more than expected.\n",
      "--------------------------------------------------\n",
      "\n",
      "📄 Original (Article 13):\n",
      "\n",
      "美國洛杉磯港6月貨櫃吞吐量改寫歷史新高，原因是業者趁著美中貿易休戰期間趕緊拉貨。這個美國最繁忙港口6月共處理89萬2,340個TEU（20呎標準貨櫃），大多裝載日常消費品與假日購物季商品。入境貨物量年增近10％至47萬450個TEU，創歷年同期新高。\n",
      "美中5月12日達成協議，雙方同意各自大幅調降115％關稅，美國將中國進口商品關稅降至30％，美國輸中商品關稅降至10％，為期90天。若美中8月12...\n",
      "\n",
      "🌍 Translation:\n",
      "In June, the busiest port in the United States dealt with 892,340 TEUs (the 20-foot standard counter), mostly loaded with daily consumer goods and holiday-buying season commodities. The volume of incoming goods rose by almost 10% to 47450 TEUs annually, rising at the same time in the calendar year.\n",
      "--------------------------------------------------\n",
      "\n",
      "📄 Original (Article 14):\n",
      "（中央社記者謝靜雯桃園15日電）中職樂天桃猿隊陳晨威首度參加明星賽全壘打大賽，隊友林子偉分析擊球類型，認為陳晨威爆發力好、看好實力；陳晨威自認「漢草」最差，只希望不要支數掛零就好。\n",
      "樂天桃猿隊野手陳晨威遞補參加明星賽全壘打大賽，總教練古久保健二被問起是否看好陳晨威，一開始先問台鋼雄鷹洋砲魔鷹（Steven Moya）是否參賽，聽到魔鷹退賽，古久保健二表示：「那還是有一點機會」，也提到陳晨威是有能力...\n",
      "\n",
      "🌍 Translation:\n",
      "In the first time in a star race, the team's friends, Lin, who analysed the type of strike, thought that the morning explosion was strong and effective; Chen morning, who thought that \"Hangra\" was the worst, wanted to keep the numbers from being zero. The team's wild hand, Chen morning, asked if Ku Gu-hyeok II was looking good at Chen-hyeok, and first asked Steven Moya if he was in the race and heard the Devil's Eagles retreat, and Gu-hyeok said, \"It's still a little chance,\" and also said that Chen-hye was capable of playing the whole game.\n",
      "--------------------------------------------------\n",
      "\n",
      "📄 Original (Article 15):\n",
      "傑克·波索比克（Jack Posobiec）今年二月走進位於華盛頓特區的美國司法部時，本以為終於能對傑弗里·愛潑斯坦一案得到一些答案。\n",
      "但當他和其他「讓美國再次偉大」（MAGA）支持者幾乎只拿到重複、早已公開的資料，而且政府在今年七月阻止任何新資訊公開時，他們感到十分失望。\n",
      "「大家都被告知會有更多內容，會有人給出答案。這件愛潑斯坦事件的處理，真是令人難以置信地一團糟。其實完全不必這樣，」波索比克於...\n",
      "\n",
      "🌍 Translation:\n",
      "When Jack Posobiec entered the U.S. Justice Department in Washington, D.C., in February this year, he thought he could finally get some answers to Jeffrey Eppstein’s case. But when he and other MAG supporters received almost duplicated, already public information, and the government blocked any new information in July this year, they were disappointed.\n",
      "--------------------------------------------------\n",
      "\n",
      "📄 Original (Article 16):\n",
      "\n",
      "蘋果15日宣布與美國唯一具備完整產線的稀土生產商MP Materials展開全新合作，承諾投資5億美元。根據這項多年協議，蘋果將採購MP Materials德州旗艦工廠生產的美國製稀土磁鐵。\n",
      "雙方未來也將共同在加州設立最先進的稀土回收產線，並合作研發新型磁鐵材料與創新加工技術，以提升磁鐵性能。\n",
      "蘋果先前承諾未來4年將在美國投資超過5,000億美元，而這回與MP Materials合作正是計畫的一...\n",
      "\n",
      "🌍 Translation:\n",
      "The Apple announced a new partnership with MP Materials, the only rare-earth producer with complete production lines in the United States, with a pledge of $500 million. Under this multi-year agreement, the Apple will buy American rare-earth magnets from the MP Materials State flagship factory.\n",
      "--------------------------------------------------\n",
      "\n",
      "📄 Original (Article 17):\n",
      "\n",
      "百度宣布，已與Uber達成合作，將其自動駕駛汽車部署到Uber在美國和中國大陸以外的平台上。首批部署預計今年晚些時候在亞洲和中東地區進行。消息傳出後，百度股價在美股盤前大漲4.5％，Uber股價則上漲超過1％。\n",
      "\n",
      "CNBC當地時間15日報導，兩家公司表示，這項為期多年的合作關係將讓全球「數千輛」的百度Apollo Go自動駕駛車「登上」Uber。\n",
      "\n",
      "對百度來說，此舉將有助於其無人駕駛汽車業務國際...\n",
      "\n",
      "🌍 Translation:\n",
      "Hundreds announced that they had cooperated with Uber to deploy their autopilots to Uber outside the US and China. The first deployments were scheduled to take place in Asia and the Middle East later this year. After the news came out, 100 shares rose by 4.5% in front of the US stock plate, and the Uber stock increased by more than 1%.\n",
      "--------------------------------------------------\n",
      "\n",
      "📄 Original (Article 18):\n",
      "\n",
      "主動安聯台灣高息（00984A）在上周開始建倉，14日以上周五的淨值9.96元進場，而隨著成分股逆勢上揚以及投資人對成長高息策略ETF需求升溫，市價連兩日走揚且呈現溢價情況，15日收在9.98元，也使得流動量提供者進場進行套利操作，自營商因而連兩日大幅賣超。\n",
      "\n",
      "安聯台灣高息成長主動式ETF基金經理人施政廷表示，台股在短期雜音預期有望逐步釐清，隨著不確定性消除，市場焦點有望重新回歸企業基本面。從基...\n",
      "\n",
      "🌍 Translation:\n",
      "The launch of a warehouse in Taiwan City (00984A) began last week, when 14 days came in at a clean value of $9.96 last Friday, while the demand for ETFs for high-interest growth strategies increased with the rise of the component equity deficit and investors' demand for ETFs, with market prices rising for two days in a row and surcharged at $9.98 on 15 days, which also led to the introduction of arbitrage on the ground by streaming suppliers, leading to a two-day surge in self-employment.\n",
      "--------------------------------------------------\n",
      "\n",
      "📄 Original (Article 19):\n",
      "\n",
      "根據經濟部投審司統計，2025年1～6月核准整體來臺投資（含僑外來臺投資、陸資來臺投資）件數為1,027件，投資金額為74億6,661萬5,000美元，主因為離岸風電業業增資或轉投資；核准（備）整體對外投資（含對外投資、對中國大陸投資）件數為515件，投資金額為188億8,559萬4,000美元。\n",
      "\n",
      "投審司統計，今年1～6月核准僑外投資件數為1,016件，較上年同期減少4.15%；在核准金額部分...\n",
      "\n",
      "🌍 Translation:\n",
      "According to the Ministry of the Economy's Investment Review Division, from January to June 2025, the total number of approved investments (including foreign investments and investments in land) was 1,027 and the total amount of investment was $7,4615,000, mainly due to the increase or transfer of investments in the offshore wind and electricity sector; the total number of approved investments (including foreign investments and investments in China's mainland) was 515 and the amount of investment was $188,8594,000.\n",
      "--------------------------------------------------\n",
      "\n",
      "📄 Original (Article 20):\n",
      "\n",
      "大陸商務部會同科技部調整公布「中國禁止出口限制出口技術目錄」，新增將「電池正極材料制備技術」納入限制類技術條目，因該技術在敏感領域正愈來愈多地得到應用，納入限制類有利於更好統籌發展和安全。\n",
      "\n",
      "本次目錄調整中，新增一項限制類技術條目，即電池正極材料制備技術，包括新增電池用磷酸鐵鋰制備技術、電池用磷酸錳鐵鋰制備技術、磷酸鹽正極原材料制備技術等3條控制要點。\n",
      "\n",
      "同時，修改一項限制類技術條目，即有色金屬...\n",
      "\n",
      "🌍 Translation:\n",
      "In conjunction with the Ministry of Science and Technology, the Ministry of Commerce and Industry of the mainland will publish the Chinese directory of export-restricted technology, adding a new technical-restrictive item to the \"consumption battery material back-up technology\" because it is increasingly being used in sensitive areas, enabling better integration and security. In this directory, a new technical-restrictive-restrictive item, i.e., battery-restrictive material back-up technology, will be added, including three control points, such as phosphate iron backup technology, phosphate-based iron-requirer technology, phosphate-resilient raw material back-up technology.\n",
      "--------------------------------------------------\n",
      "\n",
      "📄 Original (Article 21):\n",
      "\n",
      "美國6月CPI年增2.7％，為2月以來新高，符合預期。核心CPI年增2.9％，為2月以來新高，低於預期的3％。6月CPI月增0.3％，核心CPI月增0.2％。\n",
      "\n",
      "數據公布後，美國10年期國債殖利率走跌。現貨黃金短線上漲6美元。\n",
      "\n",
      "市場預期聯準會7月底降息機率極小，但9月降息機率上升。芝商所FedWatch工具最新顯示，7月30日聯準會決策會議維持利率不動的機率超過97％，再下一次9月17日會議降...\n",
      "\n",
      "🌍 Translation:\n",
      "The United States increased its CPI by 2.7% in June, a year that is new in February, and is in line with expectations. The core CPI grew by 2.9% in February, a year that is lower than the expected 3%. The CPI grew by 0.3% in June, and the core CPI increased by 0.2% in June.\n",
      "--------------------------------------------------\n",
      "\n",
      "📄 Original (Article 22):\n",
      "\n",
      "中華開發資本總經理南怡君今（15日）表示，私募資產在台灣具備高度發展潛力，相較國外有更大成長空間。而「親民化」是當前全球資本市場的重要趨勢，已有美、英、日、星等不少國家走在前面，累積許多值得參考的實踐案例，未來可以擴大台灣財富管理界在私募資產投資，達到多元資產配置目標。\n",
      "\n",
      "南怡君15日上午出席工商時報《壯大資產管理，迎向黃金年代》論壇時，分享如何擴大私募參與多元資產配置。她說，全球財富管理規模2...\n",
      "\n",
      "🌍 Translation:\n",
      "China’s Director General of Capital Development said today (15) that private equity has high potential for development in Taiwan, and that there is greater room for growth outside the country. “Diplomaticization” is an important feature of the current global capital market, with countries such as the United States, the United Kingdom, Japan, and the United States, and the United States, and the United States, Japan, and the United States.\n",
      "--------------------------------------------------\n",
      "\n",
      "📄 Original (Article 23):\n",
      "\n",
      "面對川普關稅政策與匯率波動風險，國泰金控總經理李長庚15日於「國泰Ｘ雲門30周年記者會」受訪時指出，關稅和匯率都是相對概念，需要從中性角度來看待。他認為，如果只有台灣被課關稅或新台幣升值，確實會很辛苦；但如果主要競爭對手國家都面臨相似的稅率和匯率變化，那就是一個中性的狀況，關鍵在於各國本身的競爭力。\n",
      "\n",
      "雖然整體而言是中性的，但不同產業受到的影響程度不同。李長庚舉例，從川普第一任到現在，台灣對美貿...\n",
      "\n",
      "🌍 Translation:\n",
      "Faced with the risk of a wave of tax policies and transfer rates in the country, Governor Lee Changg, who was interviewed on the 30th anniversary of Thailand’s Thai X-Moon, said that taxes and rates were a cross-cutting concept that needed to be seen from a neutral perspective. He argued that it would be difficult if only Taiwan was taxed or the new Taiwan dollar appreciated; but if the main contending countries were facing similar tax and transfer rates changes, that was a neutral situation, the key to which was the country’s own competition.\n",
      "--------------------------------------------------\n",
      "\n",
      "📄 Original (Article 24):\n",
      "\n",
      "首屆海峽兩岸（福州）體育學術交流暨第三屆「手望夢想」兩岸青少年夏令營，15日在福州高新區啟動。兩岸約110名青年參加開幕式，其中台灣青年49名，首次造訪大陸的有32人。此次活動彙聚了兩岸高校師生、體育界專家學者，以及各團隊的青年朋友，希望以體育學術交流和手球賽事為紐帶，深化兩岸在體育運動科技、數字體育經濟、體育教育等領域的融合。\n",
      "\n",
      "在開幕式中，福州市與臺灣手球界的代表互贈感謝狀，相互感謝數年來相...\n",
      "\n",
      "🌍 Translation:\n",
      "In the opening ceremony, about 110 young people from both sides of the coast, 49 from Taiwan and 32 from China for the first time. The event brought together high school students from both sides, sports specialists, and young friends from all teams to deepen the integration of the two sides in sports technology, the digital economy, and physical education.\n",
      "--------------------------------------------------\n",
      "\n",
      "📄 Original (Article 25):\n",
      "\n",
      "從五月天、GD到江蕙，演唱會經濟正全面引爆，帶動台北101、遠東Garden City、小巨蛋周邊微風南京人氣與業績飆升；高雄巨蛋則因江蕙開唱引爆人潮，漢神巨蛋推「票根優惠」加碼搶客，演唱會不只嗨翻舞台，更撼動商圈消費動能。\n",
      "韓國K-POP之王GD權志龍火熱回歸，除於台北小巨蛋連辦三場演唱會，《G-DRAGON MEDIA EXHIBITION ： Übermensch》展覽也將於7月17日至8...\n",
      "\n",
      "🌍 Translation:\n",
      "From May to May, the concert economy is full-blown, bringing down 101 people from Taipei, Garden City from the Far East, and Nanking's performances from the side of the small giant egg, and the Goo-Yo-Yo-Yo-Yo-Yung-Yung-Yung-Yung-Yung-Yung-Yung-Yung-Yung-Yung-Yung-Yung-Yung-Yung-Yung-Yung and the Han-Chung-Jung-Jung-Yung-Yung-Yung-Yung-Yung-Yung-Yung-Jung-Yung-Yung-Yung-Yung-Yung-Yung-Yung-Yung-Yung-Yung-Yung-Yung-Yung. The concert will not only turn over the stage, but will also shake the business community.\n",
      "--------------------------------------------------\n",
      "\n",
      "📄 Original (Article 26):\n",
      "\n",
      "2025年夏季，台灣迎來象徵品味與競技精神融合的新標竿《2025肇喜登峰巡迴賽－頂粵吉品公開賽》！由中台灣餐飲地標「頂粵吉品」單站冠名贊助台灣PGA巡迴賽（TPGA），並攜手豪宅建商-雙橡園開發共同主辦，今（15）日在台豐高爾夫俱樂部揭幕，集結七國126位職業選手，顯現頂級生活場景與國際運動賽事的無縫融合。\n",
      "\n",
      "本次公開賽為2025年TPGA台巡賽第七站、肇喜登峰巡迴賽第五場，總獎金新台幣300萬...\n",
      "\n",
      "🌍 Translation:\n",
      "In the summer of 2025, Taiwan's new logo, which is a symbol of the convergence of taste and the spirit of competition, was launched at the Tafengorf Club, which brings together 126 professional candidates from seven countries to highlight the seamless integration of top-level life scenes and international sports events. The launch was co-sponsored by the Taiwan PGA Tourist (TPGA) and co-sponsored by the owner of the House of Mansions, the Twin Oaks.\n",
      "--------------------------------------------------\n",
      "\n",
      "📄 Original (Article 27):\n",
      "\n",
      "韓流旋風橫掃百貨市場，新光三越搶搭「臉蛋天才」車銀優熱潮推限量卡友禮，寫真書預購開紅盤；SOGO忠孝館則迎來嘻哈男團DKB快閃店，主打台灣限定周邊；微風南山更祭出全台唯一猛男團體WILD WILD SHOW演出，從偶像到體感演出，韓流商機全面燃燒。\n",
      "新光三越卡利HIGH檔期首度聯手韓國「臉蛋天才」之稱的車銀優推出卡友禮，希望吸引年輕客群，會員於指定日期用skm pay並綁定台新、國泰世華CUBE...\n",
      "\n",
      "🌍 Translation:\n",
      "In the wake of the Korean cyclone, which sweeps around the market, Xinjiang is taking advantage of the \"Face Genius\" car with a high amount of silver and silver push, and writes the real book and buys red disks; SOGO's Xiaohua Men's DKB Flash Shop, which hosts Taiwan's restricted perimeters; Mitternan Mountain, where the only violent male group on the stage, WILD WID SHOW, is performing from an idol to a sense, and the Korean business is burning.\n",
      "--------------------------------------------------\n",
      "\n",
      "📄 Original (Article 28):\n",
      "\n",
      "金管會15日更新本國銀行辦理中小企業放款情形， 截至今年5月底止，放款餘額為新台幣10兆4,670億元，增額創10年同期新低，銀行局副局長王允中說明，主因與土建融承作量減少、美國關稅政策衝擊企業投資信心有關。\n",
      "\n",
      "根據金管會最新統計，截至今年5月底止，本國銀行對中小企業放款餘額10兆4,670億元，較上月底增加28億元，月增幅為近10年同期新低，王允中盤點主要因素包括與企業紓困振興貸款補貼到期、新...\n",
      "\n",
      "🌍 Translation:\n",
      "As of the end of May this year, the balance of the bank’s loan to small and medium-sized enterprises stood at 10 trillion yuan, a new low for the same period of 10 years, as stated by the Deputy Director of the Banking Department, Wang Yun, who said that the main reasons for the decline in investment and the impact of US tax policies on corporate investment were the decline in civil investment. According to the most recent findings of the Board, by the end of May this year, the bank had released 10 trillion yuan, or 67 billion yuan, to small and medium-sized businesses, an increase of 2.8 billion yuan by the end of last month, a new decline in the same period of nearly 10 years, with the main factors in the Hong Kong Central Bank’s offer being the expiration of the loan subsidy, and the new loan subsidy.\n",
      "--------------------------------------------------\n",
      "\n",
      "📄 Original (Article 29):\n",
      "歐盟委員會主席烏爾蘇拉·馮德萊恩宣布，歐盟對美國出口商品的報復性關稅再次被延後。\n",
      "這項反制措施原定於週二開始實施，是針對美國總統特朗普最初對鋼鐵和鋁產品徵收進口稅的回應。\n",
      "歐盟的報復行動原本將影響價值達210億歐元的美國商品，三月的時候，該措施首次被暫停。馮德萊恩在週日的記者會上表示，這項暫停措施將會延長至八月初。\n",
      "歐盟貿易部長預計將於週一在布魯塞爾會面，討論如何回應此事。\n",
      "這是在特朗普致函馮德萊...\n",
      "\n",
      "🌍 Translation:\n",
      "The counter-measure was scheduled to begin on Tuesday, in response to US President Trump’s initial import tax on steel and antimony products. The European Union’s recovery operation, which would have affected US goods valued at Euro21 billion, was suspended for the first time in March.\n",
      "--------------------------------------------------\n",
      "\n",
      "📄 Original (Article 30):\n",
      "[NOWnews今日新聞] 26大罷免投票將至，民眾黨今（20）日聚集在民進黨中央黨部前舉辦「反罷要贏，台灣要贏」造勢活動，並邀請台北市藍委們到場宣講，過程中徐巧芯說，柯文哲、黃國昌與小草都是最堅強的，並非沒有用的8席，反觀民進黨才是只會翻桌的51席，因為在野一起通過太多法案、對民進黨有太多監督，他們才要把我們拉下來，但因為民眾黨是不分區沒辦法罷免，所以把狙擊目標放到藍委身上，「就是我們，這樣合理...\n",
      "\n",
      "🌍 Translation:\n",
      "[NOWnews Today News] 26 votes are on the run. The Popular Party is gathered in front of the Central Party of the PNP today (20) to stage a campaign to \"anti-win, Taiwan wins\" and invite the Taipei Blue Committees to make a public statement. In the process, Xu Qu Jianxi said that Cowench, Huang Guchang and Siu Wei were the strongest and not the most useful 8 seats, and that the anti-popular party was the 51 seats that would turn, because there were too many bills passed in the field and too many oversights of the PNP, they wanted us to be pulled down, but because the Popular Party couldn't get away, they put sniper targets on the Blue Commission, \"it was us, that's what makes sense.\n",
      "--------------------------------------------------\n",
      "\n",
      "📄 Original (Article 31):\n",
      "\n",
      "街口支付因母公司街口金融科技與泰山公司的股權糾紛以及受法院查封一事波及，合作商家也一度爆出停用潮。不過，在公司積極與合作夥伴展開溝通後，15日晚間已有8成品牌通路恢復街口支付服務。\n",
      "\n",
      "截至15日止，momo購物網、PChome、蝦皮購物等3大電商平台，以及EZ WAY、美廉社、路易莎、清心福全、eTag uTagGo、TGI Fridays、凱擘有線電視、丁丁藥局、媽咪愛、卡多摩嬰童館、QBur...\n",
      "\n",
      "🌍 Translation:\n",
      "As of 15 days, Momo's shopping network, PChome, shrimp shopping, three major power lines, as well as EZ WAY, Merchant, Louisa, Qing Cong Cao, eTag uTaggo, TGI Fridays, Kaiser TV, Tinting Drug Bureau, Mammie, Kadomo Babies, QBur, etc.\n",
      "--------------------------------------------------\n",
      "\n",
      "📄 Original (Article 32):\n",
      "\n",
      "外媒引述白宮官員和知情者的消息報導，川普計劃15日在匹茲堡一場活動上，公布規模達700億美元的AI與能源投資案計劃，為美國目前正火紅的AI產業再投入更龐大資金。\n",
      "根據路透報導，川普將在這場活動上，發表新投資案的相關細節。共和黨籍參議員麥考密克（David McCormick）也將一起現身，他會在位於匹茲堡的卡內基梅隆大學主持首屆《賓州能源與創新高峰會》。\n",
      "雖然麥考密克的參議員辦公室，未回應媒體的...\n",
      "\n",
      "🌍 Translation:\n",
      "According to Reuters, Trunch will present details of the new investment at this event. Republican Senator David McCormick will also be present, and he will host the inaugural Penn Energy and Innovation Summit at Carnegie Melon University in Pittsburgh.\n",
      "--------------------------------------------------\n",
      "\n",
      "📄 Original (Article 33):\n",
      "\n",
      "丹娜絲颱風侵襲中南部，台灣大哥大第一時間啟動緊急應變機制，動員北、中部工程團隊數百人，深入嘉義、台南、雲林災區，展開跨區搶修且建置臨時基地台，提供緊急通訊服務；並在NCC和數位發展部等主管機關協助下，出動10部搭載衛星通訊設備的「OneWeb衛星行動車」，提供嘉南沿海災區臨時網路涵蓋與緊急通訊支援。\n",
      "台灣大哥大表示，截至目前為止，受丹娜絲颱風影響的行動通訊基站已有逾9成完成修復。但部分重災區，如...\n",
      "\n",
      "🌍 Translation:\n",
      "In the south-central region of Hurricane Danas, Taiwan's Big Brother launched the emergency response system in the first hour, mobilizing hundreds of people from North and Central Engineering Teams to reach out to the disaster areas of Kaji, Taiwan, and Clouds, to open up cross-district looting and temporary base stations to provide emergency communications services; and, with the help of competent agencies such as NCC and Digital Development Department, launched 10 \"OneWeb action vehicles\" with satellite communications equipment to provide immediate Internet coverage and emergency communications support in the southern coastal disaster zone.\n",
      "--------------------------------------------------\n",
      "\n",
      "📄 Original (Article 34):\n",
      "\n",
      "丹娜絲颱風造成台南累計30萬7817戶停電，災後台電出動大批工程人員及「螞蟻雄兵」接力搶修，截至15日晚間8點只剩597戶尚未復電，全市復電只差最後一哩路。民眾最關心的何時能全面復電，台電預告，「不是今晚就是明天！」\n",
      "台南經過颱風重創，大規模停電讓民眾苦不堪言，37個行政區多達34個行政區停電，全市僅東區、安平區、中西區沒有停電。全市停電戶數一度高懸在5位數，13日凌晨0時終於降到「4位數」，目...\n",
      "\n",
      "🌍 Translation:\n",
      "In the aftermath of the disaster, there was a massive power outage of 300,000,7817 people in Taiwan, with 597 dead by 8 p.m. and the city's last one mile behind. When the population's biggest concern is to get full power up, the radio alert, \"it's either tonight or tomorrow!\" In the aftermath of the storm, a massive power outage has devastated the population, with 34 more administrative districts in 37 districts, with no power outage in the city's eastern, Anping, and Central West. The city's power outages were at a peak of 5 and finally reached \"4\" at 0 a.m. on 13th.\n",
      "--------------------------------------------------\n",
      "\n",
      "📄 Original (Article 35):\n",
      "國民黨立委葉元之。（資料照）\n",
      "劉晉仁／核稿編輯\n",
      "〔即時新聞／綜合報導〕國民黨立委葉元之已故助理方旭的遺孀馮昭，15日週刊曝光丈夫生前遭葉元之言語霸凌的對話內容，引發外界熱議；葉元之隨後發出4點說明，反駁指控。對此，財經網紅胡采蘋直言，葉元之的回應恐怕是避重就輕，「看完葉元之的回應我覺得，應該被降職降薪的人就是他本人，請板橋區選民站出來成全降職葉元之！」\n",
      "胡采蘋今天針對葉元之在臉書的回應發文提出自己...\n",
      "\n",
      "🌍 Translation:\n",
      "In response to the announcement by the editor of the National Democratic Party (NDP)'s Executive Committee, the late assistant to the NDP's Executive Committee, the widow of Fang Xu, who appeared in the 15th week of the week after his husband was born under the influence of the language of the Yemeni National Party, has provoked public debate; he then made four remarks and made a disclaimer of the charges. In this case, the response of Yap to the financial net, the red-weed-weed apple, is probably a little less: \"I think that the person whose salary should be reduced after reading the Yemeni dollar is his own, and the people of the Chak Bridge are asked to stand up for a full-scale reduction!\"\n",
      "--------------------------------------------------\n",
      "\n",
      "📄 Original (Article 36):\n",
      "中國嚴密控制廣泛用於製造智能手機和電視螢幕等電子產品的稀土礦物，並在全球供應鏈擁有主導地位。\n",
      "但BBC記者親訪中國最大的兩個礦區，它們分別位於北部的內蒙古和南部的江西，發現那裡的礦產開採遺留了有毒土壤和水污染問題。\n",
      "\n",
      "🌍 Translation:\n",
      "But BBC journalists visited China’s two largest mining regions, in the north of Mongolia and in the south of Jiangxi, where they found that the development of minerals left toxic soil and water contamination problems.\n",
      "--------------------------------------------------\n",
      "\n",
      "📄 Original (Article 37):\n",
      "台鐵潮州站15日下午號誌故障，影響南迴線列車。（記者蔡昀容攝）\n",
      "首次上稿 16:59更新時間 23:49（新增號誌修復、影響列次）\n",
      "〔記者蔡昀容／台北報導〕台鐵南迴線今天（15日）下午3點25分左右，屏東縣潮州站全站號誌故障，導致上下行列車受到影響，總計影響64列次、5602分。\n",
      "請繼續往下閱讀...\n",
      "\n",
      "台鐵官網報告則指出，受到潮州站號誌故障影響，上下行列車有延誤情況，受影響車站包含西勢、竹田、潮...\n",
      "\n",
      "🌍 Translation:\n",
      "(Reporter Chai) First update: 16:59. 23:49 (new journal repair, impact series). (Reporter Chai/Taibei report) Today at around 3.25 p.m., the entire station of the Tungzhou station suffered from a failure that affected 64 rows and 5602 points. (Please continue reading down...) The Tianhai Network report states that the traffic was delayed by a failure of the Tianzhou station, which included the West, Bamata, tidal stations.\n",
      "--------------------------------------------------\n",
      "\n",
      "📄 Original (Article 38):\n",
      "民眾黨備位立委蔡春綢於7月14日晚上11時38分於個人粉專發文，附圖裁切綠委劉建國原創圖卡的個人資訊，甚至用辣椒圖像掩蓋劉的Ｑ版人物。（取自蔡春綢臉書）\n",
      "〔記者李文馨／台北報導〕丹娜絲颱風重創中南部，民眾黨不分區備位立委蔡春綢14日在臉書發文呼籲將辣椒納入補助，不過，貼文附圖卻被發現裁切民進黨立委劉建國的原始圖卡，甚至以辣椒圖像遮蓋劉的Q版人物，引發網友批評。蔡春綢晚間發文致歉，坦言形式上的不謹慎...\n",
      "\n",
      "🌍 Translation:\n",
      "On July 14th, at 11.38 p.m., the Popular Party's opposition committee, Choi Chun, published a personal statement with personal information about the founding of Liu's country, and even covered Liu's Q-page figure with a chili image. (From the Facebook page of Choi Chun). (Reporter Li Wenchen/Taibei) Tanas Treasure struck the south-central part of the country, while the Popular Party, regardless of the regional opposition committee, Choi Chun Xin X14, wrote a letter in his Facebook page calling for the addition of pepper, but the post was found to include the original Tuka of the founding country of the Republican Party's Constituent Committee, and even Q-persons who used the pepper image to cover Liu's life, and criticized the Internet.\n",
      "--------------------------------------------------\n",
      "\n",
      "📄 Original (Article 39):\n",
      "桃市防空演習17日登場，遇普濟堂關聖帝君誕辰社頭遶境將配合暫停30分鐘。（記者李容萍攝）\n",
      "〔記者李容萍／桃園報導〕桃園市大溪普濟堂位於大溪老城區，主祀關聖帝君，每年農曆6月24日聖帝公生日遶境是小鎮大溪最熱鬧也最盛大的活動，號稱大溪第二個過年，全鎮的士、農、工、商全員出動，連在外工作、讀書的遊子們也盡己所能回到家鄉大溪投入其中。今年預計7月17、18日兩天熱鬧舉行，適逢桃園市「城鎮韌性（防空）演習...\n",
      "\n",
      "🌍 Translation:\n",
      "Peach City Air Defense Exercise, 17th, will be suspended for 30 minutes in front of the head of the Church of St. John's Christmas Club. (Reporter Lee Jong-bing/Peach Garden Reporter) Pupji Hall in Grand Creek, the capital of the Holy Emperor, is scheduled to be the hottest and largest event in the town's second birthday on June 24th. The town's second anniversary will be marked by a full-scale movement of students, farmers, workers, and business people from all over the town, as well as an excursion to work outside the country, reading books and books. This year, two days are scheduled for July 17th, 18th.\n",
      "--------------------------------------------------\n",
      "\n",
      "📄 Original (Article 40):\n",
      "三元能源科技今火勢撲滅，環保局檢測空品正常。（記者陳文嬋攝）\n",
      "〔記者陳文嬋／高雄報導〕台泥子公司「三元能源科技」昨爆炸，燃燒近27小時釀15傷，高雄市府今初判電池芯過度充放電或內部短路等，因熱失控致電池芯釋出可燃性氣體引發火勢肇災，除勒令停工並可裁處最高530萬元，將行文要求改善，並加強稽查、消防演練，以降低事故發生。\n",
      "台泥子公司三元能源科技造成15人受傷有3人是消防人員，空氣污染擴及8公里影響3...\n",
      "\n",
      "🌍 Translation:\n",
      "Three dollars of energy technology has been destroyed, and the Environmental Protection Agency has been able to detect empty materials. (Reporter Chen Wenwei) The Tijuana company, \"Three dollars of energy technology,\" exploded yesterday, burning nearly 27 hours and 15 hours of injury, and the city government ordered the battery core to be overcharged or short internal circuits, causing firefights due to heat loss, stopping the work and reducing it to a maximum of 5.3 million dollars, which will require improvements, as well as enhanced surveillance, fire drills, etc., to reduce the accident.\n",
      "--------------------------------------------------\n",
      "\n",
      "📄 Original (Article 41):\n",
      "15日歸還給龐貝古城考古公園的馬賽克拼貼畫，描繪愛侶間的情慾。（美聯社）\n",
      "〔編譯管淑平／綜合報導〕一幅羅馬時代描繪一對愛侶情慾的馬賽克拼貼畫，在第二次世界大戰期間被納粹德國掠奪後，流浪了80年，15日送還給義大利龐貝古城考古公園，物歸原地。\n",
      "《美聯社》15日報導，這幅馬賽克拼貼畫，是由一名已故德國公民的後人，歸還給義大利，並在義大利駐德國斯圖加特領事館安排下，15日透過外交管道交給龐貝考古公園。專...\n",
      "\n",
      "🌍 Translation:\n",
      "The 15th day was returned to Marcelk in the archaeology park of Pompey City, where the desire for love was painted. (A Associated Press) The 15th day was reported by the United States of America that the mosaic was written by a late German citizen who returned to Italy and was taken by the Nazi Germany during the Second World War and handed over to the Pontifical Archaeological Park on 15 days through diplomatic channels.\n",
      "--------------------------------------------------\n",
      "\n",
      "📄 Original (Article 42):\n",
      "台北地方法院繼續開庭審理京華城案，傳喚時任台北市都委會技正胡方瓊作證，提訊在押前台北市長柯文哲（左）、國民黨台北市議員應曉薇（右）到庭。（資料照，記者塗建榮攝）\n",
      "〔記者王定傳／台北報導〕台北地院審理京華城案，上週傳喚都委會前技正胡方瓊作證，她卻說筆錄與她想表達的不同，因遭催促才趕快在筆錄上簽名，形同翻供；但廉政署檢視錄影，胡方瓊當時打開自己的筆電，邊看螢幕邊回答，檢察官今也當庭提及此事，認為審理時...\n",
      "\n",
      "🌍 Translation:\n",
      "The Taipei District Court continued its proceedings in the case of Jinghua City, calling the then-Taibei City Council to testify against Hu Fangjun, who wanted to tell her that the transcript was different from the one she wanted to make, and that the former Taipei Mayor, Kowench (left) and the National Democratic Party Taipei Councillor, should have known Vivi (right) to appear before the court. (Datashot, journalist drew a picture of the incident, and then he looked at the screen and answered, and the Attorney-General now referred to the matter, saying that she was trying to make a difference and that she had to sign it in order to turn it up because she wanted to.\n",
      "--------------------------------------------------\n",
      "\n",
      "📄 Original (Article 43):\n",
      "\n",
      "廖志軒／核稿編輯\n",
      "〔記者吳孟儒／綜合報導〕台灣女籃今天在2025亞洲盃女子籃球賽分組預賽多點開花，12人上陣都有得分，加上第三節的27：8的狂攻為勝負定調，終場以91：47輕取哈薩克，但執行教練邱啟益卻認為表現「不及格」。\n",
      "台灣對哈薩克以44分大勝，但開賽打得拉鋸，首節只以22：17小幅領先，邱啟益表示，「有提醒大家要適應戰鬥民族打法，她們就是來打架，但大家沒準備好，防守沒有做好，被打得暈頭轉向...\n",
      "\n",
      "🌍 Translation:\n",
      "The Taiwan Women’s Basket, which is scheduled to bloom today at the 2025 Asian Women’s Basketball Division, scores 12 people, plus the 27:8 storm of Section III. The end was easy for Hasakah, with 91:47, but the executive coach Qui Xiu’s inspiration thought to be a “failure.” Taiwan won 44 points against Hassak, but the first line of the race was a 22:17 small leader, and Khurt said, “A reminder of the need to fight the fighting nation, they came to fight, but they were not ready to do it, were not prepared to do it, and they were stunned, and they were knocked back.\n",
      "--------------------------------------------------\n",
      "\n",
      "📄 Original (Article 44):\n",
      "台灣國防部一年一度的「漢光演習」7月9日舉行，時間長度破紀錄倍增至十天九夜，動員人數也創新高，涵蓋範圍與演練強度均遠超以往。\n",
      "這次實兵演習，是自台灣總統賴清德定義中國為「境外敵對勢力」後的首次，軍方正式針對中國「灰色地帶」襲擾進行演訓，被認為反映出台灣政府對北京「由演轉戰」的風險拉高警覺。\n",
      "另一大焦點，是今年首度結合民間防空演習和後勤要素，假想中國解放軍進入台灣都會及城鎮，演練「縱深防禦」及「持久...\n",
      "\n",
      "🌍 Translation:\n",
      "For the first time since Taiwan’s President Reced has defined China as an “offshore enemy,” the military has officially trained China on the “grey zone” of China, which is considered to reflect Taiwan’s government’s heightened awareness of Beijing’s “turn from war” risks. Another major focus is the first national air defence drills and after-actions this year, under the assumption that China’s Liberation Army will enter Taiwan and town, and perform deep defense and sustained security.\n",
      "--------------------------------------------------\n",
      "\n",
      "📄 Original (Article 45):\n",
      "\n",
      "〔記者徐正揚／斗六報導〕味全龍今天靠前兩局鯨吞7分奠定勝基，以12：4擊敗台鋼雄鷹，郭天信演出個人下半季首次猛打賞，單場3支安打都是長打，比整個六月僅有2支還多，他表示，最近逐漸找回打擊手感，希望好好維持住不要再跑掉。\n",
      "郭天信2局下擊出三壘安打有1分打點，助味全把領先擴大到3：0，5局下的二壘安打也有打點，7局下滿壘時又敲二壘安打清光壘包，不僅是他繼4月11日後的今年第2次猛打賞，更繼去年8月4...\n",
      "\n",
      "🌍 Translation:\n",
      "(Reporter Xu Jianjin/Dao) The All-Long today built his winning base by seven points from the first two strikes, beating the Steel Eagles by 12:4 and the first hit by the Kwok Tianshin performers in the second half of the month. Three strikes were long in one field, more than two in the whole of June. He said he had recently recovered his slamming sense and hoped to keep him alive.\n",
      "--------------------------------------------------\n",
      "\n",
      "📄 Original (Article 46):\n",
      "\n",
      "〔記者吳正庭／金門報導〕陸軍金門防衛指揮部支援營醫療連今天在「花崗石醫院」實施戰傷救護與大量傷患後送演練，模擬戰爭傷患的集中處置，以提升第一線急救團隊的作業能量，強化官兵面對壓力情境的判斷與處置能力。\n",
      "\n",
      "花崗石醫院建於1978年，原為軍醫院，是1座罕界的地下坑道醫院，內部有3條橫向、9條縱向坑道，動員大量阿兵哥，歷經2年挖掘興建而成；由於全院都是花崗石體，即使遭遇戰火，仍能維持醫療與救援功能。該...\n",
      "\n",
      "🌍 Translation:\n",
      "[Reporter Wu Jingmong/Kimmen reports] The Army’s Golden Gate Defense Command supports the camp’s medical team today in the \"Fraidstone Hospital\" to conduct war injuries rescues and large numbers of post-injury evacuation exercises, modeling a centralized response to war injuries to enhance the ability of the first line of emergency teams to operate and strengthen their ability to cope with stress. The Wallstone Hospital, which was built in 1978 as a military hospital, has three horizontal, nine vertical tunnels inside, and has a large number of Afghan soldiers, built up over two years; it is a hospital built to maintain medical and rescue functions, even in the event of a fire.\n",
      "--------------------------------------------------\n",
      "\n",
      "📄 Original (Article 47):\n",
      "\n",
      "衛生紙丟馬桶會阻塞？到底能不能丟馬桶？環境部部長彭啟明特別在臉書發文表示，只要是可溶於水的衛生紙，都可以丟進馬桶，不會造成阻塞，「請安心丟入馬桶吧。」\n",
      "彭啟明表示，很多人從小到大可能都有馬桶阻塞的經驗，不過這不是衛生紙造成的，可能是有些人的習慣或知識，什麼東西都往馬桶丟，例如菸蒂、面紙或是雜物，好像馬桶可以把任何壞事都清除掉。\n",
      "請繼續往下閱讀...\n",
      "\n",
      "彭啟明說，「物質不滅定律」，可不可以溶於水其...\n",
      "\n",
      "🌍 Translation:\n",
      "Is it possible to dump a toilet? Minister of the Environment Peng Xing-ming wrote on Facebook, inter alia, that as long as it is a water-solvable toilet, it can be thrown into the toilet, so as not to cause any obstruction, \"Please leave it in the toilet.\" Peng Xing-ming said that many people may have had toilet blockage experience from an early age, but it's not caused by the toilet, it's probably the habit or knowledge of some people, it's all thrown in the toilet, like a cigarette, face paper, or junk, as if the toilet could wipe out anything bad.\n",
      "--------------------------------------------------\n",
      "\n",
      "📄 Original (Article 48):\n",
      "\n",
      "〔記者徐正揚／斗六報導〕味全龍掌握對方守備判斷失誤，於2局下多得4分攻出5分大局，才打兩局就大幅領先7分定調勝負，以12：4擊敗台鋼雄鷹拿下近5戰的第4勝，對於這5場共得43分的強大火力，連總教練葉君璋都不諱言，最近休息區「兵乒乓乓」的聲音確實變少。\n",
      "味全1局下才攻5人次就以2：0先馳得點，關鍵在2局下2出局，生涯首次先發守中外野的林威漢判斷失誤，讓李凱威擊出的飛球落在身後形成二壘安打再丟1分，...\n",
      "\n",
      "🌍 Translation:\n",
      "(Reporter Xu Jianjin/Dao 6) All dragons were misinformed about each other’s defenses, with four more points in two, and only five more points in two, with a big seven-point win, and a four-point victory in 12:4 against the Iron Eagle, with nearly five battles in five, with a total of 43 points of fire, and even the director-in-chief, Ye King-jung, who recently lost his voice in the rest zone. The five-point strike in one round was only two zero points in two, and the key was two outs in two. For the first time in his life, Lim Wai-han, who was in the middle field, lost a second base and lost a second base after Li Kai-wei’s hit the ball.\n",
      "--------------------------------------------------\n",
      "\n",
      "📄 Original (Article 49):\n",
      "鮑爾的貨幣政策立場數度激怒川普。（美聯社）\n",
      "〔編譯魏國金／台北報導〕美國財政部長貝森特15日受訪說，遴選新任聯準會（Fed）主席的程序已正式展開，他也建議現任主席鮑爾在明年5月任期結束後，離開聯準會理事會，以避免參與貨幣決策。\n",
      "貝森特接受彭博電視訪問說，對於確認下一屆聯準會主席提名人的程序「已正式展開；聯準會內部與外部有許多優秀的候選人」。而當被問及美國總統川普是否詢問他本人出任聯準會主席時，貝森...\n",
      "\n",
      "🌍 Translation:\n",
      "The US Treasury Minister Besent said on 15th that the process of electing the new Chairman of the United Nations Security Council (Fed) had been officially opened, and he suggested that the current President, Paul, should leave the Board of Governors next May, in order to avoid taking part in the decision on the currency. Besent received a television interview from Bloomberg that the process of identifying the nominees for the next Union Chairman was \"open; there are many excellent candidates inside and outside the Council.\" And when asked and whether US President Trunchton asked him about his appointment as Chairman of the Council, Bessen was asked.\n",
      "--------------------------------------------------\n",
      "\n",
      "📄 Original (Article 50):\n",
      "\n",
      "〔記者粘藐云／新北報導〕台灣白隊小將徐堂琪今天在瓊斯盃「台灣內戰」中繳出11分表現不俗，但在首節遭到賀丹「顏扣」震撼教育，他表示，因為一開始是自己失誤，所以就算知道他會扣籃也要盡全力去守，「我都失誤了，躲開有點不夠積極。」\n",
      "目前就讀台灣藝術大學、192公分的徐堂琪，今天在台灣內戰中表現不俗，全場8投5中拿下11分、6籃板，他表示，「從出發來瓊斯盃第一天，教練跟我說，上場就做自己該做的事，他不會因...\n",
      "\n",
      "🌍 Translation:\n",
      "“I've been wrong, I've been running away a little bit.” So far, Taiwan University of Arts, 192cm, Donki Seo, is doing a good job in the battle in Taiwan today, with 11 points to 6 baskets in the 8th of the 5th round, and he says, “On his first day in Jones City, the coach told me that he would do what he had to do, and he wouldn't do it because he had to do what he had to do.\n",
      "--------------------------------------------------\n",
      "\n",
      "📄 Original (Article 51):\n",
      "國民黨大咖齊聚，桃園市「反惡罷、顧桃園」守護民主之夜20日中壢登場。（國民黨桃園市黨部提供）\n",
      "〔記者李容萍／桃園報導〕公民團體發動罷免桃園市6席國民黨立委，將於26日投票，國民黨桃園市選前黃金週聯合造勢，訂於20日晚上6點在機場捷運A22老街溪站旁舉辦「反惡罷、顧桃園」守護民主之夜，由立法院長韓國瑜領軍藍白大咖站台，力保國民黨立委牛煦庭、涂權吉、魯明哲、萬美玲、呂玉玲及邱若華繼續留在立院，呼籲選民...\n",
      "\n",
      "🌍 Translation:\n",
      "The National Democratic Party (NDP) gathered to vote on the 26th day of the Golden Week coalition before the Peach Park election, which is scheduled to take place at 6 p.m. on the night of the A22nd Street brook at the airport on the night of the A22nd Street guard democracy watch, with the \"anti-demonstration, porcelain\" watch being held by the Korean Yoko army, the Blue and White Curry Station of the Court Chief of Justice, which provides protection for the NDP's Bulls, Dugji, Lumingge, Marlene, Taming and Joo-Wu, who remain in the courtyard at 6 p.m. on the night of the 20th, calling for an election.\n",
      "--------------------------------------------------\n",
      "\n",
      "📄 Original (Article 52):\n",
      "\n",
      "一般民眾婚前婚後購屋，為了雙方在財產上有所保障，可能會登記一人一半持有房屋，不過同時間也會佔掉兩個人的首購條件，信義房屋不動產企研室專案經理曾敬德表示，近期就有民眾要換屋時，早年房子登記一人一半的情侶，婚後生小孩空間不夠用要換屋時，就面臨到第二房的房貸問題，最後決定把房子贈與給另一半，取得乾淨的首購條件。\n",
      "情侶或者新婚夫妻購屋，為了確保雙方的權益，不少都登記一人一半的房屋持分，不過碰到選擇性信用...\n",
      "\n",
      "🌍 Translation:\n",
      "When ordinary people buy houses before marriage, in order to secure the property of both parties, they may register one half of the house, but at the same time they also take the first purchase terms of two people. The manager of the Project of the Innocence Enterprise said that in the near future, when people change their homes, they register one half of their couple in the early years, and when the children do not have enough space to change their homes, they come to the second house, and they decide to give the house to the other half and get a clean first purchase deal.\n",
      "--------------------------------------------------\n",
      "\n",
      "📄 Original (Article 53):\n",
      "1992年麥當勞爆炸案，楊季章拆彈殉職，同袍葛永興（左）四處賣餐券湊10萬送別。33年後他退休，說自己終於老了，但楊季章，永遠停在24歲。（記者王捷攝）\n",
      "〔記者王捷／台南報導〕1992年台北市松山區麥當勞民生店遭安置水銀炸彈，「特一隊」拆彈人員楊季章殉職，與他同隊的隊員葛永興，至今仍難以平復，也因此離開刑事局，回台南重新開始，如今他在這個月退休，心裡五味雜陳。\n",
      "葛永興說，還記得當時麥當勞送了很多禮...\n",
      "\n",
      "🌍 Translation:\n",
      "In 1992, in the McDonald’s bombing, Yang Qizheng was killed in a bomb attack, and his co-defendants, Yang Qiyonghing (left) sold food coupons for 100,000 farewells. After 33 years, he retired and said he had finally grown old, but Yang Qi Xiang Xiang stopped forever at the age of 24. (Reporter Wang Jian Jian) [Reporter Wang Jie/Tainan reported] In 1992, McDonald’s Men’s Shop was placed with a silver bomb in the Shanshan district of Taipei, and “Special Unit” bomber Yang Qi Xiang was killed in his post, along with his team’s team members, and it is still difficult to level up.\n",
      "--------------------------------------------------\n",
      "\n",
      "📄 Original (Article 54):\n",
      "\n",
      "〔記者粘藐云／新北報導〕2025年瓊斯盃男籃賽事自上週六在新莊體育館開打後，出現不少球員因為地貼滑倒的情況，險象環生，針對地貼問題，職籃工會今天發出3點聲明，呼籲主辦單位應正視責任。\n",
      "2025 年瓊斯盃於新莊體育館舉行後，職籃工會接獲多位球員反映場地地貼出現打滑、移動受限等情形，影響比賽流暢度並提高運動傷害風險。\n",
      "請繼續往下閱讀...\n",
      "\n",
      "7 月 14 日下午，工會正式行文至教育部體育署、新北市政...\n",
      "\n",
      "🌍 Translation:\n",
      "Since last Saturday, when the Jones Cup boys’ basket was launched at the new stadium, there have been a number of players who have been involved in the slidesliding, risk-taking, and place-to-place issues. The Basket Chamber today issued a 3-point statement calling on the host office to take responsibility. After Jones’s launch at the new gym in 2025, the basket workers have received a number of players who have reflected the slippage, mobility restrictions, etc., affecting the flow of the game and increasing the risk of physical harm.\n",
      "--------------------------------------------------\n",
      "\n",
      "📄 Original (Article 55):\n",
      "（中央社記者黎建忠台北15日電）在中國深圳舉行的亞洲盃女籃第2級賽事，台灣隊今天在分組預賽最終戰對上哈薩克，從第2節拉開差距，終場在韓雅恩16分帶領下，以91比47取得3連勝，以分組第1晉級4強。\n",
      "台灣女籃在2023年亞洲盃僅拿下第8名，今年得從第2級賽事打起，分組預賽台灣和哈薩克、印度、大溪地同組，另一組4隊為伊朗、泰國、蒙古、庫克群島。\n",
      "當前熱搜：「第一時間說我們指控不實」台師大女足學生遭莫名...\n",
      "\n",
      "🌍 Translation:\n",
      "Today, the Taiwan team is preparing for the final battle against Hassak, which will be led by Han Yaan from the 16th quarter, winning the final battle with 91 to 47, which will be the first four. In 2023, the Taiwan women basket took its eighth place in the Asia Cup, and this year it will have to start with the 2nd round, and it will be divided between Taiwan and Hasakah, India, the Great Creek Group, and four teams for Iran, Thailand, Mongolia, and the Cook Islands.\n",
      "--------------------------------------------------\n",
      "\n",
      "📄 Original (Article 56):\n",
      "當你站在白雲鄂博的邊緣，你會看到一片佈滿傷痕的灰色大地被刻進了中國北方的內蒙古草原之中。\n",
      "深色的塵雲從深坑中升起，那裡的地殼經過數十年的挖掘，只為尋找現代的寶藏。\n",
      "你可能沒有聽過這個小鎮——但如果沒有白雲鄂博，我們所熟知的生活可能會陷入停頓。\n",
      "小鎮的名字來自其所屬的地區，這個地區擁有全球一半的稀土金屬儲量。稀土金屬是幾乎所有電子產品關鍵組件的主要成分：智慧型手機、藍牙喇叭、電腦、電視螢幕，甚至是電...\n",
      "\n",
      "🌍 Translation:\n",
      "When you stand on the edge of White Cloud Obo, you will see a gray land full of bruises engraved into the middle of China’s north. Dark clouds rise from deep pits, where shells have been excavated for decades to find modern treasures.\n",
      "--------------------------------------------------\n",
      "\n",
      "📄 Original (Article 57):\n",
      "（中央社記者黎建忠台北15日電）台灣羽球男雙組合楊博涵、劉廣珩，今天在BWF超級750的日本羽球公開賽首輪32強，以21比15、21比19扳倒世界第9的印尼搭檔毛蘭納與卡爾南多，驚喜挺進16強。\n",
      "世界排名第24名的台灣「寒流組合」楊博涵、劉廣珩，賽前和印尼的毛蘭納（Bagas Maulana）與卡爾南多（Leo Rolly Carnando）交手過1次，是在今年的亞洲錦標賽，當時台灣組合直落2敗北...\n",
      "\n",
      "🌍 Translation:\n",
      "Taiwan's twenty-fourth-largest Taiwan, Yang Bo-heung, Liu Gwang-hoon, formerly and Indonesia's Bagas Maulana and Leo Rolly Carnando, had one match today at the BWF's super 750 Japanese badminton open competition, which brought down the world's ninth partner, Malana and Karnando, with 21-15 and 21-19.\n",
      "--------------------------------------------------\n",
      "\n",
      "📄 Original (Article 58):\n",
      "（中央社記者楊思瑞、蔡智明台南15日電）1名在嘉義縣義竹鄉修復電力的台電工作人員，今天下午遭電擊命危，一度無呼吸心跳，經送台南市柳營奇美醫院搶救後架設葉克膜維生。\n",
      "柳營奇美醫院表示，該名病人送醫時已無呼吸心跳，經緊急搶救後恢復，目前架設葉克膜維生，患者約有20%燒傷，集中在上半身，目前在加護病房觀察中。\n",
      "延燒焦點：卓揆赴臺南視察風災災損 宣布提供每戶最高10萬元房屋損壞復原慰助金\n",
      "嘉義縣消防局告訴...\n",
      "\n",
      "🌍 Translation:\n",
      "An electrician who was electrocuted this afternoon, without breathing heart beating, delivered to the Chimmy Hospital in Yanan, Taiwan City, to rescue the post-Yakmei hospital. According to Willow Camp Chimmy Hospital, the patient was evacuated with no breathing heart, recovered after an emergency rescue, and currently has a Yekmevic system with approximately 20% burns, concentrated in the top half of the body, and is currently in the intensive ward.\n",
      "--------------------------------------------------\n",
      "\n",
      "📄 Original (Article 59):\n",
      "（中央社記者王鴻國新北15日電）新北市板橋區中山路的後站商圈今晚8時許發生公車車尾不慎擦撞路旁變電箱，造成現場約10間商家停電，台電已派員到場搶修。肇事責任由警方調查釐清。\n",
      "據了解，台北客運黃姓司機今晚駕駛公車停靠中山路的站牌後，駛離時未與變電箱保持安全間隔，車尾擦撞損壞變電箱，導致附近約10家商店停電，雖無火煙，消防人員仍迅速到場了解，目前無人受傷，台電已派員搶修。\n",
      "精選報導：又一「熱帶性低氣壓...\n",
      "\n",
      "🌍 Translation:\n",
      "At 8 p.m. this evening, the rear business circle of the Midhill Road in New North City.\n",
      "--------------------------------------------------\n",
      "\n",
      "📄 Original (Article 60):\n",
      "（中央社新德里15日綜合外電報導）來自印度的福賈·辛赫（Fauja Singh）是全世界公認最年長的馬拉松選手，其傳記作者今天證實他於14日死於車禍，享壽114歲。\n",
      "法新社報導，出生印度的英國籍跑者辛赫，別稱「包頭巾的旋風」，昨天在印度旁遮普邦（Punjab）的賈蘭哈區（Jalandhar）遭車輛撞擊身亡。\n",
      "全站首選：「第一時間說我們指控不實」台師大女足學生遭莫名抽血 泣訴全文首曝光！\n",
      "辛赫的傳記...\n",
      "\n",
      "🌍 Translation:\n",
      "Fauja Singh, India, is the world’s most recognized Marathon runner, whose reporter confirmed today that he died in a car accident on 14 days and was 114 years old. Agence France-Presse reported that the Indian-born English runner Singh, not the “twilight of the turban,” was killed yesterday by a car crash in the Jalandhar district of Punjab, India.\n",
      "--------------------------------------------------\n",
      "\n",
      "📄 Original (Article 61):\n",
      "根據中央氣象署資料，07/15-21:58發生芮氏規模4.8有感地震，震央位於北緯 21.61度、東經121.01度，地震深度為29.4公里\n",
      "\t\t，相對位置在臺東縣政府南方  127.6  公里 (位於臺灣南部海域)。各地最大地震度級：\n",
      "● 屏東縣地區最大震度3級\n",
      "現正最夯：嗆檢「要押就押我一個」柯文哲稱「沒貪污」：只能安慰自己看守所免食宿\n",
      "3級：鵝鑾鼻、滿州、南灣、恆春2級：墾丁1級：春日、新埤...\n",
      "\n",
      "🌍 Translation:\n",
      "According to the Central Gas Agency, there were 4.8-size earthquakes in 07/15-21-58 at 21.61 degrees north, 121.01 degrees east and 29.4 kilometres south of the Tiandong county government, with 127.6 kilometres south (in the south of Taiwan). The largest seismic levels are: Quantities 3 in the eastern county. Quantities 3 in the eastern district.\n",
      "--------------------------------------------------\n",
      "\n",
      "📄 Original (Article 62):\n",
      "（中央社記者謝靜雯桃園15日電）中職樂天桃猿隊13日將投手黃子鵬下放二軍，總教練古久保健二表示，整體看起來是控球問題待修正，讓黃子鵬二軍調整；至於林立歸隊時間點，交給本人和防護員評估。\n",
      "桃猿隊投手黃子鵬5日先發出賽，總計投3.1局被敲10支安打，失掉7分責失分吞敗，13日被下放二軍。\n",
      "持續更新：又一「熱帶性低氣壓」生成！氣象署揭對台影響、預估路徑\n",
      "桃猿隊總教練古久保健二今天賽前接受媒體聯訪表示，本...\n",
      "\n",
      "🌍 Translation:\n",
      "On the 13th day of the 13th day of the Xue Jingdian Apes squad, the general director of Gugu Health II said that the whole body appeared to be a control issue to be amended, allowing the Quantico 2 army to adjust; and on the point of time for Lin to return to the team, to be assessed by myself and the defender. The Peach Apes team dropped the Quantinos five days before the 5th day of the competition, with the result that the 3.1 Bureau was hit 10 times, lost 7 points of responsibility, lost 7 points of responsibility, and was devolved for 13 days.\n",
      "--------------------------------------------------\n",
      "\n",
      "📄 Original (Article 63):\n",
      "大罷免聲量持續飆高，外傳同意罷免的投票率可能改寫投票史，國民黨現在動員造勢，恐怕為時已晚？印太戰略智庫執行長、資深媒體人矢板明夫在《矢板明夫Newtalk》中分析，朱立倫一開始認為，大罷免是藍綠對決，罷團後面是民進黨在支持，罷團是民進黨所組織的，這完全是戰略性的認敵不明，「他完全搞不清楚」。\n",
      "回顧大罷免一階二階都能通過，背後的力量早已超越單一政黨，吳崑玉則認為，朱立倫一開始提出以罷制罷，確實會讓民...\n",
      "\n",
      "🌍 Translation:\n",
      "It's too late for the National Party to start a campaign. In an analysis by the Chief Executive of the Strategic Library, the Deep Media Director, in Newtalk, Julien began by arguing that the strike was a blue-green standoff, that the strike was supported by the Popularists, that the strike was organized by the People's Party, and that it was not clear that the \"he was completely unsure\" that the first stage of the campaign would pass, and that the power behind the strike was already ahead of a single party.\n",
      "--------------------------------------------------\n",
      "\n",
      "📄 Original (Article 64):\n",
      "近（13）日南投「罷綠」行動未能過關，民進黨士氣大增，更加堅定罷免不適任立委的決心。今（15）日立法院民進黨團幹部吳思瑤、林楚茵南下台中，親赴第五選區協助「斷健行動2.0」罷免黃健豪，接連投入電話催票與街頭宣講行動，為7月26日投票日催出關鍵動能。面對國民黨立委持續在國會亂刪預算、挑戰程序正當性，綠營強調台中戰區至關重要，「726出門投票」，成為守護國會民主的最後防線。\n",
      "林楚茵下午2點半抵達北屯莊...\n",
      "\n",
      "🌍 Translation:\n",
      "In the wake of the failure of the recent (13) \"Greening\" campaign in the south of the country, the PNP has increased its morale and has become more determined to avoid the decision of the Commission. Today, the ruling party of the PNP is now in charge of the National Assembly, U Shih Yiu, Lin Chuinnan, who went to the 5th district to assist with the \"Abstinence Action 2.0\" campaign, and joined up with the call-calls and the street announcement campaign to raise critical momentum for the 26th of July election day. In the face of the National Party’s continuing campaigning in the National Assembly, the campaign process is taking place, and the Green Camp’s high-profile battle zone is central, with a “726 out of the gate vote” as the last line of defence for the NPC’s democracy.\n",
      "--------------------------------------------------\n",
      "\n",
      "📄 Original (Article 65):\n",
      "（中央社記者蔡智明嘉義縣15日電）丹娜絲颱風造成嘉義縣電力嚴重受損，台電人員全力修復，今天下午4時許傳出意外，1名在義竹鄉修復電力的工作人員遭電擊命危，送台南市柳營奇美醫院急救中。\n",
      "台電嘉義區處告訴中央社記者，台電工安部門正在調查了解意外為何發生，並通報勞檢單位。（編輯：李淑華）1140715\n",
      "\n",
      "🌍 Translation:\n",
      "At 4 p.m. this afternoon, an accident was reported in which one of the workers who repaired power in the village of Yi-ma was electrocuted and sent to Chimi Hospital in Kanasu, Tainan City, under emergency care. The station authorities told the central news agency that Radio and Security was investigating why the accident had occurred and reporting to the Attorney-General’s office.\n",
      "--------------------------------------------------\n",
      "\n",
      "📄 Original (Article 66):\n",
      "（中央社記者黎建忠台北15日電）2025德國萊茵魯爾世界大學運動會將於16日（台灣時間17日凌晨2時）開幕，台灣代表團派出196名選手參賽，開幕式掌旗官今天揭曉，將由擊劍好手陳弈通、網球女將楊亞依擔任。\n",
      "現年22歲的陳弈通，在2024年亞洲及大洋洲區資格賽奪冠，搶下巴黎奧運的參賽資格，成為台灣相隔36年後，再度有男子選手參加奧運擊劍運動。\n",
      "當前熱搜：「第一時間說我們指控不實」台師大女足學生遭莫名抽...\n",
      "\n",
      "🌍 Translation:\n",
      "At the beginning of the 2025th World University Games in Reynrure, Germany, on the morning of 2 a.m. 17 Taiwan Time, with 196 athletes from Taiwan’s representative group, the opening-up flagr today revealed that Yang Ya would be represented by a sword-shooter, a tennis woman. Chen Chen, now 22 years old, won the 2024 Asian and Oceania regional championships, took off the Paris Olympics tournament, and became 36 years apart from Taiwan, and a man took part in the Olympic Swords movement again.\n",
      "--------------------------------------------------\n",
      "\n",
      "📄 Original (Article 67):\n",
      "（中央社記者謝靜雯桃園15日電）中職中信兄弟野手宋晟睿願望成真，將參加明星賽全壘打大賽，他透露之前看林智勝、陽耀勳拚全壘打大賽印象深刻，參賽以不受傷、不影響賽季為原則，目標是追隨林智勝。\n",
      "宋晟睿遞補參賽明星賽全壘打大賽，他透露其實一直都想要打看看，小時候看明星賽全壘打大賽，覺得很帥，當時的目標就是如果有機會打職棒、入選明星賽，也希望可以參加全壘打大賽，印象最深刻的全壘打大賽是2016年林智勝與陽耀...\n",
      "\n",
      "🌍 Translation:\n",
      "His middle-ranking brother, Song Min-Wing, wanted to make it happen, would be in a big game for a star race. He was impressed to see Lin Ji-sung and Sun-sung for a home run, based on the principles of not hurting and not affecting the season, with the aim of following Lin Ji-soo. Song Sung-sing-hee, who was the winner of the big game, said that he always wanted to see the big game at a young age, and he was handsome. The goal at that time was if he had the chance to hit a baseball game, and he wanted to be in a big game, and he wanted to be in a big game, and the most impressive home run was in 2016.\n",
      "--------------------------------------------------\n",
      "\n",
      "📄 Original (Article 68):\n",
      "2025城鎮韌性（全民防衛動員）演習今（15）日在台中市展開，行政院長卓榮泰特別前往台中梧棲區了解急救站與救濟站演練作業。卓榮泰表示，挑戰與災變有可能隨時發生，城鎮韌性演習目的在於擴大整體民力的訓練與應用、強化物資整備及配送系統、加強能源與關鍵基礎設施的安全保護、健全社會福利及醫療網絡，以及確保資通訊、運輸及金融網路安全等，以加強全社會防衛韌性安全，期盼今日參演的1萬2千名志工成為開枝散葉的種子，...\n",
      "\n",
      "🌍 Translation:\n",
      "According to Drontai, challenges and disasters are likely to occur at any given time, and the aim of the town's sexual exercises is to expand the training and application of the entire population, to strengthen the material and delivery system, to strengthen the safety and protection of energy and critical infrastructure, to improve social welfare and medical networks, and to ensure the safety of information, transport and financial networks, so as to enhance the security of society as a whole.\n",
      "--------------------------------------------------\n",
      "\n",
      "📄 Original (Article 69):\n",
      "內政部長劉世芳今（15）天偕同替代役訓練及管理中心執行長沈哲芳前往台南和嘉義等災區，慰勉從昨天開始就分批由警政署支援專車接送、由成功嶺陸續前往災區協助的1,350位替代役役男。陸軍第十軍團也提供防護裝備，讓這批替代役青年能在安全無虞的條件下，全力投入支援。\n",
      "內政部日前調度替代役役男警大、警專畢業生，投入協助丹娜絲颱風災後復原。劉世芳今天偕同沈哲芳前往台南市後壁區仕安社區、鯤鯓鯤溟里聯合活動中心、嘉...\n",
      "\n",
      "🌍 Translation:\n",
      "The Minister of the Interior, Liu Shifang, and the Executive Director of the Alternative Training and Management Centre, Shen Chul-Fang, have travelled to the disaster zones of Taiwan and Ka'il, and since yesterday, the Ministry of the Interior has divided over 1,350 men in alternative service who have been assisted by police support vehicles and who have successfully travelled to the disaster areas. The Army's 10th Army has also provided protective equipment to enable this group of young replacements to be fully supported under safe and secure conditions.\n",
      "--------------------------------------------------\n",
      "\n",
      "📄 Original (Article 70):\n",
      "（中央社記者謝靜雯桃園15日電）中職中信兄弟洋投李博登表現不如預期，總教練平野惠一認為，球速無法發揮就要善用不同方式讓打者打不好，而德保拉傷勢狀況還不明確，兄弟也持續物色新洋投。\n",
      "兄弟洋投李博登（Brandon Leibrandt）6月開始在一軍出賽，但表現不如預期，13日對味全龍隊投5局被敲9支安打，包括2發全壘打，失掉6分責失分，目前3場出賽失分偏多，吞下2敗、防禦率4.97。\n",
      "持續更新：丹娜...\n",
      "\n",
      "🌍 Translation:\n",
      "In June, my middle-ranking brother Li Boden did less than he expected, Coach Hirano thought that if the speed of the ball was not possible, he would have to use different methods to make the batters weak, and that Deborah was still in an uncertain condition, and that his brother was constantly looking for a new ocean. The brother cast Brandon Leibrandt in June, but he did less than he expected, and on 13 June, he was hit by 9 strikes on the All-Long Fung team, including 2 home runs, with 6 points lost, with three games now losing more points, with two downs, and a defensive rate 4.97.\n",
      "--------------------------------------------------\n",
      "\n",
      "📄 Original (Article 71):\n",
      "（中央社記者趙敏雅新北15日電）中國國民黨立委洪孟楷今天指罷團抹黑，造謠他買票走路工、動員宮廟及陣頭，下午到新北檢告發罷團違反選罷法。罷團表示，此舉不僅坐實洪孟楷心虛，更公然打壓公民聲音。\n",
      "民主進步黨籍新北市議員李宇翔上午在社群網站臉書（Facebook）表示，接獲陳情指國民黨將發新台幣500元動員參與19日反罷免活動，呼籲檢調全面徹查這類動員是否違法，務必杜絕惡質歪風。\n",
      "當前熱搜：「第一時間說我...\n",
      "\n",
      "🌍 Translation:\n",
      "In the Facebook page of the social networking site (Facebook), the Prime Minister of the Democratic Progressive Party, Lee Woo-Sung, stated that he would take over the National Democratic Party’s 500-dollar campaign, calling for a comprehensive and thorough inspection of the movement’s failure to comply with the law.\n",
      "--------------------------------------------------\n",
      "\n",
      "📄 Original (Article 72):\n",
      "（中央社記者蘇木春台中15日電）中部地區今天舉行城鎮韌性防空演習，台中蔡姓男子於演習時在加油站因不耐久候，自行騎機車離去遭員警攔下，警方調查後將依違反民防法移送裁處，最高可開罰新台幣15萬元罰鍰。\n",
      "中部地區今天下午1時30分至2時，舉行2025城鎮韌性防空演習。下午1時30分防空警報響起時，各路口負責管制交通的員警，陸續引導車輛停放路旁，並指引行人就近避難。\n",
      "持續更新：瞄準仁愛礁！美國資助菲律賓在...\n",
      "\n",
      "🌍 Translation:\n",
      "In the central region, where there is an air defense drill in the town of 2025 between 1.30 and 2 p.m. At 1.30 p.m. when the air defence alarm comes off, traffic officers from various points of the road are in charge of traffic control, and the vehicle is parked near the road, and the vehicle is being used to lead the vehicle in the process, and the passengers are being taken away.\n",
      "--------------------------------------------------\n",
      "\n",
      "📄 Original (Article 73):\n",
      "台中第六選區罷免羅廷瑋進入投票倒數關鍵階段，民進黨集結來自北中南的立委何欣純、吳思瑤、黃秀芳、陳素月、徐富癸與罷免團體「敲羅行動」，今（15）日傍晚與中六選區在地市議員江肇國、鄭功進議員主任鄭紹頡、黃守達服務團隊、陳雅惠服務團隊站上街頭，在美村南路與忠明南路口進行「站路口挺罷免」行動，號召市民踴躍投下同意票，展現民意齊心、跨區挺罷免羅廷瑋的決心。\n",
      "敲羅行動領銜人呱呱指出，這場罷免行動絕無鬆懈空間，...\n",
      "\n",
      "🌍 Translation:\n",
      "At the end of the day, the Prime Minister and the Chief Justice of the Central Six in the city’s Senate in Jiangchoo, the Chief Executive Officer of the Central Six, Mr. Jeong-hoon, the Huang Ya-hee Service Group, stood in the streets and conducted a \"stop-and-go\" campaign on the south and south-central roads of the United States village, calling on citizens to vote in favour of a consensus and a consensus vote that would lead to an end to the will of the people in the region.\n",
      "--------------------------------------------------\n",
      "\n",
      "📄 Original (Article 74):\n",
      "（中央社記者謝靜雯桃園15日電）樂天桃猿隊野手林子偉明星賽將與傳奇捕手葉君璋、高志綱競技，也是首度參與中職明星賽；林子偉效力美職大聯盟期間有蹲捕出賽紀錄，笑說比準度可能有機會。\n",
      "中職今天公布明星賽參賽名單，戰技挑戰賽名單「鐵捕封殺王」19日登場，將測驗選手的傳球準度，參賽者包括昔日國家隊傳奇捕手葉君璋、高志綱，以及林子偉、潘傑楷。\n",
      "當前熱搜：嗆檢「要押就押我一個」柯文哲稱「沒貪污」：只能安慰自己看...\n",
      "\n",
      "🌍 Translation:\n",
      "The Lotte Apes World Stars Competition will be the first to participate in the legendary catcher, Ye Gjun-gi, Gao-Chichi, and the first time in a Chinese star race; Lin's Great League for American Effectiveness has been crouched to catch a track record and laughs about a benchmark. The Chinese today announces a list of star race contest participants, and a 19-day game of skill challengers, the Iron Seal King, who will test the player's passability, including the former National Team's legendary catcher, Shige-jing, and Lin Zi-Wing, Pan-Je-Li.\n",
      "--------------------------------------------------\n",
      "\n",
      "📄 Original (Article 75):\n",
      "\n",
      "台灣時間15日22時30分左右，30年期美債殖利率漲至5.0093％，為今年6月2日以來首見，當日上漲約2.8個基點。\n",
      "\n",
      "當晚稍早公布美國CPI數據之後、美股開盤之前，30年期殖利率一度跌至4.9306％刷新日低。\n",
      "\n",
      "10年期美殖利率漲3.6個基點至4.4713％，為當日新高。2年期美債殖利率漲約5個基點，持穩於3.9524％附近。\n",
      "\n",
      "🌍 Translation:\n",
      "At about 2230 hours Taiwan time, 30-year US interest rates rose to 5.0093%, first seen on 2 June, with an increase of about 2.8 basis points. Thirty-year interest rates fell to a new low of 4.930.6% before US CPI figures were released earlier that night.\n",
      "--------------------------------------------------\n",
      "\n",
      "📄 Original (Article 76):\n",
      "\n",
      "一年一度的88父親節的促銷戰，按摩椅與健身器材業，提前開打！喬山、岱宇與康生今年不約而同秀出88節應景商品搶市。其中，喬山再次推出全新日本按摩椅市占率第一品牌、日本製FUJIIRYOKI-「Super Ai按摩椅」型號JP-4000，因適逢父親節，上述日本製按摩椅打8折優惠。\n",
      "\n",
      "喬山表示，公司主打AI上述的按摩椅，以持續進化搭載「5D-AI PLUS雙球機芯」，利用無刷馬達和AI實現高扭力與高精...\n",
      "\n",
      "🌍 Translation:\n",
      "The annual 88 Father's Day campaign, massage chairs and gymnasiums, was launched ahead of schedule!Joshan, Dinyu, and Kang-sung had a 88-square-shower this year. Among them, Joshan once again launched the first brand of a new Japanese massage chair, and Japan produced the FUJIIRYOKI-\"Super Ai massage chair\" JP-4000, a Japanese massage chair of eight folds for father's sake. Josan said that the company used AI's above-mentioned massage chairs to continuously evolve the \"5D-AI PLUS double-ball core\" using unspaired motors and AI's current high twisting and precision.\n",
      "--------------------------------------------------\n",
      "\n",
      "📄 Original (Article 77):\n",
      "\n",
      "政府近年推動ESG、RE100政策，帶動眾多綠電交易電力公司，如雨後春筍般的設立，競相搶食市場大餅。為健全售電交易平台，中華民國太陽光電發電系統商業同業公會幾位幹部，基於保護「第三型特殊目的公司」（SPV）發電業者的綠電交易安全，已成立晨星電力公司，今年轉供容量，預計將大於300MW（百萬瓦）以上，並強調售電交易平台，屬於大家共同平台。\n",
      "\n",
      "基於這樣的理念下，晨星也慎選轉供買方，目前獲得世界級半導...\n",
      "\n",
      "🌍 Translation:\n",
      "In recent years, the government has promoted the ESG, RE100 policy, which has led to the creation of many green power trading companies, such as rain and rain, competing for food-market biscuits. For a sound power-sales platform, China’s Sunny Electric Systems Business Association has been working in several sectors, based on protecting the safety of green power trading by SPV producers, and has established the Morning Star Power Company, which is expected to be more than 300 MW (millions of MW) this year, and has also enhanced the power trading platform, which is a common platform for all.\n",
      "--------------------------------------------------\n",
      "\n",
      "📄 Original (Article 78):\n",
      "\n",
      "▲南韓光州降下罕見怪物級暴雨，星巴克慘遭洪水淹沒。（圖／翻攝自X，下同）\n",
      "記者羅翊宬／編譯\n",
      "南韓光州近日遭遇史上罕見暴雨侵襲，單日降雨量突破400mm，導致當地多處嚴重淹水。社群平台瘋傳一張當星巴克門市遭泥水吞噬的照片，畫面顯示光州某分店1樓已全數浸泡在泥濘積水中，桌椅漂浮水面，整間店面幾近癱瘓，災情之嚴重令人震驚。\n",
      "根據韓媒《中央日報》，這張照片昨（17）日出現在網路社群與論壇，標題為「光州星...\n",
      "\n",
      "🌍 Translation:\n",
      "In South Korea, there was a rare monster storm in South Korea, and Starbuck was flooded with flooding. (Chap/rolled from X) Reporter Roj/compiled South Korea has experienced a rare storm in its history in recent days, which has reached 400 mm a day, causing severe flooding in many parts of the country. The social platform carried a picture of a place that had been flooded with mud in the city of Starbuck Gate, showing that one floor of a branch of Lightbucks State was fully immersed in muddy water, with tables and chairs floating on its surfaces, and the entire shop near its surface.\n",
      "--------------------------------------------------\n",
      "\n",
      "📄 Original (Article 79):\n",
      "\n",
      "素有「聯準會傳聲筒」之稱的華爾街日報記者蒂米羅斯（Nick Timiraos）15日表示，美國6月消費者物價指數（CPI）不會改變Fed貨幣政策方向。\n",
      "6月通膨數據可能令官員保持審慎態度，他們可能在今年稍後降息，但不會承諾採取任何行動。\n",
      "數據顯示，6月CPI年增2.7％、增幅高於5月，但核心CPI月增0.2％，與過去一年平均水準一致。\n",
      "預期關稅帶來明顯通膨壓力的官員在看完6月數據後，將沒有太多理...\n",
      "\n",
      "🌍 Translation:\n",
      "The US Consumer Price Index (CPI) does not change the direction of Fed’s currency policy in June. The June inflation data may keep officials cautious that they may drop interest rates a little later this year, but they will not promise to take any action.\n",
      "--------------------------------------------------\n",
      "\n",
      "📄 Original (Article 80):\n",
      "\n",
      "為滿足今年下半年客戶雨、成衣訂單需求，並因應未來接單需求，國內風雨衣龍頭廠－達新（1315）15日表示，旗下緬甸廠，將擴大生產線，並持續招募員工，以擴大生產規模；另外，旗下中越廠，積極擴展生產基地與託工，以穩定客戶交期，預計明年春天完成擴產計劃，並量產風、雨衣，初估中越擴廠後，大約增加產值約1.2億至1.4億元。\n",
      "\n",
      "達新透露，公司預計2025年下半年會陸續推出數十款新設計的雨衣，配設新穎，符合年...\n",
      "\n",
      "🌍 Translation:\n",
      "In order to meet the demand for customers' orders in the second half of this year, and in response to the need for future orders, the country’s windcoat plant, the Dragon Head factory, Dazun (1315), indicated that the Myanmar factory under the flag, would expand its production line and continue to recruit staff to expand its production scale; in addition, the Chinese factory under the flag, which would expand its production base and services to stabilize its clients, anticipate the completion of its expansion plan next spring, and measure its production and clothing, with an estimated value of between 120 million and 140 million yuan after the initial increase in production.\n",
      "--------------------------------------------------\n",
      "\n",
      "📄 Original (Article 81):\n",
      "\n",
      "受到中颱丹娜絲強烈襲擊，遠傳電信第一時間啟動人力及物資跨區調度，動員數百名網路維運工程人員、投入超過1500人次全力搶修，並出動14輛行動通訊車、其中包含10輛搭載衛星傳輸的「衛星行動車」部署在嘉南地區，隨時機動調度支援災區通訊，保障民眾行動通訊需求。目前整體修復率已近95％，遠傳也將盡力在最短時間內恢復災區的完整通訊服務。\n",
      "此次風災橫掃台南、嘉義、雲林、南投等地區，包括電桿、光纜等基礎設施受損...\n",
      "\n",
      "🌍 Translation:\n",
      "In the wake of the intense attack by Middle East Chinese Daenas, the first time of telecoming triggered a cross-regional exchange of human and material resources, involving hundreds of Internet operators, more than 1,500 people, and the launch of 14 mobile communications vehicles, including 10 satellite-carried lorries, deployed in the Kanan region to support and support communications in the disaster zone at any time. The overall recovery rate is now nearly 95%, and it will try to restore complete communication services in the disaster zone in the shortest possible time.\n",
      "--------------------------------------------------\n",
      "\n",
      "📄 Original (Article 82):\n",
      "中國大連工業大學在上週二（7月8日）發布通告指名稱一位在校女生因「與外國人有不正當交往」，「有損國格、校譽」，擬開除其學籍。此公告迅速引起民眾震怒，專家指出此處分決定有「名譽謀殺」之嫌。\n",
      "這則通告追溯至去年末，一個電競比賽在上海舉辦錦標賽，一名烏克蘭選手賽後在粉絲群內發出與一名中國籍女粉絲的合影，引起爭議。\n",
      "大連工業大學如何驗證一個在被中國防火牆屏蔽的通訊軟件上的影像是其在校生？為何2024年12...\n",
      "\n",
      "🌍 Translation:\n",
      "The announcement issued by China’s University of Technology last Tuesday (July 8) that a schoolgirl had been expelled from school because of “incidental relations with foreigners” and “defendance and reputation.” The announcement quickly provoked public outrage, and experts pointed out that it was decided to have a “honour killing.”\n",
      "--------------------------------------------------\n",
      "\n",
      "📄 Original (Article 83):\n",
      "烏克蘭人已經疲憊不堪，情緒上因戰爭而承受巨大壓力，身體上也因空襲警報、爆炸聲和無人機的尖嘯聲而無法安眠。「昨晚很漫長」是你在基輔常會聽到的一句話。\n",
      "因此，美國總統特朗普（Donald Trump，川普）決定給俄羅斯50天時間達成停火協議，否則將面臨「非常嚴厲的關稅……大約100%」，這在烏克蘭沒有帶到很好的效果。\n",
      "烏克蘭最知名的政治人物之一、基輔市長維塔利·克里契科（Vitaly Klitschk...\n",
      "\n",
      "🌍 Translation:\n",
      "As a result, the President of the United States, Donald Trump, decided to give Russia 50 days to reach a ceasefire, or to face “a very severe tax ... about 100%.” One of Ukraine’s most well-known political figures, Vitaly Klitschk, the mayor of Kikiland, did not have a very good effect.\n",
      "--------------------------------------------------\n",
      "\n",
      "📄 Original (Article 84):\n",
      "三年多前，一名英國官員不慎洩露了一份包含數千名試圖逃離塔利班報復攻擊的人員姓名和聯絡方式的資料集。\n",
      "2024年4月，英國政府開始將其中一些人轉移到英國——但我們直到現在才得知這一消息，因為政府竭盡全力阻止洩密事件及後續應對措施曝光。\n",
      "隨著事件全貌最終公之於眾，以下問題仍然是英國安全機構所要面对的。\n",
      "這種事以前發生過，而且無疑還會再次發生。\n",
      "想想維基解密、斯諾登，以及企業幾乎每天都遭受的無數網路駭客...\n",
      "\n",
      "🌍 Translation:\n",
      "In April 2024, the British government began to transfer some of them to England – but we have not been informed until now, because the government has done everything it can to prevent leaks and to respond to subsequent exposures. With the events coming to light, the following questions remain for the British security apparatus.\n",
      "--------------------------------------------------\n",
      "\n",
      "📄 Original (Article 85):\n",
      "如今，瓶裝蔬果水或一大杯柳橙汁似乎是碳酸飲料的健康替代品。\n",
      "但科學家已經證明，包括果茶在內的這類飲料都會對我們的牙齒造成不可逆轉的傷害。\n",
      "不過，這並非全是壞消息。有20多年經驗的英國倫敦國王學院 (KCL) 的研究人員發現，飲用的時間與方式可以大幅減少牙齒侵蝕的風險。\n",
      "我去見了他們這個團隊，並對我的牙齒狀況進行了測試。\n",
      "小時候，我們總是被警告蛀牙問題——也就是牙齒上長出的小洞，我們還曾被告知糖果和...\n",
      "\n",
      "🌍 Translation:\n",
      "But it's not all bad news. Researchers at the Kings College in London (KCL), who have been in experience for more than 20 years, found that the time and manner of drinking can significantly reduce the risk of tooth intrusion.\n",
      "--------------------------------------------------\n",
      "\n",
      "📄 Original (Article 86):\n",
      "7月26日，台灣將舉行史上罕見的「大罷免」投票，決定24名國民黨立委和新竹市長高虹安的去留。\n",
      "台灣立法院自2024年大選後呈現「朝小野大」的局面，兩大在野黨國民黨、民眾黨聯手推出多項法案引發部分民怨，朝野在國會殿堂衝突不斷，公民團體自主發起罷免行動。。\n",
      "「大罷免」不只是對個別政治人物的挑戰，更被視為選民對國會問責的具體行動，也可能成為地方派系與政黨版圖的一次重新洗牌。\n",
      "BBC中文整理「大罷免」浪潮...\n",
      "\n",
      "🌍 Translation:\n",
      "On July 26, Taiwan will hold an unprecedented \"absolute\" vote, deciding to leave 24 members of the National Democratic Party (NDP) Legislative Council (NLC) and the Governor of the city of Nishima Yong-Am. The Taiwan Legislative Assembly has presented the situation of \"Abama Noda\" since the 2024 elections, with a number of bills co-sponsored by the two opposition National Party (NDP) and the Popular Party (PP), which have led to a number of popular grievances, a sudden clash in the National Assembly Hall, and an autonomous civil society campaign.\n",
      "--------------------------------------------------\n",
      "\n",
      "📄 Original (Article 87):\n",
      "從知名連鎖粥店、餅店、甜品店、酒樓到街角小店，過去半年一場「骨牌式」的結業潮席捲香港 —— 這個曾經的「美食天堂」。\n",
      "本月初，在金鐘開業35年的名都酒樓宣布9月光榮結業，這是今年內香港第8家宣布結業的連鎖酒樓。\n",
      "根據美聯工商舖數據，2025年第一季中環、尖沙咀、旺角及銅鑼灣「四大核心購物區」的街舖空置率升至12.1%，幾近回到2020年第三季疫情高峰期時12.5%的水平。\n",
      "社會復常逾兩年，結業潮為...\n",
      "\n",
      "🌍 Translation:\n",
      "This month, Hong Kong’s 35-year-old restaurant, known as the Golden Bell, announced its ninth-year-old chain of operations. According to the United States Federation of Commerce and Industry data, the rate of parking in the 4th Core Market in the first quarter of 2025 rose to 12.1%, nearly returning to 12.5% at the peak of the third quarter of 2020.\n",
      "--------------------------------------------------\n",
      "\n",
      "📄 Original (Article 88):\n",
      "7月15日上午，中國國家統計局公佈，二季度國內生產總值（GDP）按不變價格計算同比增長5.2%，增速較一季度放緩0.2個百分點。上半年累計，GDP同比增長5.3%，高於2025年3月「兩會」制定的全年增長5%左右的目標。\n",
      "路透社稱，「放緩幅度低於預期」，部分原因是政策支持以及工廠在中美貿易休戰期間提前裝運貨物。\n",
      "整個二季度（4月1日至6月30日），中國經濟幾乎都在經受來自美國的關稅壓力——4月中美...\n",
      "\n",
      "🌍 Translation:\n",
      "On the morning of July 15, China’s National Bureau of Statistics announced a 5.2% increase in domestic gross domestic product (GDP) on a no-change basis in the second quarter, which was reduced by 0.2 percentage points in the first quarter. Over the first half of the year, GDP grew by 5.3% in the same year, up from the target of about 5% in March 2025 set by the “Both Conferences.”\n",
      "--------------------------------------------------\n",
      "\n",
      "📄 Original (Article 89):\n",
      "美國總統唐納德·特朗普（Donald Trump，川普）在接受BBC獨家電話訪問中表示，他對俄國總統弗拉基米爾·普京（Vladimir Putin，普丁）感到失望，但尚未放棄與他的關係。\n",
      "當被問及是否信任這位俄羅斯領導人時，特朗普回答說：「我幾乎不信任任何人。」\n",
      "特朗普是在宣布向烏克蘭提供武器計劃、並警告若俄羅斯在50天內未達成停火協議將面臨嚴厲關稅數小時后後接受BBC訪問的。\n",
      "特朗普是在橢圓形辦...\n",
      "\n",
      "🌍 Translation:\n",
      "When asked whether or not to trust this Russian leader, Trump replied, \"I have little trust in anyone.\" Trump announced a weapons program for Ukraine, and warned that Russia would be facing severe taxes if it failed to reach a ceasefire agreement within 50 days.\n",
      "--------------------------------------------------\n",
      "\n",
      "📄 Original (Article 90):\n",
      "自從重返白宮以來，特朗普首次承諾將向烏克蘭提供新一輪武器。\n",
      "根據一項新協議，美國將向北約成員國出售武器，這些國家再將武器供應給基輔，以協助其對抗俄羅斯的入侵。\n",
      "特朗普總統並未透露太多細節，只表示這批軍備價值「數十億美元」。但當被問及是否包括愛國者防空系統與攔截飛彈時，他回答：「應有盡有。」\n",
      "特朗普表示，有一個歐洲國家擁有17套愛國者系統，其中「很大一部分」即將運往烏克蘭。\n",
      "對於烏克蘭這個幅員遼闊、...\n",
      "\n",
      "🌍 Translation:\n",
      "According to a new deal, the US would sell weapons to NATO members, who would supply weapons to Kibbons to help them counter Russia’s invasion. President Trump did not reveal much details, but only said that the military reserve was worth “billions of dollars.”\n",
      "--------------------------------------------------\n",
      "\n",
      "📄 Original (Article 91):\n",
      "美國航空監管機構表示，波音飛機上的燃油控制開關是安全的。此前，這項設備被指可能與6月造成260人死亡的印度航空空難有關。\n",
      "上週五，調查人員公布了這宗空難的初步報告後，燃油開關的安全性成為焦點。\n",
      "報告指出，這架波音787-8「夢幻客機」從艾哈邁達巴德機場起飛後不久，發動機的燃油供應即被切斷。報告亦提到，美國聯邦航空管理局（FAA）以往的報告曾建議，應檢查相關開關的安全設計。\n",
      "BBC取得的一封電郵顯示...\n",
      "\n",
      "🌍 Translation:\n",
      "Last Friday, the security of the fuel switch became a focus following the initial report of the crash. The report states that the fuel supply for the engine was cut off shortly after the Boeing 787-8 Dreamer took off from the Ahmadabad airport.\n",
      "--------------------------------------------------\n",
      "\n",
      "📄 Original (Article 92):\n",
      "加薪、出國便利、搭機優惠、購物折扣——這是台灣軍人近期獲得的最新福利。\n",
      "面對日益升高的軍事威脅，台灣政府希望透過提升軍人地位，扭轉國軍人才流失的困境。\n",
      "但相關優惠政策成了朝野政治攻防戰的焦點，也觸動企業和消費者的敏感神經，引發「政府請客、民間買單」的質疑。\n",
      "種種爭議背後，是台灣社會根深蒂固的「重文輕武」風氣，以及國軍訓練制度等結構性問題。BBC中文採訪多名在職軍人和軍事專家，剖析各方觀點。\n",
      "在台灣...\n",
      "\n",
      "🌍 Translation:\n",
      "In the face of rising military threats, Taiwan’s government wants to turn the country’s brain drain by upgrading its military status. But the related benefits have become the focus of a political offensive against the country, as well as the sensitivity of businesses and consumers, which raises questions about “government offers, public buyouts.”\n",
      "--------------------------------------------------\n",
      "\n",
      "📄 Original (Article 93):\n",
      "朝鮮一處新海灘度假勝地本周迎來首批俄羅斯遊客，此前人權組織曾批評該度假勝地在興建期間殘酷對待建築工人。\n",
      "元山葛麻度假區（Wonsan Kalma resort）上月由北韓領導人金正恩（Kim Jong Un）主持盛大開幕典禮，他稱之為「世界級旅遊和文化目的地」。\n",
      "在這個對外界基本封閉的國家，這座度假勝地的建造細節一直籠罩在祕密之中。\n",
      "英國廣播公司事實核查組（BBC Verify）研究了衛星圖像，獲...\n",
      "\n",
      "🌍 Translation:\n",
      "Wonsan Kalma Resort hosted last month by Kim Jong Un, the North Korean leader, who called it a “world-class tourist and cultural destination.” In this largely closed country, the building details of this resort have been covered in secrecy.\n",
      "--------------------------------------------------\n",
      "\n",
      "📄 Original (Article 94):\n",
      "中國正經歷今年以來最強熱浪侵襲，多地氣溫突破40℃。在持續的高溫下，民眾用花樣方式尋找「涼」方。\n",
      "許多民眾佩戴只露出眼睛的「臉基尼」面罩出行。在西部的重慶，許多市民打起了「水上麻將」。而東部的杭州市則開放了防空洞供市民避暑。\n",
      "\n",
      "🌍 Translation:\n",
      "China is experiencing one of the most intense waves this year, with temperatures exceeding 40°C. In constant heat, people are finding a “cool” solution.\n",
      "--------------------------------------------------\n",
      "\n",
      "📄 Original (Article 95):\n",
      "美國總統特朗普宣佈伊朗與以色列結束為期12天的戰爭後，停火已持續兩週，但是外界對於美國空襲所摧毀的伊朗核能力仍然眾說紛紜，部分外泄的情報甚至與白宮說法相互矛盾。\n",
      "在處於軍事下風的背景下，據報伊朗已經轉向中國採購更先進的軍備，最矚目的包括殲-10C戰鬥機。為何中國製軍機在此刻吸引伊朗目光？中東局勢與中美的最新互動是什麼？\n",
      "BBC《安全簡報》節目請來英國軍隊的前高級軍官麥基·凱（Mikey Kay），...\n",
      "\n",
      "🌍 Translation:\n",
      "After US President Trump announced that Iran and Israel had ended their 12-day war, the ceasefire had lasted two weeks, but there was still widespread talk about Iran’s nuclear capabilities destroyed by the US air strike, some of which was even contradicted by the White House. Against the background of the military situation, it was reported that Iran had turned to China for more advanced military equipment, including X-10C fighters.\n",
      "--------------------------------------------------\n",
      "\n",
      "📄 Original (Article 96):\n",
      "十年前的7月9日，數百名中國人權律師和維權人士被大舉拘捕，被外界稱為「709大抓捕」。\n",
      "王全璋是案中的被捕的著名人權律師之一。人權律師長期以來都是中國政府的打擊目標，當中許多人為異見者在庭上辯護，因而被控告顛覆政權罪。十年過去了，許多人失蹤、被監禁和取消律師執業資格。\n",
      "BBC獲得獨家授權，公開一段由王全璋拍攝的影片，內容記錄了他每天遭受騷擾的情況。這段影像揭示了挑戰中國政府者所面臨的壓力與處境。\n",
      "\n",
      "🌍 Translation:\n",
      "On July 9, 10 years ago, hundreds of Chinese human rights lawyers and defenders were arrested, known as “709 arrests.” Wang Quanqin was one of the prominent human rights lawyers arrested in the case. Human rights lawyers have long been the targets of the Chinese government, and many of them have defended dissidents in court, and have been charged with overturning power.\n",
      "--------------------------------------------------\n",
      "\n",
      "📄 Original (Article 97):\n",
      "記者黃庠棻／台北報導\n",
      "國際知名紀錄片導演沈可尚首度跨足劇情長片，推出全新力作《深度安靜》（DEEP QUIET ROOM），集結張孝全、林依晨與金士傑領銜主演，今（18）日釋出超前導預告。\n",
      "\n",
      "▲《深度安靜》由林依晨、張孝全主演。（圖／風起娛樂提供）\n",
      "電影深入探討現代家庭與親密關係中潛藏的情感壓力與心理矛盾，隨著預告畫面曝光，三位主角複雜的內心衝突逐步浮現，情緒張力直逼觀眾心靈。張孝全與林依晨第四度...\n",
      "\n",
      "🌍 Translation:\n",
      "Reporter Huang Yiu/Taibei reported on the first-ever history film by Shen Keung, an internationally renowned documentary director, launched a new film entitled \"Deep QUIET ROOM,\" featuring leaders Xiaoqin, Lin Yi morning, and Jin Jie, today’s 18th anniversary of the release of the ultra-previous guidance note. Quiet in Deepness was staged by Lin Yim, Zhang Xiao Xiao Xiao Xiao Xiao. (Professor of the Wind) The film deeply explored the emotional stress and psychological contradictions inherent in the relationship between the modern family and the close family.\n",
      "--------------------------------------------------\n",
      "\n",
      "📄 Original (Article 98):\n",
      "日本漫畫家竜樹諒在其作品《我所看見的未來》中暗示2025年7月5日日本將發生大地震，這被一些人當成「末日預言」。\n",
      "儘管日本政府多次駁斥該說法沒有科學依據，但其仍在赴日遊客群體中引發恐慌。香港是日本主要的遊客來源地之一，在該傳言影響之下5月訪日香港遊客減少11%。\n",
      "\n",
      "🌍 Translation:\n",
      "Japan’s comic book, “The Future I See,” suggests that Japan will be hit by a major earthquake on July 5, 2025, which was used by some as a “end-of-life prophecy.” Although the Japanese government has repeatedly rejected the claim that the law has no scientific basis, it continues to cause panic among the Japanese tourists.\n",
      "--------------------------------------------------\n",
      "\n",
      "📄 Original (Article 99):\n",
      "美國總統特朗普（Donald Trump，川普）宣布，美國將透過北約國家向烏克蘭提供「最先進的武器」，同時威脅俄羅斯，若在50天內未達成結束戰爭的協議，將對俄實施嚴厲關稅。\n",
      "「我們希望確保烏克蘭能夠做到它想做的事，」特朗普在華盛頓與北約秘書長馬克·呂特（Mark Rutte）會晤後表示。\n",
      "呂特證實，美國已決定「透過北約向烏克蘭大規模提供所需物資」，而歐洲國家將會負擔相關費用。\n",
      "歐洲國家將會向基輔提...\n",
      "\n",
      "🌍 Translation:\n",
      "“We want to make sure that Ukraine can do what it wants,” said Trump after the meeting with Mark Rutte, Secretary-General of Washington and the North. The Special Rapporteur confirms that the United States has decided to “provide Ukraine with the required material through North Korea” and that the European state will pay the costs.\n",
      "--------------------------------------------------\n",
      "\n",
      "📄 Original (Article 100):\n",
      "美國總統唐納德·特朗普推遲對美國進口商品加徵更高關稅，同時向包括日本和韓國在內的14個國家發出信函，詳細說明它們將面臨的關稅。\n",
      "白宮對部分最具爭議性的進口關稅設定的90天寬限期本週即將到期，這是最新進展。特朗普重申將對來自日本和韓國的產品徵收25%關稅的威脅，並向全球領袖發送一批信函，警告自8月1日起實施新關稅。\n",
      "原定於7月9日生效的更高關稅已被暫停，白宮官員表示將尋求達成貿易協議。當被記者問及8...\n",
      "\n",
      "🌍 Translation:\n",
      "The White House’s 90-day grace period for some of the most controversial import tax provisions will expire this week, the latest development. Trump reiterates that it will threaten 25% tax on products from Japan and Korea, and send a letter to global leaders warning that new taxes will be imposed as of 1 August.\n",
      "--------------------------------------------------\n",
      "\n",
      "✅ Successfully translated 100/100 articles\n"
     ]
    }
   ],
   "source": [
    "print(\"🔄 Initializing translator...\")\n",
    "translator = pipeline(\"translation\", model=TRANSLATE_MODEL)\n",
    "\n",
    "def translate_and_print(idx, text):\n",
    "    if pd.isna(text) or len(text) < 20:\n",
    "        print(f\"\\n📄 Article {idx}: [SKIPPED - Too short]\")\n",
    "        return \"\"\n",
    "    \n",
    "    try:\n",
    "        print(f\"\\n📄 Original (Article {idx}):\")\n",
    "        print(text[:200] + (\"...\" if len(text) > 200 else \"\"))\n",
    "        \n",
    "        translated = translator(text[:200], max_length=250)[0]['translation_text']\n",
    "        \n",
    "        print(f\"\\n🌍 Translation:\")\n",
    "        print(translated)\n",
    "        print(\"-\"*50)\n",
    "        return translated\n",
    "    except Exception as e:\n",
    "        print(f\"\\n⚠️ Translation error in article {idx}: {e}\")\n",
    "        return \"\"\n",
    "    \n",
    "# Apply translation with progress tracking\n",
    "print(\"🚀 Starting translation process...\")\n",
    "tqdm.pandas(desc=\"Overall progress\")\n",
    "results = []\n",
    "for idx, row in tqdm(df.iterrows(), total=len(df)):\n",
    "    translated = translate_and_print(idx+1, row['content'])\n",
    "    results.append(translated)\n",
    "    \n",
    "df['content_en'] = results\n",
    "\n",
    "# Filter failed translations\n",
    "initial_count = len(df)\n",
    "df = df[df['content_en'].str.strip().astype(bool)]\n",
    "print(f\"\\n✅ Successfully translated {len(df)}/{initial_count} articles\")"
   ]
  },
  {
   "cell_type": "code",
   "execution_count": 24,
   "metadata": {},
   "outputs": [
    {
     "name": "stdout",
     "output_type": "stream",
     "text": [
      "Creating embeddings...\n"
     ]
    },
    {
     "data": {
      "application/vnd.jupyter.widget-view+json": {
       "model_id": "6aef1122b033457fa82c83cddd9f278c",
       "version_major": 2,
       "version_minor": 0
      },
      "text/plain": [
       "Batches:   0%|          | 0/4 [00:00<?, ?it/s]"
      ]
     },
     "metadata": {},
     "output_type": "display_data"
    },
    {
     "name": "stdout",
     "output_type": "stream",
     "text": [
      "Embeddings shape: (100, 768)\n"
     ]
    }
   ],
   "source": [
    "# Initialize embedding model\n",
    "embedder = SentenceTransformer(EMBED_MODEL)\n",
    "\n",
    "# Embed translated content\n",
    "print(\"Creating embeddings...\")\n",
    "corpus_embeddings = embedder.encode(df[\"content_en\"].values, batch_size=BATCH_SIZE, show_progress_bar=True)\n",
    "print(f\"Embeddings shape: {corpus_embeddings.shape}\")"
   ]
  },
  {
   "cell_type": "code",
   "execution_count": 35,
   "metadata": {},
   "outputs": [
    {
     "name": "stdout",
     "output_type": "stream",
     "text": [
      "Reducing dimensions with UMAP...\n",
      "Reduced embeddings shape: (100, 2)\n"
     ]
    },
    {
     "name": "stderr",
     "output_type": "stream",
     "text": [
      "/Users/fangyuanlin/mambaforge3/lib/python3.10/site-packages/umap/umap_.py:2462: UserWarning:\n",
      "\n",
      "n_neighbors is larger than the dataset size; truncating to X.shape[0] - 1\n",
      "\n"
     ]
    }
   ],
   "source": [
    "# Reduce dimensionality with UMAP\n",
    "print(\"Reducing dimensions with UMAP...\")\n",
    "reduced_embeddings = umap.UMAP(n_components=2, n_neighbors=100, min_dist=0.02).fit_transform(corpus_embeddings)\n",
    "print(f\"Reduced embeddings shape: {reduced_embeddings.shape}\")"
   ]
  },
  {
   "cell_type": "code",
   "execution_count": 26,
   "metadata": {},
   "outputs": [],
   "source": [
    "# Add to dataframe\n",
    "df[\"x\"] = reduced_embeddings[:, 0]\n",
    "df[\"y\"] = reduced_embeddings[:, 1]\n",
    "df[\"text_short\"] = df[\"content_en\"].str[:100] + \"...\""
   ]
  },
  {
   "cell_type": "code",
   "execution_count": 37,
   "metadata": {},
   "outputs": [
    {
     "name": "stdout",
     "output_type": "stream",
     "text": [
      "Num of clusters: -1\n"
     ]
    }
   ],
   "source": [
    "# clustering with HDBSCAN\n",
    "clusterer = hdbscan.HDBSCAN(min_cluster_size=9)\n",
    "labels = clusterer.fit_predict(reduced_embeddings)\n",
    "df[\"label\"] = [str(label) for label in labels]\n",
    "print(f\"Num of clusters: {labels.max()}\")"
   ]
  },
  {
   "cell_type": "code",
   "execution_count": 47,
   "metadata": {},
   "outputs": [
    {
     "name": "stdout",
     "output_type": "stream",
     "text": [
      "🔍 Embeddings diagnostics:\n",
      "Embeddings range: 2.64 to 11.84\n",
      "Embeddings mean: 7.28 ± 2.87\n",
      "\n",
      "🔍 Finding optimal cluster count...\n",
      "For n_clusters = 2, silhouette score = 0.34\n",
      "For n_clusters = 3, silhouette score = 0.41\n",
      "For n_clusters = 4, silhouette score = 0.43\n",
      "For n_clusters = 5, silhouette score = 0.41\n",
      "For n_clusters = 6, silhouette score = 0.43\n",
      "For n_clusters = 7, silhouette score = 0.42\n",
      "For n_clusters = 8, silhouette score = 0.37\n",
      "For n_clusters = 9, silhouette score = 0.34\n",
      "For n_clusters = 10, silhouette score = 0.36\n",
      "\n",
      "✅ Optimal cluster count: 6 (score: 0.43)\n",
      "\n",
      "🔄 Running final clustering...\n",
      "\n",
      "🔄 Creating visualization...\n",
      "\n",
      "🔄 Naming clusters...\n"
     ]
    },
    {
     "data": {
      "application/vnd.plotly.v1+json": {
       "config": {
        "plotlyServerURL": "https://plot.ly"
       },
       "data": [
        {
         "customdata": [
          [
           " \n  谷歌在美砸250億美元 建資料中心和AI基礎設施\n"
          ],
          [
           " \n  大樂透頭獎連13摃  下期上看4.4億元\n"
          ],
          [
           "菜市場時段性禁車？ 攤販:安全.買氣難兼顧"
          ],
          [
           " \n  祖克伯：Meta擬斥資數千億美元推動超級智慧發展\n"
          ],
          [
           " \n  AI搶華爾街飯碗  高盛首創引進AI員工\n"
          ],
          [
           " \n  演唱會經濟熱潮！GD、五月天、江蕙接力開唱 百貨商場搶攻粉絲荷包\n"
          ],
          [
           " \n  韓流魅力席捲百貨！車銀優、DKB、猛男秀帶動韓星周邊搶購潮\n"
          ],
          [
           " \n  關稅與房市降溫打擊  中小企業5月放款增額創10年同期新低\n"
          ],
          [
           " \n  街口支付最新公告！8成品牌通路恢復使用 30大商家一次看\n"
          ],
          [
           "台灣「漢光演習」五大看點：動員創新高、超市首度納入「持久戰」部署"
          ],
          [
           "一人一半變兩人卡關？情侶買房甜蜜入手、換屋卻貸款難搞 - 地產天下 - 自由電子報"
          ],
          [
           "獨家》麥當勞爆炸案33年後退休 葛永興憶殉職同袍：心中始終留空位給他 - 社會 - 自由時報電子報"
          ],
          [
           "稀土的代價：中國主產區被污染的水源和傷痕累累的山丘"
          ],
          [
           "公車擦撞變電箱　板橋後站商圈部分店家停電 | 社會 | Newtalk新聞"
          ],
          [
           " \n  晨星電力今年轉供綠電容量 預計將大於300MW\n"
          ],
          [
           " \n  達新旗下中越廠預計明年春天完成擴產\n"
          ],
          [
           "阿富汗資料外洩引發前所未有秘密撤離：值得關注的三大關鍵問題"
          ],
          [
           "「魷魚遊戲」下結業潮來襲，香港餐飲業能重返「美食天堂」嗎？"
          ],
          [
           "日本7/5發生大地震？「末日預言」為何引發遊客恐慌"
          ]
         ],
         "hovertemplate": "cluster_name=谷歌透露將花費30億美元 用於賓州兩座水力發電廠的現代化工程 | 也涵蓋在北維吉尼亞州的全球最大資料中心聚落 谷歌透露將花費30億美元 | 在美國最大電網區建造資料中心與ai基礎設施 谷歌投資鎖定的地點<br>x=%{x}<br>y=%{y}<br>title=%{customdata[0]}<extra></extra>",
         "legendgroup": "谷歌透露將花費30億美元 用於賓州兩座水力發電廠的現代化工程 | 也涵蓋在北維吉尼亞州的全球最大資料中心聚落 谷歌透露將花費30億美元 | 在美國最大電網區建造資料中心與ai基礎設施 谷歌投資鎖定的地點",
         "marker": {
          "color": "#636efa",
          "symbol": "circle"
         },
         "mode": "markers",
         "name": "谷歌透露將花費30億美元 用於賓州兩座水力發電廠的現代化工程 | 也涵蓋在北維吉尼亞州的全球最大資料中心聚落 谷歌透露將花費30億美元 | 在美國最大電網區建造資料中心與ai基礎設施 谷歌投資鎖定的地點",
         "orientation": "v",
         "showlegend": true,
         "type": "scatter",
         "x": [
          10.25279712677002,
          6.8075947761535645,
          10.03857135772705,
          9.243476867675781,
          10.2971773147583,
          5.6093926429748535,
          5.539886951446533,
          10.497282028198242,
          6.072687149047852,
          7.1561994552612305,
          9.565570831298828,
          5.4751057624816895,
          5.957278251647949,
          7.005231857299805,
          8.829870223999023,
          7.825282096862793,
          7.399029731750488,
          6.503861904144287,
          5.989156246185303
         ],
         "xaxis": "x",
         "y": [
          -0.2649552524089813,
          3.5376265048980713,
          -0.039621271193027496,
          0.8293991088867188,
          -0.4236493706703186,
          6.556667327880859,
          8.16461181640625,
          -0.5526265501976013,
          5.466374397277832,
          3.0659544467926025,
          0.38904017210006714,
          6.961915969848633,
          5.56309700012207,
          3.2669527530670166,
          1.3359497785568237,
          2.2706475257873535,
          2.7124762535095215,
          4.1792144775390625,
          5.524385452270508
         ],
         "yaxis": "y"
        },
        {
         "customdata": [
          [
           " \n  川普再度施壓Fed調降利率\n"
          ],
          [
           " \n  輝達飆4％、台積電ADR漲3％ 台指期夜盤劍指23K關卡\n"
          ],
          [
           " \n  記憶體下半年市況遭唱衰 美光股價摔\n"
          ],
          [
           " \n  銀行業財報打頭陣  摩根富國花旗優預期\n"
          ],
          [
           " \n  關稅休戰期急拉貨 洛杉磯港6月吞吐量寫新高\n"
          ],
          [
           " \n  市場高息需求增溫 安聯00984A連續兩天溢價\n"
          ],
          [
           " \n  美國6月CPI年增2.7％ 今年2月以來新高\n"
          ],
          [
           " \n  國泰金總座李長庚：關稅與匯率需中性看待 對台企長期競爭力有信心\n"
          ],
          [
           "貝森特：Fed主席遴選程序已展開  盼鮑爾也退出理事會 - 國際 - 自由時報電子報"
          ],
          [
           " \n  30年期美債殖利率漲破5％ 6月初以來首見\n"
          ],
          [
           " \n  聯準會傳聲筒：6月CPI不會改變Fed政策方向\n"
          ],
          [
           "你最喜歡的健康飲料會損害牙齒嗎？"
          ],
          [
           "中國上半年GDP增長5.3%：關稅壓力下顯「韌性」  但下半年需求端或「斷崖式下跌」"
          ]
         ],
         "hovertemplate": "cluster_name=美國10年期國債殖利率走跌 現貨黃金短線上漲6美元 | 美國洛杉磯港6月貨櫃吞吐量改寫歷史新高 原因是業者趁著美中貿易休戰期間趕緊拉貨 | 美國6月cpi年增2 為2月以來新高<br>x=%{x}<br>y=%{y}<br>title=%{customdata[0]}<extra></extra>",
         "legendgroup": "美國10年期國債殖利率走跌 現貨黃金短線上漲6美元 | 美國洛杉磯港6月貨櫃吞吐量改寫歷史新高 原因是業者趁著美中貿易休戰期間趕緊拉貨 | 美國6月cpi年增2 為2月以來新高",
         "marker": {
          "color": "#EF553B",
          "symbol": "circle"
         },
         "mode": "markers",
         "name": "美國10年期國債殖利率走跌 現貨黃金短線上漲6美元 | 美國洛杉磯港6月貨櫃吞吐量改寫歷史新高 原因是業者趁著美中貿易休戰期間趕緊拉貨 | 美國6月cpi年增2 為2月以來新高",
         "orientation": "v",
         "showlegend": true,
         "type": "scatter",
         "x": [
          -7.479002952575684,
          -7.665000915527344,
          -7.024271011352539,
          -7.191608905792236,
          -7.60358190536499,
          -7.374728679656982,
          -8.304914474487305,
          -7.427337169647217,
          -6.851834297180176,
          -8.19516372680664,
          -7.897994518280029,
          -7.709402561187744,
          -7.125951766967773
         ],
         "xaxis": "x",
         "y": [
          3.5351850986480713,
          3.128051996231079,
          4.761290073394775,
          6.029973983764648,
          3.31439208984375,
          6.398425102233887,
          2.5159261226654053,
          3.4460060596466064,
          4.654264450073242,
          2.7242114543914795,
          2.9492616653442383,
          3.2011492252349854,
          5.650508403778076
         ],
         "yaxis": "y"
        },
        {
         "customdata": [
          [
           " \n  台電員工遭高壓線路電擊　卓榮泰關注不捨\n"
          ],
          [
           " \n  台灣大出動百人馳援通訊 9成障礙基站已修復\n"
          ],
          [
           " \n  台南剩597戶未復電 台電搶修進尾聲：最快今晚全面來電\n"
          ],
          [
           "記者走訪全球最大稀土礦場 中國稀土供應鏈背後的污染遺害"
          ],
          [
           "台鐵潮州站號誌故障深夜終於修復！ 影響64列次 - 生活 - 自由時報電子報"
          ],
          [
           "台泥子公司三元能源大火 高雄市府初判肇災原因出爐 - 生活 - 自由時報電子報"
          ],
          [
           "漢光41》金門花崗石醫院變野戰醫院 金防部演練戰傷救護與後送 - 自由軍武頻道"
          ],
          [
           "衛生紙丟馬桶會堵塞？環境部闢謠：請相信科學 「安心丟吧」 - 地產天下 - 自由電子報"
          ],
          [
           "台電人員嘉義維修遭電擊 送醫搶救裝葉克膜維生 | 社會 | Newtalk新聞"
          ],
          [
           "快訊》21:58臺灣南部海域發生規模4.8有感地震 最大震度屏東縣鵝鑾鼻3級 | 生活 | Newtalk新聞"
          ],
          [
           "台電工作人員嘉縣義竹維修遭電擊　命危送醫 | 社會 | Newtalk新聞"
          ],
          [
           "卓揆赴台中視察城鎮韌性演習 期許持續深化全民防衛意識 | 社會 | Newtalk新聞"
          ],
          [
           "慰勉1350位投入災後復原替代役男 內政部長劉世芳：表達感謝 | 社會 | Newtalk新聞"
          ],
          [
           "中部城鎮韌性演習　台中男硬騎車最高可罰15萬 | 社會 | Newtalk新聞"
          ],
          [
           "一天狂降暴雨426mm！韓光州星巴克「泥水灌進店內」　招牌慘滅頂"
          ],
          [
           " \n  遠傳動員上千人次支援災區 整體修復率已近95％\n"
          ],
          [
           "監管機構稱波音飛機燃油開關鎖設計安全"
          ],
          [
           "朝鮮的「西班牙班尼多姆式」度假村迎來首批俄羅斯遊客"
          ],
          [
           "從「臉基尼」到「水上麻將」：中國高溫下民眾尋涼方"
          ]
         ],
         "hovertemplate": "cluster_name=恢復電力的台電公司主管及員工務必注意安全 丹娜絲颱風侵襲中南部 | 行政院長卓榮泰相當不捨 第一時間即請經濟部及台電公司提供受傷同仁及家屬最即時的協助 | 第一時間即請經濟部及台電公司提供受傷同仁及家屬最即時的協助 李慧芝說明<br>x=%{x}<br>y=%{y}<br>title=%{customdata[0]}<extra></extra>",
         "legendgroup": "恢復電力的台電公司主管及員工務必注意安全 丹娜絲颱風侵襲中南部 | 行政院長卓榮泰相當不捨 第一時間即請經濟部及台電公司提供受傷同仁及家屬最即時的協助 | 第一時間即請經濟部及台電公司提供受傷同仁及家屬最即時的協助 李慧芝說明",
         "marker": {
          "color": "#00cc96",
          "symbol": "circle"
         },
         "mode": "markers",
         "name": "恢復電力的台電公司主管及員工務必注意安全 丹娜絲颱風侵襲中南部 | 行政院長卓榮泰相當不捨 第一時間即請經濟部及台電公司提供受傷同仁及家屬最即時的協助 | 第一時間即請經濟部及台電公司提供受傷同仁及家屬最即時的協助 李慧芝說明",
         "orientation": "v",
         "showlegend": true,
         "type": "scatter",
         "x": [
          6.0953569412231445,
          7.982222557067871,
          5.450646877288818,
          5.56074333190918,
          5.8022074699401855,
          6.7215256690979,
          7.439384937286377,
          6.346767425537109,
          8.155664443969727,
          5.734750270843506,
          6.588553428649902,
          7.041500091552734,
          7.835005283355713,
          5.498526573181152,
          6.512871265411377,
          7.20964241027832,
          5.341724395751953,
          5.961571216583252,
          5.601030349731445
         ],
         "xaxis": "x",
         "y": [
          9.609046936035156,
          12.895193099975586,
          7.416240692138672,
          6.72151517868042,
          8.987655639648438,
          3.678621292114258,
          12.7302827835083,
          4.459179401397705,
          12.793831825256348,
          6.240958213806152,
          10.622549057006836,
          12.159224510192871,
          12.855974197387695,
          6.952593803405762,
          10.57262897491455,
          12.420037269592285,
          7.718421459197998,
          9.30737018585205,
          8.655351638793945
         ],
         "yaxis": "y"
        },
        {
         "customdata": [
          [
           " \n  川普：與印尼達成關稅協議\n"
          ],
          [
           " \n  蘋果投資5億美元與美國稀土供應商MP Materials合作\n"
          ],
          [
           " \n  百度無人駕駛汽車將引進Uber全球平台 股價盤前大漲\n"
          ],
          [
           " \n  投審司：前六月外資來台投資74.6億美元\n"
          ],
          [
           " \n  大陸限制出口技術目錄調整 新增電池正極材料制備技術\n"
          ],
          [
           " \n  壯大資產管理論壇》私募資產親民化成全球趨勢  南怡君：台灣有很大成長空間\n"
          ],
          [
           "歐盟延後對美國的報復性貿易關稅"
          ],
          [
           " \n  傳川普將公布700億美元AI與能源投資案\n"
          ],
          [
           "特朗普向普京發出最後通牒，烏克蘭人卻感到難抱期望"
          ],
          [
           "特朗普接受BBC訪問：「我對普京感到失望，但尚未放棄與他的關係」"
          ],
          [
           "特朗普承諾軍援，象徵烏克蘭戰事的重要突破"
          ],
          [
           "台灣提升軍人待遇：加薪、搭機優惠為何引發爭議？"
          ],
          [
           "伊朗戰場遇挫後 中國殲-10戰機將成為「救命稻草」？"
          ],
          [
           "特朗普威脅對俄羅斯加徵關稅，並公布對烏克蘭軍援計劃"
          ],
          [
           "特朗普宣佈14國新關稅稅率但最後期限延長三週"
          ]
         ],
         "hovertemplate": "cluster_name=materials德州旗艦工廠生產的美國製稀土磁鐵 雙方未來也將共同在加州設立最先進的稀土回收產線 | 蘋果將採購mp materials德州旗艦工廠生產的美國製稀土磁鐵 | materials德州旗艦工廠生產的美國製稀土磁鐵<br>x=%{x}<br>y=%{y}<br>title=%{customdata[0]}<extra></extra>",
         "legendgroup": "materials德州旗艦工廠生產的美國製稀土磁鐵 雙方未來也將共同在加州設立最先進的稀土回收產線 | 蘋果將採購mp materials德州旗艦工廠生產的美國製稀土磁鐵 | materials德州旗艦工廠生產的美國製稀土磁鐵",
         "marker": {
          "color": "#ab63fa",
          "symbol": "circle"
         },
         "mode": "markers",
         "name": "materials德州旗艦工廠生產的美國製稀土磁鐵 雙方未來也將共同在加州設立最先進的稀土回收產線 | 蘋果將採購mp materials德州旗艦工廠生產的美國製稀土磁鐵 | materials德州旗艦工廠生產的美國製稀土磁鐵",
         "orientation": "v",
         "showlegend": true,
         "type": "scatter",
         "x": [
          -8.153828620910645,
          -7.281722068786621,
          10.353411674499512,
          -7.340687274932861,
          9.265165328979492,
          -7.1951727867126465,
          -7.533619403839111,
          -6.72608757019043,
          -6.930327415466309,
          -7.7247724533081055,
          -7.153076171875,
          -7.331483840942383,
          -7.065079212188721,
          -6.81997013092041,
          -8.261289596557617
         ],
         "xaxis": "x",
         "y": [
          2.651810646057129,
          5.894906520843506,
          -0.38859426975250244,
          6.029926300048828,
          0.8828094601631165,
          6.383119106292725,
          2.9230058193206787,
          4.803538799285889,
          4.530574798583984,
          2.822072982788086,
          3.95536470413208,
          6.470383644104004,
          6.270052909851074,
          4.974230766296387,
          2.570404052734375
         ],
         "yaxis": "y"
        },
        {
         "customdata": [
          [
           " \n  別等離職才後悔！上班族一定要先做的事\n"
          ],
          [
           "愛潑斯坦案：該案為何在「讓美國再次偉大」陣營中備受關注"
          ],
          [
           "白委罷不了 徐巧芯：目標變成我們合理嗎？"
          ],
          [
           "看不下去了！葉元之霸凌已故助理對話曝光 胡采蘋：該被降職降薪的是他 - 政治 - 自由時報電子報"
          ],
          [
           "盜綠委圖卡粗糙P圖被抓包 民眾黨蔡春綢道歉：形式上不謹慎 - 政治 - 自由時報電子報"
          ],
          [
           "大溪普濟堂關公誕辰遶境7/17遇防空演習 警方交管一次看 - 生活 - 自由時報電子報"
          ],
          [
           "被納粹偷走流浪80年 龐貝古城拼貼春宮畫物歸原地 - 國際 - 自由時報電子報"
          ],
          [
           "邊看筆電邊回答 京華城案證人胡方瓊卻翻供...檢曝原因 - 社會 - 自由時報電子報"
          ],
          [
           "禿子漢子燕子再聚 國民黨「反惡罷、顧桃園」守護民主之夜20日中壢登場 - 政治 - 自由時報電子報"
          ],
          [
           "(影)《矢板明夫Newtalk》大罷免投票率飆高 背後無人動員？ 國民黨還以為只是「藍綠對決」？ | 政治 | Newtalk新聞"
          ],
          [
           "「斷健不退縮」！綠營開催票戰　吳思瑤、林楚茵台中催票衝高聲量 | 政治 | Newtalk新聞"
          ],
          [
           "洪孟楷控罷團造謠買票走路工　赴新北檢提告 | 社會 | Newtalk新聞"
          ],
          [
           "（影）5綠委集結中六站路口 疾呼罷掉羅廷瑋這個「國會小混混」 | 政治 | Newtalk新聞"
          ],
          [
           "中國高校擬因在校女生與外籍男子「不正當交往」開除其學籍，稱其「有損國格」"
          ],
          [
           "台灣「大罷免」事件始末、政黨表態及投票流程等一次看"
          ],
          [
           "中國「709大抓捕」維權律師向BBC述說出獄後的監控人生"
          ],
          [
           "正式預告「完全零台詞」超震撼！林依晨四度合作張孝全…首演夫妻"
          ]
         ],
         "hovertemplate": "cluster_name=就算你向做為上班族的主管學習 在公司裡做出成績 | 因為 你現在能在公司裡工作 | 在公司裡做出成績 你還是無法培養生意頭腦<br>x=%{x}<br>y=%{y}<br>title=%{customdata[0]}<extra></extra>",
         "legendgroup": "就算你向做為上班族的主管學習 在公司裡做出成績 | 因為 你現在能在公司裡工作 | 在公司裡做出成績 你還是無法培養生意頭腦",
         "marker": {
          "color": "#FFA15A",
          "symbol": "circle"
         },
         "mode": "markers",
         "name": "就算你向做為上班族的主管學習 在公司裡做出成績 | 因為 你現在能在公司裡工作 | 在公司裡做出成績 你還是無法培養生意頭腦",
         "orientation": "v",
         "showlegend": true,
         "type": "scatter",
         "x": [
          -7.105762481689453,
          8.80825424194336,
          9.014138221740723,
          9.590062141418457,
          7.632934093475342,
          6.160858154296875,
          6.521354675292969,
          7.487613201141357,
          6.9461565017700195,
          10.294329643249512,
          9.523956298828125,
          9.181859016418457,
          9.358973503112793,
          6.533600330352783,
          7.305215358734131,
          7.588418006896973,
          5.99464225769043
         ],
         "xaxis": "x",
         "y": [
          6.419140338897705,
          1.352614402770996,
          1.1291526556015015,
          0.5238014459609985,
          2.485640525817871,
          5.387393951416016,
          4.074467658996582,
          2.6036436557769775,
          3.336820125579834,
          -0.3100719749927521,
          0.20683152973651886,
          0.9308956861495972,
          0.44123563170433044,
          4.1723713874816895,
          2.767977714538574,
          2.509568691253662,
          5.6041951179504395
         ],
         "yaxis": "y"
        },
        {
         "customdata": [
          [
           "陳晨威拚全壘打大賽自認「漢草」差　但林子偉看好 | 體育 | Newtalk新聞"
          ],
          [
           " \n  兩岸青年以球會友 強化體育學術交流\n"
          ],
          [
           " \n  雙橡園開發單站冠名贊助TPGA「頂粵吉品公開賽」  七國選手齊聚爭奪世界積分\n"
          ],
          [
           "亞洲盃女籃》台灣對哈薩克開賽打得拉鋸 邱啟益：有提醒大家她們就是來打架 - 自由體育"
          ],
          [
           "中職》郭天信猛打賞貢獻5分打點！坦言6月狀況不理想 - 自由體育"
          ],
          [
           "中職》味全龍12：4勝台鋼雄鷹 近5戰拿4勝得43分 - 自由體育"
          ],
          [
           "瓊斯盃》被賀丹「顏扣」也沒躲開 徐堂琪：失誤要盡全力守回來 - 自由體育"
          ],
          [
           "瓊斯盃》地貼太滑恐危害球員 職籃工會提3點訴求 - 自由體育"
          ],
          [
           "亞洲盃女籃二級賽　台灣預賽全勝晉4強 | 體育 | Newtalk新聞"
          ],
          [
           "楊博涵與劉廣珩打敗世界第9  日本羽球賽晉16強 | 體育 | Newtalk新聞"
          ],
          [
           "世上最年長馬拉松跑者車禍過世　享壽114歲 | 體育 | Newtalk新聞"
          ],
          [
           "黃子鵬下二軍修正控球  林立歸隊時間點讓本人評估 | 體育 | Newtalk新聞"
          ],
          [
           "德國世大運將開幕　陳弈通、楊亞依擔任掌旗官 | 體育 | Newtalk新聞"
          ],
          [
           "看林智勝陽耀勳拚全壘打大賽有憧憬  宋晟睿參賽圓夢 | 體育 | Newtalk新聞"
          ],
          [
           "李博登失分多平野惠一提出觀察　兄弟續物色新洋投 | 體育 | Newtalk新聞"
          ],
          [
           "林子偉曾在大聯盟蹲捕　明星賽與葉君璋、高志綱競技 | 體育 | Newtalk新聞"
          ],
          [
           " \n  父親節促銷戰  按摩椅與健身器材業提前開打\n"
          ]
         ],
         "hovertemplate": "cluster_name=陳晨威自認 漢草 | 但隊友林子偉分析型態 很看好陳晨威 | 隊友林子偉分析擊球類型 認為陳晨威爆發力好<br>x=%{x}<br>y=%{y}<br>title=%{customdata[0]}<extra></extra>",
         "legendgroup": "陳晨威自認 漢草 | 但隊友林子偉分析型態 很看好陳晨威 | 隊友林子偉分析擊球類型 認為陳晨威爆發力好",
         "marker": {
          "color": "#19d3f3",
          "symbol": "circle"
         },
         "mode": "markers",
         "name": "陳晨威自認 漢草 | 但隊友林子偉分析型態 很看好陳晨威 | 隊友林子偉分析擊球類型 認為陳晨威爆發力好",
         "orientation": "v",
         "showlegend": true,
         "type": "scatter",
         "x": [
          7.108422756195068,
          6.674107551574707,
          6.2872700691223145,
          5.754453659057617,
          6.331711769104004,
          8.080410957336426,
          5.5959296226501465,
          5.490960121154785,
          6.426737308502197,
          7.089909553527832,
          7.317656993865967,
          8.07485294342041,
          7.56198263168335,
          6.850512981414795,
          7.150213718414307,
          7.435055732727051,
          5.883652687072754
         ],
         "xaxis": "x",
         "y": [
          12.28088092803955,
          10.792976379394531,
          10.02367115020752,
          8.834741592407227,
          10.154450416564941,
          12.909290313720703,
          8.391157150268555,
          7.915628910064697,
          10.246637344360352,
          12.168779373168945,
          12.94426155090332,
          12.9729642868042,
          12.782482147216797,
          11.567953109741211,
          12.617635726928711,
          13.039229393005371,
          9.178955078125
         ],
         "yaxis": "y"
        }
       ],
       "layout": {
        "height": 700,
        "legend": {
         "title": {
          "text": "cluster_name"
         },
         "tracegroupgap": 0
        },
        "template": {
         "data": {
          "bar": [
           {
            "error_x": {
             "color": "#2a3f5f"
            },
            "error_y": {
             "color": "#2a3f5f"
            },
            "marker": {
             "line": {
              "color": "#E5ECF6",
              "width": 0.5
             },
             "pattern": {
              "fillmode": "overlay",
              "size": 10,
              "solidity": 0.2
             }
            },
            "type": "bar"
           }
          ],
          "barpolar": [
           {
            "marker": {
             "line": {
              "color": "#E5ECF6",
              "width": 0.5
             },
             "pattern": {
              "fillmode": "overlay",
              "size": 10,
              "solidity": 0.2
             }
            },
            "type": "barpolar"
           }
          ],
          "carpet": [
           {
            "aaxis": {
             "endlinecolor": "#2a3f5f",
             "gridcolor": "white",
             "linecolor": "white",
             "minorgridcolor": "white",
             "startlinecolor": "#2a3f5f"
            },
            "baxis": {
             "endlinecolor": "#2a3f5f",
             "gridcolor": "white",
             "linecolor": "white",
             "minorgridcolor": "white",
             "startlinecolor": "#2a3f5f"
            },
            "type": "carpet"
           }
          ],
          "choropleth": [
           {
            "colorbar": {
             "outlinewidth": 0,
             "ticks": ""
            },
            "type": "choropleth"
           }
          ],
          "contour": [
           {
            "colorbar": {
             "outlinewidth": 0,
             "ticks": ""
            },
            "colorscale": [
             [
              0,
              "#0d0887"
             ],
             [
              0.1111111111111111,
              "#46039f"
             ],
             [
              0.2222222222222222,
              "#7201a8"
             ],
             [
              0.3333333333333333,
              "#9c179e"
             ],
             [
              0.4444444444444444,
              "#bd3786"
             ],
             [
              0.5555555555555556,
              "#d8576b"
             ],
             [
              0.6666666666666666,
              "#ed7953"
             ],
             [
              0.7777777777777778,
              "#fb9f3a"
             ],
             [
              0.8888888888888888,
              "#fdca26"
             ],
             [
              1,
              "#f0f921"
             ]
            ],
            "type": "contour"
           }
          ],
          "contourcarpet": [
           {
            "colorbar": {
             "outlinewidth": 0,
             "ticks": ""
            },
            "type": "contourcarpet"
           }
          ],
          "heatmap": [
           {
            "colorbar": {
             "outlinewidth": 0,
             "ticks": ""
            },
            "colorscale": [
             [
              0,
              "#0d0887"
             ],
             [
              0.1111111111111111,
              "#46039f"
             ],
             [
              0.2222222222222222,
              "#7201a8"
             ],
             [
              0.3333333333333333,
              "#9c179e"
             ],
             [
              0.4444444444444444,
              "#bd3786"
             ],
             [
              0.5555555555555556,
              "#d8576b"
             ],
             [
              0.6666666666666666,
              "#ed7953"
             ],
             [
              0.7777777777777778,
              "#fb9f3a"
             ],
             [
              0.8888888888888888,
              "#fdca26"
             ],
             [
              1,
              "#f0f921"
             ]
            ],
            "type": "heatmap"
           }
          ],
          "heatmapgl": [
           {
            "colorbar": {
             "outlinewidth": 0,
             "ticks": ""
            },
            "colorscale": [
             [
              0,
              "#0d0887"
             ],
             [
              0.1111111111111111,
              "#46039f"
             ],
             [
              0.2222222222222222,
              "#7201a8"
             ],
             [
              0.3333333333333333,
              "#9c179e"
             ],
             [
              0.4444444444444444,
              "#bd3786"
             ],
             [
              0.5555555555555556,
              "#d8576b"
             ],
             [
              0.6666666666666666,
              "#ed7953"
             ],
             [
              0.7777777777777778,
              "#fb9f3a"
             ],
             [
              0.8888888888888888,
              "#fdca26"
             ],
             [
              1,
              "#f0f921"
             ]
            ],
            "type": "heatmapgl"
           }
          ],
          "histogram": [
           {
            "marker": {
             "pattern": {
              "fillmode": "overlay",
              "size": 10,
              "solidity": 0.2
             }
            },
            "type": "histogram"
           }
          ],
          "histogram2d": [
           {
            "colorbar": {
             "outlinewidth": 0,
             "ticks": ""
            },
            "colorscale": [
             [
              0,
              "#0d0887"
             ],
             [
              0.1111111111111111,
              "#46039f"
             ],
             [
              0.2222222222222222,
              "#7201a8"
             ],
             [
              0.3333333333333333,
              "#9c179e"
             ],
             [
              0.4444444444444444,
              "#bd3786"
             ],
             [
              0.5555555555555556,
              "#d8576b"
             ],
             [
              0.6666666666666666,
              "#ed7953"
             ],
             [
              0.7777777777777778,
              "#fb9f3a"
             ],
             [
              0.8888888888888888,
              "#fdca26"
             ],
             [
              1,
              "#f0f921"
             ]
            ],
            "type": "histogram2d"
           }
          ],
          "histogram2dcontour": [
           {
            "colorbar": {
             "outlinewidth": 0,
             "ticks": ""
            },
            "colorscale": [
             [
              0,
              "#0d0887"
             ],
             [
              0.1111111111111111,
              "#46039f"
             ],
             [
              0.2222222222222222,
              "#7201a8"
             ],
             [
              0.3333333333333333,
              "#9c179e"
             ],
             [
              0.4444444444444444,
              "#bd3786"
             ],
             [
              0.5555555555555556,
              "#d8576b"
             ],
             [
              0.6666666666666666,
              "#ed7953"
             ],
             [
              0.7777777777777778,
              "#fb9f3a"
             ],
             [
              0.8888888888888888,
              "#fdca26"
             ],
             [
              1,
              "#f0f921"
             ]
            ],
            "type": "histogram2dcontour"
           }
          ],
          "mesh3d": [
           {
            "colorbar": {
             "outlinewidth": 0,
             "ticks": ""
            },
            "type": "mesh3d"
           }
          ],
          "parcoords": [
           {
            "line": {
             "colorbar": {
              "outlinewidth": 0,
              "ticks": ""
             }
            },
            "type": "parcoords"
           }
          ],
          "pie": [
           {
            "automargin": true,
            "type": "pie"
           }
          ],
          "scatter": [
           {
            "fillpattern": {
             "fillmode": "overlay",
             "size": 10,
             "solidity": 0.2
            },
            "type": "scatter"
           }
          ],
          "scatter3d": [
           {
            "line": {
             "colorbar": {
              "outlinewidth": 0,
              "ticks": ""
             }
            },
            "marker": {
             "colorbar": {
              "outlinewidth": 0,
              "ticks": ""
             }
            },
            "type": "scatter3d"
           }
          ],
          "scattercarpet": [
           {
            "marker": {
             "colorbar": {
              "outlinewidth": 0,
              "ticks": ""
             }
            },
            "type": "scattercarpet"
           }
          ],
          "scattergeo": [
           {
            "marker": {
             "colorbar": {
              "outlinewidth": 0,
              "ticks": ""
             }
            },
            "type": "scattergeo"
           }
          ],
          "scattergl": [
           {
            "marker": {
             "colorbar": {
              "outlinewidth": 0,
              "ticks": ""
             }
            },
            "type": "scattergl"
           }
          ],
          "scattermapbox": [
           {
            "marker": {
             "colorbar": {
              "outlinewidth": 0,
              "ticks": ""
             }
            },
            "type": "scattermapbox"
           }
          ],
          "scatterpolar": [
           {
            "marker": {
             "colorbar": {
              "outlinewidth": 0,
              "ticks": ""
             }
            },
            "type": "scatterpolar"
           }
          ],
          "scatterpolargl": [
           {
            "marker": {
             "colorbar": {
              "outlinewidth": 0,
              "ticks": ""
             }
            },
            "type": "scatterpolargl"
           }
          ],
          "scatterternary": [
           {
            "marker": {
             "colorbar": {
              "outlinewidth": 0,
              "ticks": ""
             }
            },
            "type": "scatterternary"
           }
          ],
          "surface": [
           {
            "colorbar": {
             "outlinewidth": 0,
             "ticks": ""
            },
            "colorscale": [
             [
              0,
              "#0d0887"
             ],
             [
              0.1111111111111111,
              "#46039f"
             ],
             [
              0.2222222222222222,
              "#7201a8"
             ],
             [
              0.3333333333333333,
              "#9c179e"
             ],
             [
              0.4444444444444444,
              "#bd3786"
             ],
             [
              0.5555555555555556,
              "#d8576b"
             ],
             [
              0.6666666666666666,
              "#ed7953"
             ],
             [
              0.7777777777777778,
              "#fb9f3a"
             ],
             [
              0.8888888888888888,
              "#fdca26"
             ],
             [
              1,
              "#f0f921"
             ]
            ],
            "type": "surface"
           }
          ],
          "table": [
           {
            "cells": {
             "fill": {
              "color": "#EBF0F8"
             },
             "line": {
              "color": "white"
             }
            },
            "header": {
             "fill": {
              "color": "#C8D4E3"
             },
             "line": {
              "color": "white"
             }
            },
            "type": "table"
           }
          ]
         },
         "layout": {
          "annotationdefaults": {
           "arrowcolor": "#2a3f5f",
           "arrowhead": 0,
           "arrowwidth": 1
          },
          "autotypenumbers": "strict",
          "coloraxis": {
           "colorbar": {
            "outlinewidth": 0,
            "ticks": ""
           }
          },
          "colorscale": {
           "diverging": [
            [
             0,
             "#8e0152"
            ],
            [
             0.1,
             "#c51b7d"
            ],
            [
             0.2,
             "#de77ae"
            ],
            [
             0.3,
             "#f1b6da"
            ],
            [
             0.4,
             "#fde0ef"
            ],
            [
             0.5,
             "#f7f7f7"
            ],
            [
             0.6,
             "#e6f5d0"
            ],
            [
             0.7,
             "#b8e186"
            ],
            [
             0.8,
             "#7fbc41"
            ],
            [
             0.9,
             "#4d9221"
            ],
            [
             1,
             "#276419"
            ]
           ],
           "sequential": [
            [
             0,
             "#0d0887"
            ],
            [
             0.1111111111111111,
             "#46039f"
            ],
            [
             0.2222222222222222,
             "#7201a8"
            ],
            [
             0.3333333333333333,
             "#9c179e"
            ],
            [
             0.4444444444444444,
             "#bd3786"
            ],
            [
             0.5555555555555556,
             "#d8576b"
            ],
            [
             0.6666666666666666,
             "#ed7953"
            ],
            [
             0.7777777777777778,
             "#fb9f3a"
            ],
            [
             0.8888888888888888,
             "#fdca26"
            ],
            [
             1,
             "#f0f921"
            ]
           ],
           "sequentialminus": [
            [
             0,
             "#0d0887"
            ],
            [
             0.1111111111111111,
             "#46039f"
            ],
            [
             0.2222222222222222,
             "#7201a8"
            ],
            [
             0.3333333333333333,
             "#9c179e"
            ],
            [
             0.4444444444444444,
             "#bd3786"
            ],
            [
             0.5555555555555556,
             "#d8576b"
            ],
            [
             0.6666666666666666,
             "#ed7953"
            ],
            [
             0.7777777777777778,
             "#fb9f3a"
            ],
            [
             0.8888888888888888,
             "#fdca26"
            ],
            [
             1,
             "#f0f921"
            ]
           ]
          },
          "colorway": [
           "#636efa",
           "#EF553B",
           "#00cc96",
           "#ab63fa",
           "#FFA15A",
           "#19d3f3",
           "#FF6692",
           "#B6E880",
           "#FF97FF",
           "#FECB52"
          ],
          "font": {
           "color": "#2a3f5f"
          },
          "geo": {
           "bgcolor": "white",
           "lakecolor": "white",
           "landcolor": "#E5ECF6",
           "showlakes": true,
           "showland": true,
           "subunitcolor": "white"
          },
          "hoverlabel": {
           "align": "left"
          },
          "hovermode": "closest",
          "mapbox": {
           "style": "light"
          },
          "paper_bgcolor": "white",
          "plot_bgcolor": "#E5ECF6",
          "polar": {
           "angularaxis": {
            "gridcolor": "white",
            "linecolor": "white",
            "ticks": ""
           },
           "bgcolor": "#E5ECF6",
           "radialaxis": {
            "gridcolor": "white",
            "linecolor": "white",
            "ticks": ""
           }
          },
          "scene": {
           "xaxis": {
            "backgroundcolor": "#E5ECF6",
            "gridcolor": "white",
            "gridwidth": 2,
            "linecolor": "white",
            "showbackground": true,
            "ticks": "",
            "zerolinecolor": "white"
           },
           "yaxis": {
            "backgroundcolor": "#E5ECF6",
            "gridcolor": "white",
            "gridwidth": 2,
            "linecolor": "white",
            "showbackground": true,
            "ticks": "",
            "zerolinecolor": "white"
           },
           "zaxis": {
            "backgroundcolor": "#E5ECF6",
            "gridcolor": "white",
            "gridwidth": 2,
            "linecolor": "white",
            "showbackground": true,
            "ticks": "",
            "zerolinecolor": "white"
           }
          },
          "shapedefaults": {
           "line": {
            "color": "#2a3f5f"
           }
          },
          "ternary": {
           "aaxis": {
            "gridcolor": "white",
            "linecolor": "white",
            "ticks": ""
           },
           "baxis": {
            "gridcolor": "white",
            "linecolor": "white",
            "ticks": ""
           },
           "bgcolor": "#E5ECF6",
           "caxis": {
            "gridcolor": "white",
            "linecolor": "white",
            "ticks": ""
           }
          },
          "title": {
           "x": 0.05
          },
          "xaxis": {
           "automargin": true,
           "gridcolor": "white",
           "linecolor": "white",
           "ticks": "",
           "title": {
            "standoff": 15
           },
           "zerolinecolor": "white",
           "zerolinewidth": 2
          },
          "yaxis": {
           "automargin": true,
           "gridcolor": "white",
           "linecolor": "white",
           "ticks": "",
           "title": {
            "standoff": 15
           },
           "zerolinecolor": "white",
           "zerolinewidth": 2
          }
         }
        },
        "title": {
         "text": "News Clusters (n=100, k=6)"
        },
        "width": 1000,
        "xaxis": {
         "anchor": "y",
         "domain": [
          0,
          1
         ],
         "title": {
          "text": "x"
         }
        },
        "yaxis": {
         "anchor": "x",
         "domain": [
          0,
          1
         ],
         "title": {
          "text": "y"
         }
        }
       }
      }
     },
     "metadata": {},
     "output_type": "display_data"
    },
    {
     "name": "stdout",
     "output_type": "stream",
     "text": [
      "\n",
      "✅ Cluster distribution:\n",
      "cluster_name\n",
      "谷歌透露將花費30億美元 用於賓州兩座水力發電廠的現代化工程 | 也涵蓋在北維吉尼亞州的全球最大資料中心聚落 谷歌透露將花費30億美元 | 在美國最大電網區建造資料中心與ai基礎設施 谷歌投資鎖定的地點                19\n",
      "恢復電力的台電公司主管及員工務必注意安全 丹娜絲颱風侵襲中南部 | 行政院長卓榮泰相當不捨 第一時間即請經濟部及台電公司提供受傷同仁及家屬最即時的協助 | 第一時間即請經濟部及台電公司提供受傷同仁及家屬最即時的協助 李慧芝說明    19\n",
      "就算你向做為上班族的主管學習 在公司裡做出成績 | 因為 你現在能在公司裡工作 | 在公司裡做出成績 你還是無法培養生意頭腦                                                       17\n",
      "陳晨威自認 漢草 | 但隊友林子偉分析型態 很看好陳晨威 | 隊友林子偉分析擊球類型 認為陳晨威爆發力好                                                                 17\n",
      "materials德州旗艦工廠生產的美國製稀土磁鐵 雙方未來也將共同在加州設立最先進的稀土回收產線 | 蘋果將採購mp materials德州旗艦工廠生產的美國製稀土磁鐵 | materials德州旗艦工廠生產的美國製稀土磁鐵    15\n",
      "美國10年期國債殖利率走跌 現貨黃金短線上漲6美元 | 美國洛杉磯港6月貨櫃吞吐量改寫歷史新高 原因是業者趁著美中貿易休戰期間趕緊拉貨 | 美國6月cpi年增2 為2月以來新高                             13\n",
      "Name: count, dtype: int64\n"
     ]
    }
   ],
   "source": [
    "# Improved clustering pipeline with better parameters and diagnostics\n",
    "import numpy as np\n",
    "from sklearn.cluster import KMeans\n",
    "from sklearn.metrics import silhouette_score\n",
    "\n",
    "kw_model = KeyBERT()\n",
    "# 1. First verify the embeddings quality\n",
    "print(\"🔍 Embeddings diagnostics:\")\n",
    "print(f\"Embeddings range: {reduced_embeddings.min():.2f} to {reduced_embeddings.max():.2f}\")\n",
    "print(f\"Embeddings mean: {reduced_embeddings.mean():.2f} ± {reduced_embeddings.std():.2f}\")\n",
    "\n",
    "# 2. Try KMeans first to find optimal clusters\n",
    "print(\"\\n🔍 Finding optimal cluster count...\")\n",
    "range_n_clusters = range(2, 11)\n",
    "best_score = -1\n",
    "best_n = 2\n",
    "\n",
    "for n_clusters in range_n_clusters:\n",
    "    kmeans = KMeans(n_clusters=n_clusters, random_state=42)\n",
    "    cluster_labels = kmeans.fit_predict(reduced_embeddings)\n",
    "    silhouette_avg = silhouette_score(reduced_embeddings, cluster_labels)\n",
    "    print(f\"For n_clusters = {n_clusters}, silhouette score = {silhouette_avg:.2f}\")\n",
    "    \n",
    "    if silhouette_avg > best_score:\n",
    "        best_score = silhouette_avg\n",
    "        best_n = n_clusters\n",
    "\n",
    "print(f\"\\n✅ Optimal cluster count: {best_n} (score: {best_score:.2f})\")\n",
    "\n",
    "# 3. Apply final clustering\n",
    "print(\"\\n🔄 Running final clustering...\")\n",
    "final_kmeans = KMeans(n_clusters=best_n, random_state=42)\n",
    "df['cluster'] = final_kmeans.fit_predict(reduced_embeddings)\n",
    "\n",
    "# 4. Visualize with UMAP (for visualization only)\n",
    "print(\"\\n🔄 Creating visualization...\")\n",
    "reducer = umap.UMAP(\n",
    "    n_components=2,\n",
    "    n_neighbors=min(15, len(reduced_embeddings)-1),  # Fix neighbor count\n",
    "    min_dist=0.1,\n",
    "    metric='cosine'\n",
    ")\n",
    "vis_embeddings = reducer.fit_transform(reduced_embeddings)\n",
    "df[['x','y']] = vis_embeddings\n",
    "\n",
    "# 5. Generate cluster names using original Chinese text\n",
    "print(\"\\n🔄 Naming clusters...\")\n",
    "cluster_names = {}\n",
    "for cluster_id in df['cluster'].unique():\n",
    "    cluster_texts = df[df['cluster'] == cluster_id]['content'].str.cat(sep=' ')[:5000]\n",
    "    keywords = kw_model.extract_keywords(\n",
    "        cluster_texts,\n",
    "        keyphrase_ngram_range=(1, 2),\n",
    "        stop_words=None,\n",
    "        top_n=3\n",
    "    )\n",
    "    cluster_names[cluster_id] = \" | \".join([kw[0] for kw in keywords])\n",
    "\n",
    "df['cluster_name'] = df['cluster'].map(cluster_names)\n",
    "\n",
    "# 6. Final visualization\n",
    "fig = px.scatter(\n",
    "    df, x='x', y='y',\n",
    "    color='cluster_name',\n",
    "    hover_data=['title'],\n",
    "    title=f'News Clusters (n={len(df)}, k={best_n})',\n",
    "    width=1000,\n",
    "    height=700\n",
    ")\n",
    "fig.show()\n",
    "\n",
    "print(\"\\n✅ Cluster distribution:\")\n",
    "print(df['cluster_name'].value_counts())"
   ]
  },
  {
   "cell_type": "code",
   "execution_count": 28,
   "metadata": {},
   "outputs": [
    {
     "name": "stdout",
     "output_type": "stream",
     "text": [
      "Number of outliers: 100\n"
     ]
    }
   ],
   "source": [
    "# Number of outliers\n",
    "num_outliers = len(df[df[\"cluster\"] == \"-1\"])\n",
    "print(f\"Number of outliers: {num_outliers}\")\n",
    "\n",
    "# Remove outliers for visualization\n",
    "df_no_outliers = df[df[\"cluster\"] != \"-1\"]"
   ]
  },
  {
   "cell_type": "code",
   "execution_count": 29,
   "metadata": {},
   "outputs": [],
   "source": [
    "# Function to filter similar keywords\n",
    "def filter_keywords(keywords, n_keep=3):\n",
    "    new_keywords = []\n",
    "    for candidate_keyword in keywords:\n",
    "        is_ok = True\n",
    "        for compare_keyword in keywords:\n",
    "            if candidate_keyword == compare_keyword:\n",
    "                continue\n",
    "            if compare_keyword in candidate_keyword:\n",
    "                is_ok = False\n",
    "                break\n",
    "        if is_ok:\n",
    "            new_keywords.append(candidate_keyword)\n",
    "            if len(new_keywords) >= n_keep:\n",
    "                break\n",
    "    return new_keywords\n",
    "\n",
    "# Function to get cluster names\n",
    "def get_cluster_name(df, cluster):\n",
    "    df_subset = df[df[\"cluster\"] == cluster].reset_index()\n",
    "    texts_concat = \". \".join(df_subset[\"content_en\"].values)\n",
    "    kw_model = KeyBERT()\n",
    "    keywords_and_scores = kw_model.extract_keywords(\n",
    "        texts_concat, \n",
    "        keyphrase_ngram_range=(1, 2),\n",
    "        top_n=10\n",
    "    )\n",
    "    keywords = [t[0] for t in keywords_and_scores]\n",
    "    keywords_filtered = filter_keywords(keywords)\n",
    "    return \" - \".join(keywords_filtered)"
   ]
  },
  {
   "cell_type": "code",
   "execution_count": 30,
   "metadata": {},
   "outputs": [
    {
     "name": "stdout",
     "output_type": "stream",
     "text": [
      "Generating cluster names...\n"
     ]
    }
   ],
   "source": [
    "# Get all cluster names\n",
    "print(\"Generating cluster names...\")\n",
    "all_clusters = df_no_outliers[\"cluster\"].unique()\n",
    "d_cluster_name_mapping = {\"-1\": \"outliers\"}"
   ]
  },
  {
   "cell_type": "code",
   "execution_count": 31,
   "metadata": {},
   "outputs": [],
   "source": [
    "for cluster in all_clusters:\n",
    "    if cluster == \"-1\":\n",
    "        continue\n",
    "    try:\n",
    "        cluster_name = get_cluster_name(df_no_outliers, cluster)\n",
    "        d_cluster_name_mapping[cluster] = cluster_name\n",
    "        print(f\"Cluster {cluster}: {cluster_name}\")\n",
    "    except Exception as e:\n",
    "        print(f\"Error processing cluster {cluster}: {e}\")\n",
    "        d_cluster_name_mapping[cluster] = f\"cluster_{cluster}\"\n",
    "\n",
    "# Rename clusters\n",
    "df_no_outliers[\"cluster_name\"] = df_no_outliers[\"cluster\"].apply(\n",
    "    lambda label: d_cluster_name_mapping.get(label, f\"cluster_{label}\")\n",
    ")\n"
   ]
  },
  {
   "cell_type": "code",
   "execution_count": 38,
   "metadata": {},
   "outputs": [
    {
     "name": "stdout",
     "output_type": "stream",
     "text": [
      "Creating visualization...\n"
     ]
    },
    {
     "data": {
      "application/vnd.plotly.v1+json": {
       "config": {
        "plotlyServerURL": "https://plot.ly"
       },
       "data": [],
       "layout": {
        "legend": {
         "tracegroupgap": 0
        },
        "template": {
         "data": {
          "bar": [
           {
            "error_x": {
             "color": "#f2f5fa"
            },
            "error_y": {
             "color": "#f2f5fa"
            },
            "marker": {
             "line": {
              "color": "rgb(17,17,17)",
              "width": 0.5
             },
             "pattern": {
              "fillmode": "overlay",
              "size": 10,
              "solidity": 0.2
             }
            },
            "type": "bar"
           }
          ],
          "barpolar": [
           {
            "marker": {
             "line": {
              "color": "rgb(17,17,17)",
              "width": 0.5
             },
             "pattern": {
              "fillmode": "overlay",
              "size": 10,
              "solidity": 0.2
             }
            },
            "type": "barpolar"
           }
          ],
          "carpet": [
           {
            "aaxis": {
             "endlinecolor": "#A2B1C6",
             "gridcolor": "#506784",
             "linecolor": "#506784",
             "minorgridcolor": "#506784",
             "startlinecolor": "#A2B1C6"
            },
            "baxis": {
             "endlinecolor": "#A2B1C6",
             "gridcolor": "#506784",
             "linecolor": "#506784",
             "minorgridcolor": "#506784",
             "startlinecolor": "#A2B1C6"
            },
            "type": "carpet"
           }
          ],
          "choropleth": [
           {
            "colorbar": {
             "outlinewidth": 0,
             "ticks": ""
            },
            "type": "choropleth"
           }
          ],
          "contour": [
           {
            "colorbar": {
             "outlinewidth": 0,
             "ticks": ""
            },
            "colorscale": [
             [
              0,
              "#0d0887"
             ],
             [
              0.1111111111111111,
              "#46039f"
             ],
             [
              0.2222222222222222,
              "#7201a8"
             ],
             [
              0.3333333333333333,
              "#9c179e"
             ],
             [
              0.4444444444444444,
              "#bd3786"
             ],
             [
              0.5555555555555556,
              "#d8576b"
             ],
             [
              0.6666666666666666,
              "#ed7953"
             ],
             [
              0.7777777777777778,
              "#fb9f3a"
             ],
             [
              0.8888888888888888,
              "#fdca26"
             ],
             [
              1,
              "#f0f921"
             ]
            ],
            "type": "contour"
           }
          ],
          "contourcarpet": [
           {
            "colorbar": {
             "outlinewidth": 0,
             "ticks": ""
            },
            "type": "contourcarpet"
           }
          ],
          "heatmap": [
           {
            "colorbar": {
             "outlinewidth": 0,
             "ticks": ""
            },
            "colorscale": [
             [
              0,
              "#0d0887"
             ],
             [
              0.1111111111111111,
              "#46039f"
             ],
             [
              0.2222222222222222,
              "#7201a8"
             ],
             [
              0.3333333333333333,
              "#9c179e"
             ],
             [
              0.4444444444444444,
              "#bd3786"
             ],
             [
              0.5555555555555556,
              "#d8576b"
             ],
             [
              0.6666666666666666,
              "#ed7953"
             ],
             [
              0.7777777777777778,
              "#fb9f3a"
             ],
             [
              0.8888888888888888,
              "#fdca26"
             ],
             [
              1,
              "#f0f921"
             ]
            ],
            "type": "heatmap"
           }
          ],
          "heatmapgl": [
           {
            "colorbar": {
             "outlinewidth": 0,
             "ticks": ""
            },
            "colorscale": [
             [
              0,
              "#0d0887"
             ],
             [
              0.1111111111111111,
              "#46039f"
             ],
             [
              0.2222222222222222,
              "#7201a8"
             ],
             [
              0.3333333333333333,
              "#9c179e"
             ],
             [
              0.4444444444444444,
              "#bd3786"
             ],
             [
              0.5555555555555556,
              "#d8576b"
             ],
             [
              0.6666666666666666,
              "#ed7953"
             ],
             [
              0.7777777777777778,
              "#fb9f3a"
             ],
             [
              0.8888888888888888,
              "#fdca26"
             ],
             [
              1,
              "#f0f921"
             ]
            ],
            "type": "heatmapgl"
           }
          ],
          "histogram": [
           {
            "marker": {
             "pattern": {
              "fillmode": "overlay",
              "size": 10,
              "solidity": 0.2
             }
            },
            "type": "histogram"
           }
          ],
          "histogram2d": [
           {
            "colorbar": {
             "outlinewidth": 0,
             "ticks": ""
            },
            "colorscale": [
             [
              0,
              "#0d0887"
             ],
             [
              0.1111111111111111,
              "#46039f"
             ],
             [
              0.2222222222222222,
              "#7201a8"
             ],
             [
              0.3333333333333333,
              "#9c179e"
             ],
             [
              0.4444444444444444,
              "#bd3786"
             ],
             [
              0.5555555555555556,
              "#d8576b"
             ],
             [
              0.6666666666666666,
              "#ed7953"
             ],
             [
              0.7777777777777778,
              "#fb9f3a"
             ],
             [
              0.8888888888888888,
              "#fdca26"
             ],
             [
              1,
              "#f0f921"
             ]
            ],
            "type": "histogram2d"
           }
          ],
          "histogram2dcontour": [
           {
            "colorbar": {
             "outlinewidth": 0,
             "ticks": ""
            },
            "colorscale": [
             [
              0,
              "#0d0887"
             ],
             [
              0.1111111111111111,
              "#46039f"
             ],
             [
              0.2222222222222222,
              "#7201a8"
             ],
             [
              0.3333333333333333,
              "#9c179e"
             ],
             [
              0.4444444444444444,
              "#bd3786"
             ],
             [
              0.5555555555555556,
              "#d8576b"
             ],
             [
              0.6666666666666666,
              "#ed7953"
             ],
             [
              0.7777777777777778,
              "#fb9f3a"
             ],
             [
              0.8888888888888888,
              "#fdca26"
             ],
             [
              1,
              "#f0f921"
             ]
            ],
            "type": "histogram2dcontour"
           }
          ],
          "mesh3d": [
           {
            "colorbar": {
             "outlinewidth": 0,
             "ticks": ""
            },
            "type": "mesh3d"
           }
          ],
          "parcoords": [
           {
            "line": {
             "colorbar": {
              "outlinewidth": 0,
              "ticks": ""
             }
            },
            "type": "parcoords"
           }
          ],
          "pie": [
           {
            "automargin": true,
            "type": "pie"
           }
          ],
          "scatter": [
           {
            "marker": {
             "line": {
              "color": "#283442"
             }
            },
            "type": "scatter"
           }
          ],
          "scatter3d": [
           {
            "line": {
             "colorbar": {
              "outlinewidth": 0,
              "ticks": ""
             }
            },
            "marker": {
             "colorbar": {
              "outlinewidth": 0,
              "ticks": ""
             }
            },
            "type": "scatter3d"
           }
          ],
          "scattercarpet": [
           {
            "marker": {
             "colorbar": {
              "outlinewidth": 0,
              "ticks": ""
             }
            },
            "type": "scattercarpet"
           }
          ],
          "scattergeo": [
           {
            "marker": {
             "colorbar": {
              "outlinewidth": 0,
              "ticks": ""
             }
            },
            "type": "scattergeo"
           }
          ],
          "scattergl": [
           {
            "marker": {
             "line": {
              "color": "#283442"
             }
            },
            "type": "scattergl"
           }
          ],
          "scattermapbox": [
           {
            "marker": {
             "colorbar": {
              "outlinewidth": 0,
              "ticks": ""
             }
            },
            "type": "scattermapbox"
           }
          ],
          "scatterpolar": [
           {
            "marker": {
             "colorbar": {
              "outlinewidth": 0,
              "ticks": ""
             }
            },
            "type": "scatterpolar"
           }
          ],
          "scatterpolargl": [
           {
            "marker": {
             "colorbar": {
              "outlinewidth": 0,
              "ticks": ""
             }
            },
            "type": "scatterpolargl"
           }
          ],
          "scatterternary": [
           {
            "marker": {
             "colorbar": {
              "outlinewidth": 0,
              "ticks": ""
             }
            },
            "type": "scatterternary"
           }
          ],
          "surface": [
           {
            "colorbar": {
             "outlinewidth": 0,
             "ticks": ""
            },
            "colorscale": [
             [
              0,
              "#0d0887"
             ],
             [
              0.1111111111111111,
              "#46039f"
             ],
             [
              0.2222222222222222,
              "#7201a8"
             ],
             [
              0.3333333333333333,
              "#9c179e"
             ],
             [
              0.4444444444444444,
              "#bd3786"
             ],
             [
              0.5555555555555556,
              "#d8576b"
             ],
             [
              0.6666666666666666,
              "#ed7953"
             ],
             [
              0.7777777777777778,
              "#fb9f3a"
             ],
             [
              0.8888888888888888,
              "#fdca26"
             ],
             [
              1,
              "#f0f921"
             ]
            ],
            "type": "surface"
           }
          ],
          "table": [
           {
            "cells": {
             "fill": {
              "color": "#506784"
             },
             "line": {
              "color": "rgb(17,17,17)"
             }
            },
            "header": {
             "fill": {
              "color": "#2a3f5f"
             },
             "line": {
              "color": "rgb(17,17,17)"
             }
            },
            "type": "table"
           }
          ]
         },
         "layout": {
          "annotationdefaults": {
           "arrowcolor": "#f2f5fa",
           "arrowhead": 0,
           "arrowwidth": 1
          },
          "autotypenumbers": "strict",
          "coloraxis": {
           "colorbar": {
            "outlinewidth": 0,
            "ticks": ""
           }
          },
          "colorscale": {
           "diverging": [
            [
             0,
             "#8e0152"
            ],
            [
             0.1,
             "#c51b7d"
            ],
            [
             0.2,
             "#de77ae"
            ],
            [
             0.3,
             "#f1b6da"
            ],
            [
             0.4,
             "#fde0ef"
            ],
            [
             0.5,
             "#f7f7f7"
            ],
            [
             0.6,
             "#e6f5d0"
            ],
            [
             0.7,
             "#b8e186"
            ],
            [
             0.8,
             "#7fbc41"
            ],
            [
             0.9,
             "#4d9221"
            ],
            [
             1,
             "#276419"
            ]
           ],
           "sequential": [
            [
             0,
             "#0d0887"
            ],
            [
             0.1111111111111111,
             "#46039f"
            ],
            [
             0.2222222222222222,
             "#7201a8"
            ],
            [
             0.3333333333333333,
             "#9c179e"
            ],
            [
             0.4444444444444444,
             "#bd3786"
            ],
            [
             0.5555555555555556,
             "#d8576b"
            ],
            [
             0.6666666666666666,
             "#ed7953"
            ],
            [
             0.7777777777777778,
             "#fb9f3a"
            ],
            [
             0.8888888888888888,
             "#fdca26"
            ],
            [
             1,
             "#f0f921"
            ]
           ],
           "sequentialminus": [
            [
             0,
             "#0d0887"
            ],
            [
             0.1111111111111111,
             "#46039f"
            ],
            [
             0.2222222222222222,
             "#7201a8"
            ],
            [
             0.3333333333333333,
             "#9c179e"
            ],
            [
             0.4444444444444444,
             "#bd3786"
            ],
            [
             0.5555555555555556,
             "#d8576b"
            ],
            [
             0.6666666666666666,
             "#ed7953"
            ],
            [
             0.7777777777777778,
             "#fb9f3a"
            ],
            [
             0.8888888888888888,
             "#fdca26"
            ],
            [
             1,
             "#f0f921"
            ]
           ]
          },
          "colorway": [
           "#636efa",
           "#EF553B",
           "#00cc96",
           "#ab63fa",
           "#FFA15A",
           "#19d3f3",
           "#FF6692",
           "#B6E880",
           "#FF97FF",
           "#FECB52"
          ],
          "font": {
           "color": "#f2f5fa"
          },
          "geo": {
           "bgcolor": "rgb(17,17,17)",
           "lakecolor": "rgb(17,17,17)",
           "landcolor": "rgb(17,17,17)",
           "showlakes": true,
           "showland": true,
           "subunitcolor": "#506784"
          },
          "hoverlabel": {
           "align": "left"
          },
          "hovermode": "closest",
          "mapbox": {
           "style": "dark"
          },
          "paper_bgcolor": "rgb(17,17,17)",
          "plot_bgcolor": "rgb(17,17,17)",
          "polar": {
           "angularaxis": {
            "gridcolor": "#506784",
            "linecolor": "#506784",
            "ticks": ""
           },
           "bgcolor": "rgb(17,17,17)",
           "radialaxis": {
            "gridcolor": "#506784",
            "linecolor": "#506784",
            "ticks": ""
           }
          },
          "scene": {
           "xaxis": {
            "backgroundcolor": "rgb(17,17,17)",
            "gridcolor": "#506784",
            "gridwidth": 2,
            "linecolor": "#506784",
            "showbackground": true,
            "ticks": "",
            "zerolinecolor": "#C8D4E3"
           },
           "yaxis": {
            "backgroundcolor": "rgb(17,17,17)",
            "gridcolor": "#506784",
            "gridwidth": 2,
            "linecolor": "#506784",
            "showbackground": true,
            "ticks": "",
            "zerolinecolor": "#C8D4E3"
           },
           "zaxis": {
            "backgroundcolor": "rgb(17,17,17)",
            "gridcolor": "#506784",
            "gridwidth": 2,
            "linecolor": "#506784",
            "showbackground": true,
            "ticks": "",
            "zerolinecolor": "#C8D4E3"
           }
          },
          "shapedefaults": {
           "line": {
            "color": "#f2f5fa"
           }
          },
          "sliderdefaults": {
           "bgcolor": "#C8D4E3",
           "bordercolor": "rgb(17,17,17)",
           "borderwidth": 1,
           "tickwidth": 0
          },
          "ternary": {
           "aaxis": {
            "gridcolor": "#506784",
            "linecolor": "#506784",
            "ticks": ""
           },
           "baxis": {
            "gridcolor": "#506784",
            "linecolor": "#506784",
            "ticks": ""
           },
           "bgcolor": "rgb(17,17,17)",
           "caxis": {
            "gridcolor": "#506784",
            "linecolor": "#506784",
            "ticks": ""
           }
          },
          "title": {
           "x": 0.05
          },
          "updatemenudefaults": {
           "bgcolor": "#506784",
           "borderwidth": 0
          },
          "xaxis": {
           "automargin": true,
           "gridcolor": "#283442",
           "linecolor": "#506784",
           "ticks": "",
           "title": {
            "standoff": 15
           },
           "zerolinecolor": "#283442",
           "zerolinewidth": 2
          },
          "yaxis": {
           "automargin": true,
           "gridcolor": "#283442",
           "linecolor": "#506784",
           "ticks": "",
           "title": {
            "standoff": 15
           },
           "zerolinecolor": "#283442",
           "zerolinewidth": 2
          }
         }
        },
        "title": {
         "text": "News Article Clusters"
        },
        "xaxis": {
         "anchor": "y",
         "domain": [
          0,
          1
         ],
         "title": {
          "text": "x"
         }
        },
        "yaxis": {
         "anchor": "x",
         "domain": [
          0,
          1
         ],
         "title": {
          "text": "y"
         }
        }
       }
      }
     },
     "metadata": {},
     "output_type": "display_data"
    }
   ],
   "source": [
    "# Visualize clusters\n",
    "print(\"Creating visualization...\")\n",
    "hover_data = {\n",
    "    \"text_short\": True,\n",
    "    \"title\": True,\n",
    "    \"x\": False,\n",
    "    \"y\": False\n",
    "}\n",
    "fig = px.scatter(\n",
    "    df_no_outliers, \n",
    "    x=\"x\", \n",
    "    y=\"y\", \n",
    "    color=\"cluster_name\",\n",
    "    hover_data=hover_data,\n",
    "    template=\"plotly_dark\",\n",
    "    title=\"News Article Clusters\"\n",
    ")\n",
    "fig.show()"
   ]
  },
  {
   "cell_type": "code",
   "execution_count": 23,
   "metadata": {},
   "outputs": [
    {
     "data": {
      "application/vnd.plotly.v1+json": {
       "config": {
        "plotlyServerURL": "https://plot.ly"
       },
       "data": [
        {
         "customdata": [
          [
           "Google, the tech giant Google, announced that it would cost $25 billion over the next two years to b...",
           " \n  谷歌在美砸250億美元 建資料中心和AI基礎設施\n"
          ],
          [
           "President Truth Social wrote on his social platform on 15 September that the United States has enter...",
           " \n  川普：與印尼達成關稅協議\n"
          ],
          [
           "AI invaded Wall Street for a job! The Goldman Sachs group plans to bring into Devin, the AI software...",
           " \n  AI搶華爾街飯碗  高盛首創引進AI員工\n"
          ],
          [
           "This week, the second season of US corporate finance began, leading banks like Morgan Chase, the ric...",
           " \n  銀行業財報打頭陣  摩根富國花旗優預期\n"
          ],
          [
           "The Apple announced a new partnership with MP Materials, the only rare-earth producer with complete ...",
           " \n  蘋果投資5億美元與美國稀土供應商MP Materials合作\n"
          ],
          [
           "Hundreds announced that they had cooperated with Uber to deploy their autopilots to Uber outside the...",
           " \n  百度無人駕駛汽車將引進Uber全球平台 股價盤前大漲\n"
          ],
          [
           "The launch of a warehouse in Taiwan City (00984A) began last week, when 14 days came in at a clean v...",
           " \n  市場高息需求增溫 安聯00984A連續兩天溢價\n"
          ],
          [
           "China’s Director General of Capital Development said today (15) that private equity has high potenti...",
           " \n  壯大資產管理論壇》私募資產親民化成全球趨勢  南怡君：台灣有很大成長空間\n"
          ],
          [
           "Faced with the risk of a wave of tax policies and transfer rates in the country, Governor Lee Changg...",
           " \n  國泰金總座李長庚：關稅與匯率需中性看待 對台企長期競爭力有信心\n"
          ],
          [
           "As of the end of May this year, the balance of the bank’s loan to small and medium-sized enterprises...",
           " \n  關稅與房市降溫打擊  中小企業5月放款增額創10年同期新低\n"
          ],
          [
           "The counter-measure was scheduled to begin on Tuesday, in response to US President Trump’s initial i...",
           "歐盟延後對美國的報復性貿易關稅"
          ],
          [
           "According to Reuters, Trunch will present details of the new investment at this event. Republican Se...",
           " \n  傳川普將公布700億美元AI與能源投資案\n"
          ],
          [
           "When ordinary people buy houses before marriage, in order to secure the property of both parties, th...",
           "一人一半變兩人卡關？情侶買房甜蜜入手、換屋卻貸款難搞 - 地產天下 - 自由電子報"
          ],
          [
           "According to a new deal, the US would sell weapons to NATO members, who would supply weapons to Kibb...",
           "特朗普承諾軍援，象徵烏克蘭戰事的重要突破"
          ],
          [
           "The White House’s 90-day grace period for some of the most controversial import tax provisions will ...",
           "特朗普宣佈14國新關稅稅率但最後期限延長三週"
          ]
         ],
         "hovertemplate": "cluster_name=infrastructure google - google investment - google tech<br>text_short=%{customdata[0]}<br>title=%{customdata[1]}<extra></extra>",
         "legendgroup": "infrastructure google - google investment - google tech",
         "marker": {
          "color": "#636efa",
          "symbol": "circle"
         },
         "mode": "markers",
         "name": "infrastructure google - google investment - google tech",
         "orientation": "v",
         "showlegend": true,
         "type": "scatter",
         "x": [
          8.487149238586426,
          7.379122257232666,
          8.139150619506836,
          7.632903575897217,
          7.934286117553711,
          8.14154052734375,
          7.936087608337402,
          7.955521106719971,
          7.574465751647949,
          7.8565874099731445,
          7.327175140380859,
          7.908727169036865,
          8.455365180969238,
          7.657303810119629,
          7.370893955230713
         ],
         "xaxis": "x",
         "y": [
          6.542318820953369,
          5.686088562011719,
          6.334430694580078,
          6.540702819824219,
          5.757356643676758,
          6.450729846954346,
          6.983138561248779,
          6.206745624542236,
          5.898220062255859,
          6.8061065673828125,
          5.334687232971191,
          5.514432430267334,
          5.996078968048096,
          5.227093696594238,
          5.476273536682129
         ],
         "yaxis": "y"
        },
        {
         "customdata": [
          [
           "Hurricane Danas caused more than 260,000 power outages in Jiaji County, and electricians did everyth...",
           " \n  台電員工遭高壓線路電擊　卓榮泰關注不捨\n"
          ],
          [
           "In the two northern cities, there are a number of vegetable markets, such as the security market in ...",
           "菜市場時段性禁車？ 攤販:安全.買氣難兼顧"
          ],
          [
           "In the opening ceremony, about 110 young people from both sides of the coast, 49 from Taiwan and 32 ...",
           " \n  兩岸青年以球會友 強化體育學術交流\n"
          ],
          [
           "From May to May, the concert economy is full-blown, bringing down 101 people from Taipei, Garden Cit...",
           " \n  演唱會經濟熱潮！GD、五月天、江蕙接力開唱 百貨商場搶攻粉絲荷包\n"
          ],
          [
           "In the wake of the Korean cyclone, which sweeps around the market, Xinjiang is taking advantage of t...",
           " \n  韓流魅力席捲百貨！車銀優、DKB、猛男秀帶動韓星周邊搶購潮\n"
          ],
          [
           "As of 15 days, Momo's shopping network, PChome, shrimp shopping, three major power lines, as well as...",
           " \n  街口支付最新公告！8成品牌通路恢復使用 30大商家一次看\n"
          ],
          [
           "In the south-central region of Hurricane Danas, Taiwan's Big Brother launched the emergency response...",
           " \n  台灣大出動百人馳援通訊 9成障礙基站已修復\n"
          ],
          [
           "In response to the announcement by the editor of the National Democratic Party (NDP)'s Executive Com...",
           "看不下去了！葉元之霸凌已故助理對話曝光 胡采蘋：該被降職降薪的是他 - 政治 - 自由時報電子報"
          ],
          [
           "On July 14th, at 11.38 p.m., the Popular Party's opposition committee, Choi Chun, published a person...",
           "盜綠委圖卡粗糙P圖被抓包 民眾黨蔡春綢道歉：形式上不謹慎 - 政治 - 自由時報電子報"
          ],
          [
           "Peach City Air Defense Exercise, 17th, will be suspended for 30 minutes in front of the head of the ...",
           "大溪普濟堂關公誕辰遶境7/17遇防空演習 警方交管一次看 - 生活 - 自由時報電子報"
          ],
          [
           "The 15th day was returned to Marcelk in the archaeology park of Pompey City, where the desire for lo...",
           "被納粹偷走流浪80年 龐貝古城拼貼春宮畫物歸原地 - 國際 - 自由時報電子報"
          ],
          [
           "The Taipei District Court continued its proceedings in the case of Jinghua City, calling the then-Ta...",
           "邊看筆電邊回答 京華城案證人胡方瓊卻翻供...檢曝原因 - 社會 - 自由時報電子報"
          ],
          [
           "The Taiwan Women’s Basket, which is scheduled to bloom today at the 2025 Asian Women’s Basketball Di...",
           "亞洲盃女籃》台灣對哈薩克開賽打得拉鋸 邱啟益：有提醒大家她們就是來打架 - 自由體育"
          ],
          [
           "[Reporter Wu Jingmong/Kimmen reports] The Army’s Golden Gate Defense Command supports the camp’s med...",
           "漢光41》金門花崗石醫院變野戰醫院 金防部演練戰傷救護與後送 - 自由軍武頻道"
          ],
          [
           "“I've been wrong, I've been running away a little bit.” So far, Taiwan University of Arts, 192cm, Do...",
           "瓊斯盃》被賀丹「顏扣」也沒躲開 徐堂琪：失誤要盡全力守回來 - 自由體育"
          ],
          [
           "Since last Saturday, when the Jones Cup boys’ basket was launched at the new stadium, there have bee...",
           "瓊斯盃》地貼太滑恐危害球員 職籃工會提3點訴求 - 自由體育"
          ],
          [
           "Today, the Taiwan team is preparing for the final battle against Hassak, which will be led by Han Ya...",
           "亞洲盃女籃二級賽　台灣預賽全勝晉4強 | 體育 | Newtalk新聞"
          ],
          [
           "When you stand on the edge of White Cloud Obo, you will see a gray land full of bruises engraved int...",
           "稀土的代價：中國主產區被污染的水源和傷痕累累的山丘"
          ],
          [
           "At the beginning of the 2025th World University Games in Reynrure, Germany, on the morning of 2 a.m....",
           "德國世大運將開幕　陳弈通、楊亞依擔任掌旗官 | 體育 | Newtalk新聞"
          ],
          [
           "His middle-ranking brother, Song Min-Wing, wanted to make it happen, would be in a big game for a st...",
           "看林智勝陽耀勳拚全壘打大賽有憧憬  宋晟睿參賽圓夢 | 體育 | Newtalk新聞"
          ],
          [
           "According to Drontai, challenges and disasters are likely to occur at any given time, and the aim of...",
           "卓揆赴台中視察城鎮韌性演習 期許持續深化全民防衛意識 | 社會 | Newtalk新聞"
          ],
          [
           "The Minister of the Interior, Liu Shifang, and the Executive Director of the Alternative Training an...",
           "慰勉1350位投入災後復原替代役男 內政部長劉世芳：表達感謝 | 社會 | Newtalk新聞"
          ],
          [
           "At the end of the day, the Prime Minister and the Chief Justice of the Central Six in the city’s Sen...",
           "（影）5綠委集結中六站路口 疾呼罷掉羅廷瑋這個「國會小混混」 | 政治 | Newtalk新聞"
          ],
          [
           "The Lotte Apes World Stars Competition will be the first to participate in the legendary catcher, Ye...",
           "林子偉曾在大聯盟蹲捕　明星賽與葉君璋、高志綱競技 | 體育 | Newtalk新聞"
          ],
          [
           "The annual 88 Father's Day campaign, massage chairs and gymnasiums, was launched ahead of schedule!J...",
           " \n  父親節促銷戰  按摩椅與健身器材業提前開打\n"
          ],
          [
           "In South Korea, there was a rare monster storm in South Korea, and Starbuck was flooded with floodin...",
           "一天狂降暴雨426mm！韓光州星巴克「泥水灌進店內」　招牌慘滅頂"
          ],
          [
           "In the wake of the intense attack by Middle East Chinese Daenas, the first time of telecoming trigge...",
           " \n  遠傳動員上千人次支援災區 整體修復率已近95％\n"
          ],
          [
           "The announcement issued by China’s University of Technology last Tuesday (July 8) that a schoolgirl ...",
           "中國高校擬因在校女生與外籍男子「不正當交往」開除其學籍，稱其「有損國格」"
          ],
          [
           "This month, Hong Kong’s 35-year-old restaurant, known as the Golden Bell, announced its ninth-year-o...",
           "「魷魚遊戲」下結業潮來襲，香港餐飲業能重返「美食天堂」嗎？"
          ],
          [
           "Last Friday, the security of the fuel switch became a focus following the initial report of the cras...",
           "監管機構稱波音飛機燃油開關鎖設計安全"
          ],
          [
           "Wonsan Kalma Resort hosted last month by Kim Jong Un, the North Korean leader, who called it a “worl...",
           "朝鮮的「西班牙班尼多姆式」度假村迎來首批俄羅斯遊客"
          ],
          [
           "Reporter Huang Yiu/Taibei reported on the first-ever history film by Shen Keung, an internationally ...",
           "正式預告「完全零台詞」超震撼！林依晨四度合作張孝全…首演夫妻"
          ],
          [
           "Japan’s comic book, “The Future I See,” suggests that Japan will be hit by a major earthquake on Jul...",
           "日本7/5發生大地震？「末日預言」為何引發遊客恐慌"
          ]
         ],
         "hovertemplate": "cluster_name=hurricane danas - safety reduce - protection energy<br>text_short=%{customdata[0]}<br>title=%{customdata[1]}<extra></extra>",
         "legendgroup": "hurricane danas - safety reduce - protection energy",
         "marker": {
          "color": "#EF553B",
          "symbol": "circle"
         },
         "mode": "markers",
         "name": "hurricane danas - safety reduce - protection energy",
         "orientation": "v",
         "showlegend": true,
         "type": "scatter",
         "x": [
          10.49839973449707,
          8.760262489318848,
          10.311295509338379,
          9.701904296875,
          9.867087364196777,
          9.428583145141602,
          10.311525344848633,
          9.073204040527344,
          9.688846588134766,
          9.918964385986328,
          9.594454765319824,
          9.437183380126953,
          10.40819263458252,
          10.285767555236816,
          10.295360565185547,
          10.690194129943848,
          10.62012004852295,
          9.627080917358398,
          10.899685859680176,
          10.85751724243164,
          9.863581657409668,
          10.177852630615234,
          8.888079643249512,
          10.913722038269043,
          10.430673599243164,
          9.911782264709473,
          9.626887321472168,
          9.009787559509277,
          9.239596366882324,
          10.328293800354004,
          9.295493125915527,
          9.384921073913574,
          9.830510139465332
         ],
         "xaxis": "x",
         "y": [
          6.709137916564941,
          5.998959064483643,
          5.356165885925293,
          5.832225799560547,
          5.769140720367432,
          6.081696033477783,
          6.480197429656982,
          4.215795040130615,
          4.401977062225342,
          5.146794319152832,
          4.697841644287109,
          4.395369052886963,
          5.091456413269043,
          6.138787746429443,
          4.867698669433594,
          5.539865016937256,
          5.463559627532959,
          5.375782489776611,
          5.454532146453857,
          4.771952152252197,
          6.331672668457031,
          6.2068634033203125,
          4.067232608795166,
          5.09079122543335,
          5.637200355529785,
          6.769224643707275,
          6.411049842834473,
          4.598091125488281,
          6.138469219207764,
          6.810811996459961,
          5.5042572021484375,
          4.991346836090088,
          6.950854301452637
         ],
         "yaxis": "y"
        }
       ],
       "layout": {
        "legend": {
         "title": {
          "text": "cluster_name"
         },
         "tracegroupgap": 0
        },
        "template": {
         "data": {
          "bar": [
           {
            "error_x": {
             "color": "#f2f5fa"
            },
            "error_y": {
             "color": "#f2f5fa"
            },
            "marker": {
             "line": {
              "color": "rgb(17,17,17)",
              "width": 0.5
             },
             "pattern": {
              "fillmode": "overlay",
              "size": 10,
              "solidity": 0.2
             }
            },
            "type": "bar"
           }
          ],
          "barpolar": [
           {
            "marker": {
             "line": {
              "color": "rgb(17,17,17)",
              "width": 0.5
             },
             "pattern": {
              "fillmode": "overlay",
              "size": 10,
              "solidity": 0.2
             }
            },
            "type": "barpolar"
           }
          ],
          "carpet": [
           {
            "aaxis": {
             "endlinecolor": "#A2B1C6",
             "gridcolor": "#506784",
             "linecolor": "#506784",
             "minorgridcolor": "#506784",
             "startlinecolor": "#A2B1C6"
            },
            "baxis": {
             "endlinecolor": "#A2B1C6",
             "gridcolor": "#506784",
             "linecolor": "#506784",
             "minorgridcolor": "#506784",
             "startlinecolor": "#A2B1C6"
            },
            "type": "carpet"
           }
          ],
          "choropleth": [
           {
            "colorbar": {
             "outlinewidth": 0,
             "ticks": ""
            },
            "type": "choropleth"
           }
          ],
          "contour": [
           {
            "colorbar": {
             "outlinewidth": 0,
             "ticks": ""
            },
            "colorscale": [
             [
              0,
              "#0d0887"
             ],
             [
              0.1111111111111111,
              "#46039f"
             ],
             [
              0.2222222222222222,
              "#7201a8"
             ],
             [
              0.3333333333333333,
              "#9c179e"
             ],
             [
              0.4444444444444444,
              "#bd3786"
             ],
             [
              0.5555555555555556,
              "#d8576b"
             ],
             [
              0.6666666666666666,
              "#ed7953"
             ],
             [
              0.7777777777777778,
              "#fb9f3a"
             ],
             [
              0.8888888888888888,
              "#fdca26"
             ],
             [
              1,
              "#f0f921"
             ]
            ],
            "type": "contour"
           }
          ],
          "contourcarpet": [
           {
            "colorbar": {
             "outlinewidth": 0,
             "ticks": ""
            },
            "type": "contourcarpet"
           }
          ],
          "heatmap": [
           {
            "colorbar": {
             "outlinewidth": 0,
             "ticks": ""
            },
            "colorscale": [
             [
              0,
              "#0d0887"
             ],
             [
              0.1111111111111111,
              "#46039f"
             ],
             [
              0.2222222222222222,
              "#7201a8"
             ],
             [
              0.3333333333333333,
              "#9c179e"
             ],
             [
              0.4444444444444444,
              "#bd3786"
             ],
             [
              0.5555555555555556,
              "#d8576b"
             ],
             [
              0.6666666666666666,
              "#ed7953"
             ],
             [
              0.7777777777777778,
              "#fb9f3a"
             ],
             [
              0.8888888888888888,
              "#fdca26"
             ],
             [
              1,
              "#f0f921"
             ]
            ],
            "type": "heatmap"
           }
          ],
          "heatmapgl": [
           {
            "colorbar": {
             "outlinewidth": 0,
             "ticks": ""
            },
            "colorscale": [
             [
              0,
              "#0d0887"
             ],
             [
              0.1111111111111111,
              "#46039f"
             ],
             [
              0.2222222222222222,
              "#7201a8"
             ],
             [
              0.3333333333333333,
              "#9c179e"
             ],
             [
              0.4444444444444444,
              "#bd3786"
             ],
             [
              0.5555555555555556,
              "#d8576b"
             ],
             [
              0.6666666666666666,
              "#ed7953"
             ],
             [
              0.7777777777777778,
              "#fb9f3a"
             ],
             [
              0.8888888888888888,
              "#fdca26"
             ],
             [
              1,
              "#f0f921"
             ]
            ],
            "type": "heatmapgl"
           }
          ],
          "histogram": [
           {
            "marker": {
             "pattern": {
              "fillmode": "overlay",
              "size": 10,
              "solidity": 0.2
             }
            },
            "type": "histogram"
           }
          ],
          "histogram2d": [
           {
            "colorbar": {
             "outlinewidth": 0,
             "ticks": ""
            },
            "colorscale": [
             [
              0,
              "#0d0887"
             ],
             [
              0.1111111111111111,
              "#46039f"
             ],
             [
              0.2222222222222222,
              "#7201a8"
             ],
             [
              0.3333333333333333,
              "#9c179e"
             ],
             [
              0.4444444444444444,
              "#bd3786"
             ],
             [
              0.5555555555555556,
              "#d8576b"
             ],
             [
              0.6666666666666666,
              "#ed7953"
             ],
             [
              0.7777777777777778,
              "#fb9f3a"
             ],
             [
              0.8888888888888888,
              "#fdca26"
             ],
             [
              1,
              "#f0f921"
             ]
            ],
            "type": "histogram2d"
           }
          ],
          "histogram2dcontour": [
           {
            "colorbar": {
             "outlinewidth": 0,
             "ticks": ""
            },
            "colorscale": [
             [
              0,
              "#0d0887"
             ],
             [
              0.1111111111111111,
              "#46039f"
             ],
             [
              0.2222222222222222,
              "#7201a8"
             ],
             [
              0.3333333333333333,
              "#9c179e"
             ],
             [
              0.4444444444444444,
              "#bd3786"
             ],
             [
              0.5555555555555556,
              "#d8576b"
             ],
             [
              0.6666666666666666,
              "#ed7953"
             ],
             [
              0.7777777777777778,
              "#fb9f3a"
             ],
             [
              0.8888888888888888,
              "#fdca26"
             ],
             [
              1,
              "#f0f921"
             ]
            ],
            "type": "histogram2dcontour"
           }
          ],
          "mesh3d": [
           {
            "colorbar": {
             "outlinewidth": 0,
             "ticks": ""
            },
            "type": "mesh3d"
           }
          ],
          "parcoords": [
           {
            "line": {
             "colorbar": {
              "outlinewidth": 0,
              "ticks": ""
             }
            },
            "type": "parcoords"
           }
          ],
          "pie": [
           {
            "automargin": true,
            "type": "pie"
           }
          ],
          "scatter": [
           {
            "marker": {
             "line": {
              "color": "#283442"
             }
            },
            "type": "scatter"
           }
          ],
          "scatter3d": [
           {
            "line": {
             "colorbar": {
              "outlinewidth": 0,
              "ticks": ""
             }
            },
            "marker": {
             "colorbar": {
              "outlinewidth": 0,
              "ticks": ""
             }
            },
            "type": "scatter3d"
           }
          ],
          "scattercarpet": [
           {
            "marker": {
             "colorbar": {
              "outlinewidth": 0,
              "ticks": ""
             }
            },
            "type": "scattercarpet"
           }
          ],
          "scattergeo": [
           {
            "marker": {
             "colorbar": {
              "outlinewidth": 0,
              "ticks": ""
             }
            },
            "type": "scattergeo"
           }
          ],
          "scattergl": [
           {
            "marker": {
             "line": {
              "color": "#283442"
             }
            },
            "type": "scattergl"
           }
          ],
          "scattermapbox": [
           {
            "marker": {
             "colorbar": {
              "outlinewidth": 0,
              "ticks": ""
             }
            },
            "type": "scattermapbox"
           }
          ],
          "scatterpolar": [
           {
            "marker": {
             "colorbar": {
              "outlinewidth": 0,
              "ticks": ""
             }
            },
            "type": "scatterpolar"
           }
          ],
          "scatterpolargl": [
           {
            "marker": {
             "colorbar": {
              "outlinewidth": 0,
              "ticks": ""
             }
            },
            "type": "scatterpolargl"
           }
          ],
          "scatterternary": [
           {
            "marker": {
             "colorbar": {
              "outlinewidth": 0,
              "ticks": ""
             }
            },
            "type": "scatterternary"
           }
          ],
          "surface": [
           {
            "colorbar": {
             "outlinewidth": 0,
             "ticks": ""
            },
            "colorscale": [
             [
              0,
              "#0d0887"
             ],
             [
              0.1111111111111111,
              "#46039f"
             ],
             [
              0.2222222222222222,
              "#7201a8"
             ],
             [
              0.3333333333333333,
              "#9c179e"
             ],
             [
              0.4444444444444444,
              "#bd3786"
             ],
             [
              0.5555555555555556,
              "#d8576b"
             ],
             [
              0.6666666666666666,
              "#ed7953"
             ],
             [
              0.7777777777777778,
              "#fb9f3a"
             ],
             [
              0.8888888888888888,
              "#fdca26"
             ],
             [
              1,
              "#f0f921"
             ]
            ],
            "type": "surface"
           }
          ],
          "table": [
           {
            "cells": {
             "fill": {
              "color": "#506784"
             },
             "line": {
              "color": "rgb(17,17,17)"
             }
            },
            "header": {
             "fill": {
              "color": "#2a3f5f"
             },
             "line": {
              "color": "rgb(17,17,17)"
             }
            },
            "type": "table"
           }
          ]
         },
         "layout": {
          "annotationdefaults": {
           "arrowcolor": "#f2f5fa",
           "arrowhead": 0,
           "arrowwidth": 1
          },
          "autotypenumbers": "strict",
          "coloraxis": {
           "colorbar": {
            "outlinewidth": 0,
            "ticks": ""
           }
          },
          "colorscale": {
           "diverging": [
            [
             0,
             "#8e0152"
            ],
            [
             0.1,
             "#c51b7d"
            ],
            [
             0.2,
             "#de77ae"
            ],
            [
             0.3,
             "#f1b6da"
            ],
            [
             0.4,
             "#fde0ef"
            ],
            [
             0.5,
             "#f7f7f7"
            ],
            [
             0.6,
             "#e6f5d0"
            ],
            [
             0.7,
             "#b8e186"
            ],
            [
             0.8,
             "#7fbc41"
            ],
            [
             0.9,
             "#4d9221"
            ],
            [
             1,
             "#276419"
            ]
           ],
           "sequential": [
            [
             0,
             "#0d0887"
            ],
            [
             0.1111111111111111,
             "#46039f"
            ],
            [
             0.2222222222222222,
             "#7201a8"
            ],
            [
             0.3333333333333333,
             "#9c179e"
            ],
            [
             0.4444444444444444,
             "#bd3786"
            ],
            [
             0.5555555555555556,
             "#d8576b"
            ],
            [
             0.6666666666666666,
             "#ed7953"
            ],
            [
             0.7777777777777778,
             "#fb9f3a"
            ],
            [
             0.8888888888888888,
             "#fdca26"
            ],
            [
             1,
             "#f0f921"
            ]
           ],
           "sequentialminus": [
            [
             0,
             "#0d0887"
            ],
            [
             0.1111111111111111,
             "#46039f"
            ],
            [
             0.2222222222222222,
             "#7201a8"
            ],
            [
             0.3333333333333333,
             "#9c179e"
            ],
            [
             0.4444444444444444,
             "#bd3786"
            ],
            [
             0.5555555555555556,
             "#d8576b"
            ],
            [
             0.6666666666666666,
             "#ed7953"
            ],
            [
             0.7777777777777778,
             "#fb9f3a"
            ],
            [
             0.8888888888888888,
             "#fdca26"
            ],
            [
             1,
             "#f0f921"
            ]
           ]
          },
          "colorway": [
           "#636efa",
           "#EF553B",
           "#00cc96",
           "#ab63fa",
           "#FFA15A",
           "#19d3f3",
           "#FF6692",
           "#B6E880",
           "#FF97FF",
           "#FECB52"
          ],
          "font": {
           "color": "#f2f5fa"
          },
          "geo": {
           "bgcolor": "rgb(17,17,17)",
           "lakecolor": "rgb(17,17,17)",
           "landcolor": "rgb(17,17,17)",
           "showlakes": true,
           "showland": true,
           "subunitcolor": "#506784"
          },
          "hoverlabel": {
           "align": "left"
          },
          "hovermode": "closest",
          "mapbox": {
           "style": "dark"
          },
          "paper_bgcolor": "rgb(17,17,17)",
          "plot_bgcolor": "rgb(17,17,17)",
          "polar": {
           "angularaxis": {
            "gridcolor": "#506784",
            "linecolor": "#506784",
            "ticks": ""
           },
           "bgcolor": "rgb(17,17,17)",
           "radialaxis": {
            "gridcolor": "#506784",
            "linecolor": "#506784",
            "ticks": ""
           }
          },
          "scene": {
           "xaxis": {
            "backgroundcolor": "rgb(17,17,17)",
            "gridcolor": "#506784",
            "gridwidth": 2,
            "linecolor": "#506784",
            "showbackground": true,
            "ticks": "",
            "zerolinecolor": "#C8D4E3"
           },
           "yaxis": {
            "backgroundcolor": "rgb(17,17,17)",
            "gridcolor": "#506784",
            "gridwidth": 2,
            "linecolor": "#506784",
            "showbackground": true,
            "ticks": "",
            "zerolinecolor": "#C8D4E3"
           },
           "zaxis": {
            "backgroundcolor": "rgb(17,17,17)",
            "gridcolor": "#506784",
            "gridwidth": 2,
            "linecolor": "#506784",
            "showbackground": true,
            "ticks": "",
            "zerolinecolor": "#C8D4E3"
           }
          },
          "shapedefaults": {
           "line": {
            "color": "#f2f5fa"
           }
          },
          "sliderdefaults": {
           "bgcolor": "#C8D4E3",
           "bordercolor": "rgb(17,17,17)",
           "borderwidth": 1,
           "tickwidth": 0
          },
          "ternary": {
           "aaxis": {
            "gridcolor": "#506784",
            "linecolor": "#506784",
            "ticks": ""
           },
           "baxis": {
            "gridcolor": "#506784",
            "linecolor": "#506784",
            "ticks": ""
           },
           "bgcolor": "rgb(17,17,17)",
           "caxis": {
            "gridcolor": "#506784",
            "linecolor": "#506784",
            "ticks": ""
           }
          },
          "title": {
           "x": 0.05
          },
          "updatemenudefaults": {
           "bgcolor": "#506784",
           "borderwidth": 0
          },
          "xaxis": {
           "automargin": true,
           "gridcolor": "#283442",
           "linecolor": "#506784",
           "ticks": "",
           "title": {
            "standoff": 15
           },
           "zerolinecolor": "#283442",
           "zerolinewidth": 2
          },
          "yaxis": {
           "automargin": true,
           "gridcolor": "#283442",
           "linecolor": "#506784",
           "ticks": "",
           "title": {
            "standoff": 15
           },
           "zerolinecolor": "#283442",
           "zerolinewidth": 2
          }
         }
        },
        "title": {
         "text": "News Article Clusters"
        },
        "xaxis": {
         "anchor": "y",
         "domain": [
          0,
          1
         ],
         "title": {
          "text": "x"
         }
        },
        "yaxis": {
         "anchor": "x",
         "domain": [
          0,
          1
         ],
         "title": {
          "text": "y"
         }
        }
       }
      }
     },
     "metadata": {},
     "output_type": "display_data"
    }
   ],
   "source": []
  }
 ],
 "metadata": {
  "kernelspec": {
   "display_name": "base",
   "language": "python",
   "name": "python3"
  },
  "language_info": {
   "codemirror_mode": {
    "name": "ipython",
    "version": 3
   },
   "file_extension": ".py",
   "mimetype": "text/x-python",
   "name": "python",
   "nbconvert_exporter": "python",
   "pygments_lexer": "ipython3",
   "version": "3.10.14"
  },
  "orig_nbformat": 4,
  "vscode": {
   "interpreter": {
    "hash": "4f9d4f5500e5fa8cb2762b8bf86dd8a63cbe4882e3c147fc2b711e49abe0f670"
   }
  }
 },
 "nbformat": 4,
 "nbformat_minor": 2
}
